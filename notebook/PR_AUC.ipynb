{
 "cells": [
  {
   "cell_type": "code",
   "execution_count": 6,
   "id": "civil-invitation",
   "metadata": {},
   "outputs": [],
   "source": [
    "import matplotlib.pyplot as plt\n",
    "import numpy as np\n",
    "import pickle\n",
    "import pandas as pd"
   ]
  },
  {
   "cell_type": "code",
   "execution_count": 7,
   "id": "subsequent-leone",
   "metadata": {},
   "outputs": [],
   "source": [
    "import os"
   ]
  },
  {
   "cell_type": "code",
   "execution_count": 8,
   "id": "narrative-equation",
   "metadata": {},
   "outputs": [
    {
     "data": {
      "text/plain": [
       "['pr_den_03.csv',\n",
       " 'pr_den_05.csv',\n",
       " 'pr_den_06.csv',\n",
       " 'pr_den_07.csv',\n",
       " 'pr_res_26.csv',\n",
       " 'pr_res_28.csv',\n",
       " 'pr_res_29.csv',\n",
       " 'pr_res_30.csv',\n",
       " 'pr_res_31.csv',\n",
       " 'pr_res_32.csv',\n",
       " 'pr_res_37.csv',\n",
       " 'pr_res_38.csv',\n",
       " 'pr_res_40.csv',\n",
       " 'pr_res_41.csv',\n",
       " 'pr_sq_05.csv',\n",
       " 'pr_sq_06.csv',\n",
       " 'pr_sq_07.csv',\n",
       " 'pr_sq_08.csv',\n",
       " 'pr_sq_09.csv',\n",
       " 'pr_sq_10.csv',\n",
       " 'pr_sq_11.csv',\n",
       " 'pr_sq_14.csv',\n",
       " 'pr_sq_15.csv',\n",
       " 'pr_sq_16.csv',\n",
       " 'pr_sq_17.csv']"
      ]
     },
     "execution_count": 8,
     "metadata": {},
     "output_type": "execute_result"
    }
   ],
   "source": [
    "os.listdir('../cg_experiment/prcurve/')"
   ]
  },
  {
   "cell_type": "markdown",
   "id": "directed-toddler",
   "metadata": {},
   "source": [
    "## resnet"
   ]
  },
  {
   "cell_type": "code",
   "execution_count": 66,
   "id": "infinite-amazon",
   "metadata": {},
   "outputs": [],
   "source": [
    "def auc_and_curve(f1, f2, f3):\n",
    "  pr1 = pd.read_csv('prcurve/' + f1 + '.csv')\n",
    "  pr2 = pd.read_csv('prcurve/' + f2 + '.csv')\n",
    "  try:\n",
    "    pr3 = pd.read_csv('prcurve/' + f3 + '.csv')\n",
    "  except:\n",
    "    pass\n",
    "  \n",
    "  auc1 = auc(pr1.recall, pr1.precision)\n",
    "  auc2 = auc(pr2.recall, pr2.precision)\n",
    "  try:\n",
    "    auc3 = auc(pr3.recall, pr3.precision)\n",
    "  except:\n",
    "    pass\n",
    "  \n",
    "  try:\n",
    "    auc_avg = np.mean([auc1, auc2, auc3])\n",
    "  except:\n",
    "    auc_avg = np.mean([auc1, auc2])\n",
    "  \n",
    "  return np.round(auc_avg, 4), np.std([auc1, auc2,])/np.sqrt(2)"
   ]
  },
  {
   "cell_type": "code",
   "execution_count": 55,
   "id": "processed-confirmation",
   "metadata": {},
   "outputs": [
    {
     "data": {
      "text/plain": [
       "(0.9795, 0.001070573021078737)"
      ]
     },
     "execution_count": 55,
     "metadata": {},
     "output_type": "execute_result"
    }
   ],
   "source": [
    "## pipeline 1\n",
    "auc_and_curve('pr_res_37', 'pr_res_38', 'pr_res_39')"
   ]
  },
  {
   "cell_type": "code",
   "execution_count": 51,
   "id": "afraid-consciousness",
   "metadata": {},
   "outputs": [
    {
     "data": {
      "text/plain": [
       "(0.9424, 0.013393718276062073)"
      ]
     },
     "execution_count": 51,
     "metadata": {},
     "output_type": "execute_result"
    }
   ],
   "source": [
    "## pipeline 2\n",
    "auc_and_curve('pr_res_26', 'pr_res_28', 'pr_res_40')"
   ]
  },
  {
   "cell_type": "code",
   "execution_count": 56,
   "id": "fifty-walnut",
   "metadata": {},
   "outputs": [
    {
     "data": {
      "text/plain": [
       "(0.9291, 0.004721543426073972)"
      ]
     },
     "execution_count": 56,
     "metadata": {},
     "output_type": "execute_result"
    }
   ],
   "source": [
    "## pipeline 3\n",
    "auc_and_curve('pr_res_29', 'pr_res_30', 'pr_res_39')"
   ]
  },
  {
   "cell_type": "code",
   "execution_count": 53,
   "id": "equipped-crash",
   "metadata": {},
   "outputs": [
    {
     "data": {
      "text/plain": [
       "(0.9634, 0.0020796178559227326)"
      ]
     },
     "execution_count": 53,
     "metadata": {},
     "output_type": "execute_result"
    }
   ],
   "source": [
    "## 4\n",
    "auc_and_curve('pr_res_31', 'pr_res_32', 'pr_res_41')"
   ]
  },
  {
   "cell_type": "markdown",
   "id": "regulated-christianity",
   "metadata": {},
   "source": [
    "## SqueezeNet"
   ]
  },
  {
   "cell_type": "code",
   "execution_count": 62,
   "id": "precious-choice",
   "metadata": {},
   "outputs": [
    {
     "data": {
      "text/plain": [
       "(0.9733, 0.0007863647772311612)"
      ]
     },
     "execution_count": 62,
     "metadata": {},
     "output_type": "execute_result"
    }
   ],
   "source": [
    "##1\n",
    "auc_and_curve('pr_sq_05', 'pr_sq_06', 'pr_sq_17')"
   ]
  },
  {
   "cell_type": "code",
   "execution_count": 63,
   "id": "previous-mexico",
   "metadata": {},
   "outputs": [
    {
     "data": {
      "text/plain": [
       "(0.968, 0.0010262375860061684)"
      ]
     },
     "execution_count": 63,
     "metadata": {},
     "output_type": "execute_result"
    }
   ],
   "source": [
    "##2\n",
    "auc_and_curve('pr_sq_07', 'pr_sq_08', 'pr_sq_16')"
   ]
  },
  {
   "cell_type": "code",
   "execution_count": 64,
   "id": "nonprofit-short",
   "metadata": {},
   "outputs": [
    {
     "data": {
      "text/plain": [
       "(0.9693, 0.0005726715110376056)"
      ]
     },
     "execution_count": 64,
     "metadata": {},
     "output_type": "execute_result"
    }
   ],
   "source": [
    "##3\n",
    "auc_and_curve('pr_sq_09', 'pr_sq_10', 'pr_sq_15')"
   ]
  },
  {
   "cell_type": "code",
   "execution_count": 67,
   "id": "statewide-uncertainty",
   "metadata": {},
   "outputs": [
    {
     "data": {
      "text/plain": [
       "(0.9657, 0.001217965362406998)"
      ]
     },
     "execution_count": 67,
     "metadata": {},
     "output_type": "execute_result"
    }
   ],
   "source": [
    "##4\n",
    "auc_and_curve('pr_sq_11', 'pr_sq_14', 'pr_sq_12')"
   ]
  },
  {
   "cell_type": "markdown",
   "id": "middle-cross",
   "metadata": {},
   "source": [
    "## DenseNet"
   ]
  },
  {
   "cell_type": "code",
   "execution_count": 35,
   "id": "textile-feelings",
   "metadata": {},
   "outputs": [],
   "source": [
    "pr1 = pd.read_csv('prcurve/pr_den_03.csv') #1\n",
    "pr2 = pd.read_csv('prcurve/pr_den_05.csv') #2\n",
    "pr3 = pd.read_csv('prcurve/pr_den_06.csv') #3\n",
    "pr4 = pd.read_csv('prcurve/pr_den_07.csv') #4"
   ]
  },
  {
   "cell_type": "code",
   "execution_count": 36,
   "id": "worse-output",
   "metadata": {},
   "outputs": [],
   "source": [
    "auc1 = auc(pr1.recall, pr1.precision)\n",
    "auc2 = auc(pr2.recall, pr2.precision)\n",
    "auc3 = auc(pr3.recall, pr3.precision)\n",
    "auc4 = auc(pr4.recall, pr4.precision)"
   ]
  },
  {
   "cell_type": "code",
   "execution_count": 37,
   "id": "foster-nickname",
   "metadata": {},
   "outputs": [
    {
     "data": {
      "text/plain": [
       "[0.995, 0.9956, 0.9945, 0.9939]"
      ]
     },
     "execution_count": 37,
     "metadata": {},
     "output_type": "execute_result"
    }
   ],
   "source": [
    "[np.round(i, 4) for i in [auc1, auc2, auc3, auc4]]  "
   ]
  },
  {
   "cell_type": "code",
   "execution_count": 38,
   "id": "western-business",
   "metadata": {},
   "outputs": [],
   "source": [
    "from sklearn.metrics import auc, plot_precision_recall_curve\n"
   ]
  },
  {
   "cell_type": "code",
   "execution_count": 13,
   "id": "entire-rubber",
   "metadata": {},
   "outputs": [],
   "source": [
    "auc1 = auc(pr1.recall, pr1.precision)\n",
    "auc2 = auc(pr2.recall, pr2.precision)\n",
    "auc3 = auc(pr3.recall, pr3.precision)"
   ]
  },
  {
   "cell_type": "code",
   "execution_count": 15,
   "id": "functioning-fault",
   "metadata": {},
   "outputs": [],
   "source": [
    "auc_avg = np.mean([auc1, auc2, auc3])"
   ]
  },
  {
   "cell_type": "code",
   "execution_count": 16,
   "id": "biblical-sierra",
   "metadata": {},
   "outputs": [
    {
     "data": {
      "text/plain": [
       "0.9423546757748372"
      ]
     },
     "execution_count": 16,
     "metadata": {},
     "output_type": "execute_result"
    }
   ],
   "source": [
    "auc_avg"
   ]
  },
  {
   "cell_type": "code",
   "execution_count": null,
   "id": "satellite-object",
   "metadata": {},
   "outputs": [],
   "source": [
    "`"
   ]
  }
 ],
 "metadata": {
  "kernelspec": {
   "display_name": "Python 3",
   "language": "python",
   "name": "python3"
  },
  "language_info": {
   "codemirror_mode": {
    "name": "ipython",
    "version": 3
   },
   "file_extension": ".py",
   "mimetype": "text/x-python",
   "name": "python",
   "nbconvert_exporter": "python",
   "pygments_lexer": "ipython3",
   "version": "3.8.5"
  }
 },
 "nbformat": 4,
 "nbformat_minor": 5
}
