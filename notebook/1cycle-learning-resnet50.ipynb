{
 "cells": [
  {
   "cell_type": "markdown",
   "metadata": {
    "papermill": {
     "duration": 0.046095,
     "end_time": "2021-04-23T01:56:07.056371",
     "exception": false,
     "start_time": "2021-04-23T01:56:07.010276",
     "status": "completed"
    },
    "tags": []
   },
   "source": [
    "## Four-class classification\n",
    "I added **bacteria pneumonia** images and use ResNet50 to build a three-class classifier\n",
    "\n",
    "## Acknowledgement\n",
    "\n",
    "Most of the code here is based on [this notebook](https://www.kaggle.com/dabawse/covid-19-classification-with-resnet50) by Jeebz."
   ]
  },
  {
   "cell_type": "markdown",
   "metadata": {
    "papermill": {
     "duration": 0.05034,
     "end_time": "2021-04-23T01:56:07.151886",
     "exception": false,
     "start_time": "2021-04-23T01:56:07.101546",
     "status": "completed"
    },
    "tags": []
   },
   "source": [
    "## 04-17\n",
    "* Change into Train, Valid and Test as 6:2:2\n",
    "\n",
    "## 04-11\n",
    "* Augmentor\n",
    "* Select images of bacteria from each patients"
   ]
  },
  {
   "cell_type": "code",
   "execution_count": 1,
   "metadata": {
    "execution": {
     "iopub.execute_input": "2021-04-23T01:56:07.247048Z",
     "iopub.status.busy": "2021-04-23T01:56:07.246501Z",
     "iopub.status.idle": "2021-04-23T01:56:08.854169Z",
     "shell.execute_reply": "2021-04-23T01:56:08.852768Z"
    },
    "papermill": {
     "duration": 1.65813,
     "end_time": "2021-04-23T01:56:08.854386",
     "exception": false,
     "start_time": "2021-04-23T01:56:07.196256",
     "status": "completed"
    },
    "tags": []
   },
   "outputs": [],
   "source": [
    "import torch\n",
    "from torchvision import datasets, models, transforms\n",
    "import torch.nn as nn\n",
    "import torch.optim as optim\n",
    "\n",
    "import pandas as pd\n",
    "import numpy as np\n",
    "import cv2\n",
    "import matplotlib.pyplot as plt\n",
    "import warnings\n",
    "import random\n",
    "\n",
    "import os\n",
    "import itertools\n",
    "import glob\n",
    "import shutil\n",
    "\n",
    "warnings.filterwarnings('ignore')"
   ]
  },
  {
   "cell_type": "code",
   "execution_count": 2,
   "metadata": {
    "execution": {
     "iopub.execute_input": "2021-04-23T01:56:08.948793Z",
     "iopub.status.busy": "2021-04-23T01:56:08.948028Z",
     "iopub.status.idle": "2021-04-23T01:56:08.950868Z",
     "shell.execute_reply": "2021-04-23T01:56:08.950456Z"
    },
    "papermill": {
     "duration": 0.051488,
     "end_time": "2021-04-23T01:56:08.950979",
     "exception": false,
     "start_time": "2021-04-23T01:56:08.899491",
     "status": "completed"
    },
    "tags": []
   },
   "outputs": [],
   "source": [
    "import torch.nn.functional as F"
   ]
  },
  {
   "cell_type": "code",
   "execution_count": 3,
   "metadata": {
    "execution": {
     "iopub.execute_input": "2021-04-23T01:56:09.044491Z",
     "iopub.status.busy": "2021-04-23T01:56:09.043864Z",
     "iopub.status.idle": "2021-04-23T01:56:16.651372Z",
     "shell.execute_reply": "2021-04-23T01:56:16.650844Z"
    },
    "papermill": {
     "duration": 7.655778,
     "end_time": "2021-04-23T01:56:16.651503",
     "exception": false,
     "start_time": "2021-04-23T01:56:08.995725",
     "status": "completed"
    },
    "tags": []
   },
   "outputs": [
    {
     "name": "stdout",
     "output_type": "stream",
     "text": [
      "Collecting Augmentor\r\n",
      "  Downloading Augmentor-0.2.8-py2.py3-none-any.whl (38 kB)\r\n",
      "Requirement already satisfied: tqdm>=4.9.0 in /opt/conda/lib/python3.7/site-packages (from Augmentor) (4.55.1)\r\n",
      "Requirement already satisfied: Pillow>=5.2.0 in /opt/conda/lib/python3.7/site-packages (from Augmentor) (7.2.0)\r\n",
      "Requirement already satisfied: numpy>=1.11.0 in /opt/conda/lib/python3.7/site-packages (from Augmentor) (1.19.5)\r\n",
      "Requirement already satisfied: future>=0.16.0 in /opt/conda/lib/python3.7/site-packages (from Augmentor) (0.18.2)\r\n",
      "Installing collected packages: Augmentor\r\n",
      "Successfully installed Augmentor-0.2.8\r\n"
     ]
    }
   ],
   "source": [
    "!pip install Augmentor\n"
   ]
  },
  {
   "cell_type": "code",
   "execution_count": 4,
   "metadata": {
    "execution": {
     "iopub.execute_input": "2021-04-23T01:56:16.751288Z",
     "iopub.status.busy": "2021-04-23T01:56:16.750519Z",
     "iopub.status.idle": "2021-04-23T01:56:16.758626Z",
     "shell.execute_reply": "2021-04-23T01:56:16.758099Z"
    },
    "papermill": {
     "duration": 0.059023,
     "end_time": "2021-04-23T01:56:16.758738",
     "exception": false,
     "start_time": "2021-04-23T01:56:16.699715",
     "status": "completed"
    },
    "tags": []
   },
   "outputs": [],
   "source": [
    "import Augmentor"
   ]
  },
  {
   "cell_type": "code",
   "execution_count": 5,
   "metadata": {
    "execution": {
     "iopub.execute_input": "2021-04-23T01:56:16.856865Z",
     "iopub.status.busy": "2021-04-23T01:56:16.855293Z",
     "iopub.status.idle": "2021-04-23T01:56:16.857567Z",
     "shell.execute_reply": "2021-04-23T01:56:16.857970Z"
    },
    "papermill": {
     "duration": 0.052951,
     "end_time": "2021-04-23T01:56:16.858091",
     "exception": false,
     "start_time": "2021-04-23T01:56:16.805140",
     "status": "completed"
    },
    "tags": []
   },
   "outputs": [],
   "source": [
    "\n",
    "files = glob.glob('/kaggle/working/*/*/*.png')\n",
    "for f in files:\n",
    "    os.remove(f)"
   ]
  },
  {
   "cell_type": "markdown",
   "metadata": {
    "papermill": {
     "duration": 0.046417,
     "end_time": "2021-04-23T01:56:16.951010",
     "exception": false,
     "start_time": "2021-04-23T01:56:16.904593",
     "status": "completed"
    },
    "tags": []
   },
   "source": [
    "## Data Preprossessing"
   ]
  },
  {
   "cell_type": "code",
   "execution_count": 6,
   "metadata": {
    "execution": {
     "iopub.execute_input": "2021-04-23T01:56:17.049751Z",
     "iopub.status.busy": "2021-04-23T01:56:17.048570Z",
     "iopub.status.idle": "2021-04-23T01:56:17.051508Z",
     "shell.execute_reply": "2021-04-23T01:56:17.051073Z"
    },
    "papermill": {
     "duration": 0.053227,
     "end_time": "2021-04-23T01:56:17.051616",
     "exception": false,
     "start_time": "2021-04-23T01:56:16.998389",
     "status": "completed"
    },
    "tags": []
   },
   "outputs": [],
   "source": [
    "# ## count the number of bacteria\n",
    "# num_bacteria = 0\n",
    "# for phase in ['train', 'test', 'val']:\n",
    "#     for i in os.listdir('/kaggle/input/chest-xray-pneumonia/chest_xray/' + phase + '/PNEUMONIA/'):\n",
    "#         if i.split('_')[1] == 'bacteria':\n",
    "#             num_bacteria+=1\n",
    "# print('number of bacteria images: ', num_bacteria)\n",
    "\n"
   ]
  },
  {
   "cell_type": "markdown",
   "metadata": {
    "papermill": {
     "duration": 0.046366,
     "end_time": "2021-04-23T01:56:17.144789",
     "exception": false,
     "start_time": "2021-04-23T01:56:17.098423",
     "status": "completed"
    },
    "tags": []
   },
   "source": [
    "### Image visualization"
   ]
  },
  {
   "cell_type": "code",
   "execution_count": 7,
   "metadata": {
    "execution": {
     "iopub.execute_input": "2021-04-23T01:56:17.265352Z",
     "iopub.status.busy": "2021-04-23T01:56:17.264535Z",
     "iopub.status.idle": "2021-04-23T01:56:19.379224Z",
     "shell.execute_reply": "2021-04-23T01:56:19.379684Z"
    },
    "papermill": {
     "duration": 2.187789,
     "end_time": "2021-04-23T01:56:19.379846",
     "exception": false,
     "start_time": "2021-04-23T01:56:17.192057",
     "status": "completed"
    },
    "tags": []
   },
   "outputs": [
    {
     "data": {
      "text/plain": [
       "<matplotlib.image.AxesImage at 0x7efbeca55150>"
      ]
     },
     "execution_count": 7,
     "metadata": {},
     "output_type": "execute_result"
    },
    {
     "data": {
      "image/png": "[encoded data removed]",
      "text/plain": [
       "<Figure size 720x720 with 9 Axes>"
      ]
     },
     "metadata": {
      "needs_background": "light"
     },
     "output_type": "display_data"
    }
   ],
   "source": [
    "## check the images in the chest x ray data set\n",
    "normal_path = '/kaggle/input/chest-xray-pneumonia/chest_xray/train/NORMAL/'\n",
    "pneu_path = '/kaggle/input/chest-xray-pneumonia/chest_xray/train/PNEUMONIA/'\n",
    "fig, axes = plt.subplots(3, 3, figsize=(10, 10))\n",
    "axes[0][0].imshow(cv2.imread(normal_path + os.listdir(normal_path)[0]))\n",
    "axes[0][0].set_title('normal')\n",
    "axes[1][0].imshow(cv2.imread(normal_path + os.listdir(normal_path)[1]))\n",
    "axes[2][0].imshow(cv2.imread(normal_path + os.listdir(normal_path)[2]))\n",
    "\n",
    "axes[0][1].imshow(cv2.imread(pneu_path + os.listdir(pneu_path)[0]))\n",
    "axes[0][1].set_title('viral')\n",
    "axes[1][1].imshow(cv2.imread(pneu_path + os.listdir(pneu_path)[1]))\n",
    "axes[2][1].imshow(cv2.imread(pneu_path + os.listdir(pneu_path)[2]))\n",
    "\n",
    "axes[0][2].imshow(cv2.imread(pneu_path + os.listdir(pneu_path)[5]))\n",
    "axes[0][2].set_title('bacterial')\n",
    "axes[1][2].imshow(cv2.imread(pneu_path + os.listdir(pneu_path)[8]))\n",
    "axes[2][2].imshow(cv2.imread(pneu_path + os.listdir(pneu_path)[9]))"
   ]
  },
  {
   "cell_type": "code",
   "execution_count": 8,
   "metadata": {
    "execution": {
     "iopub.execute_input": "2021-04-23T01:56:19.585322Z",
     "iopub.status.busy": "2021-04-23T01:56:19.584605Z",
     "iopub.status.idle": "2021-04-23T01:56:19.586605Z",
     "shell.execute_reply": "2021-04-23T01:56:19.585914Z"
    },
    "papermill": {
     "duration": 0.103181,
     "end_time": "2021-04-23T01:56:19.586778",
     "exception": false,
     "start_time": "2021-04-23T01:56:19.483597",
     "status": "completed"
    },
    "tags": []
   },
   "outputs": [],
   "source": [
    "## check images in the COVID radiography dataset\n",
    "covid_path = '../input/covid19-radiography-database/COVID-19_Radiography_Dataset/COVID/'\n",
    "normal_path = '../input/covid19-radiography-database/COVID-19_Radiography_Dataset/Normal/'\n",
    "viral_path = '../input/covid19-radiography-database/COVID-19_Radiography_Dataset/Viral Pneumonia/'"
   ]
  },
  {
   "cell_type": "code",
   "execution_count": 9,
   "metadata": {
    "execution": {
     "iopub.execute_input": "2021-04-23T01:56:19.767922Z",
     "iopub.status.busy": "2021-04-23T01:56:19.767103Z",
     "iopub.status.idle": "2021-04-23T01:56:20.956559Z",
     "shell.execute_reply": "2021-04-23T01:56:20.956968Z"
    },
    "papermill": {
     "duration": 1.285445,
     "end_time": "2021-04-23T01:56:20.957116",
     "exception": false,
     "start_time": "2021-04-23T01:56:19.671671",
     "status": "completed"
    },
    "tags": []
   },
   "outputs": [
    {
     "data": {
      "image/png": "[encoded data removed]",
      "text/plain": [
       "<Figure size 720x720 with 9 Axes>"
      ]
     },
     "metadata": {
      "needs_background": "light"
     },
     "output_type": "display_data"
    }
   ],
   "source": [
    "fig, axes = plt.subplots(3, 3, figsize=(10, 10))\n",
    "labels = ['Covid', 'Normal', 'Pneumonia']\n",
    "axes[0][0].imshow(cv2.imread(covid_path + 'COVID-1.png'))\n",
    "axes[0][0].set_title('COVID')\n",
    "axes[1][0].imshow(cv2.imread(covid_path + 'COVID-2.png'))\n",
    "axes[2][0].imshow(cv2.imread(covid_path + 'COVID-3.png'))\n",
    "\n",
    "axes[0][1].imshow(cv2.imread(viral_path +'Viral Pneumonia-1.png'))\n",
    "axes[0][1].set_title('Viral Pneumonia')\n",
    "axes[1][1].imshow(cv2.imread(viral_path +'Viral Pneumonia-2.png'))\n",
    "axes[2][1].imshow(cv2.imread(viral_path +'Viral Pneumonia-3.png'))\n",
    "\n",
    "axes[0][2].imshow(cv2.imread(normal_path+'Normal-1.png'))\n",
    "axes[0][2].set_title('Normal')\n",
    "axes[1][2].imshow(cv2.imread(normal_path+'Normal-2.png'))\n",
    "axes[2][2].imshow(cv2.imread(normal_path+'Normal-3.png'));\n"
   ]
  },
  {
   "cell_type": "markdown",
   "metadata": {
    "papermill": {
     "duration": 0.057283,
     "end_time": "2021-04-23T01:56:21.073597",
     "exception": false,
     "start_time": "2021-04-23T01:56:21.016314",
     "status": "completed"
    },
    "tags": []
   },
   "source": [
    "### Organize Data into Train, Valid and Test"
   ]
  },
  {
   "cell_type": "code",
   "execution_count": 10,
   "metadata": {
    "execution": {
     "iopub.execute_input": "2021-04-23T01:56:21.194269Z",
     "iopub.status.busy": "2021-04-23T01:56:21.193703Z",
     "iopub.status.idle": "2021-04-23T01:56:21.198849Z",
     "shell.execute_reply": "2021-04-23T01:56:21.198437Z"
    },
    "papermill": {
     "duration": 0.067993,
     "end_time": "2021-04-23T01:56:21.198963",
     "exception": false,
     "start_time": "2021-04-23T01:56:21.130970",
     "status": "completed"
    },
    "tags": []
   },
   "outputs": [],
   "source": [
    "## making directories\n",
    "os.mkdir('/kaggle/working/train')\n",
    "os.mkdir('/kaggle/working/test')\n",
    "os.mkdir('/kaggle/working/valid')\n",
    "\n",
    "os.mkdir('/kaggle/working/train/covid')\n",
    "os.mkdir('/kaggle/working/test/covid')\n",
    "os.mkdir('/kaggle/working/valid/covid')\n",
    "\n",
    "\n",
    "os.mkdir('/kaggle/working/train/normal')\n",
    "os.mkdir('/kaggle/working/test/normal')\n",
    "os.mkdir('/kaggle/working/valid/normal')\n",
    "\n",
    "os.mkdir('/kaggle/working/train/viral')\n",
    "os.mkdir('/kaggle/working/test/viral')\n",
    "os.mkdir('/kaggle/working/valid/viral')\n",
    "\n",
    "os.mkdir('/kaggle/working/train/bacterial')\n",
    "os.mkdir('/kaggle/working/test/bacterial')\n",
    "os.mkdir('/kaggle/working/valid/bacterial')"
   ]
  },
  {
   "cell_type": "code",
   "execution_count": 11,
   "metadata": {
    "execution": {
     "iopub.execute_input": "2021-04-23T01:56:21.319581Z",
     "iopub.status.busy": "2021-04-23T01:56:21.318355Z",
     "iopub.status.idle": "2021-04-23T01:56:21.322496Z",
     "shell.execute_reply": "2021-04-23T01:56:21.322003Z"
    },
    "papermill": {
     "duration": 0.066762,
     "end_time": "2021-04-23T01:56:21.322603",
     "exception": false,
     "start_time": "2021-04-23T01:56:21.255841",
     "status": "completed"
    },
    "tags": []
   },
   "outputs": [],
   "source": [
    "## making directories for Augmentor \n",
    "## these files will be deleted in the end\n",
    "os.mkdir('/kaggle/working/train_src')\n",
    "os.mkdir('/kaggle/working/test_src')\n",
    "os.mkdir('/kaggle/working/valid_src')\n",
    "\n",
    "\n",
    "os.mkdir('/kaggle/working/train_src/covid')\n",
    "os.mkdir('/kaggle/working/test_src/covid')\n",
    "os.mkdir('/kaggle/working/valid_src/covid')\n",
    "\n",
    "os.mkdir('/kaggle/working/train_src/normal')\n",
    "os.mkdir('/kaggle/working/test_src/normal')\n",
    "os.mkdir('/kaggle/working/valid_src/normal')\n",
    "\n",
    "os.mkdir('/kaggle/working/train_src/viral')\n",
    "os.mkdir('/kaggle/working/test_src/viral')\n",
    "os.mkdir('/kaggle/working/valid_src/viral')\n",
    "\n",
    "os.mkdir('/kaggle/working/train_src/bacterial')\n",
    "os.mkdir('/kaggle/working/test_src/bacterial')\n",
    "os.mkdir('/kaggle/working/valid_src/bacterial')"
   ]
  },
  {
   "cell_type": "code",
   "execution_count": 12,
   "metadata": {
    "execution": {
     "iopub.execute_input": "2021-04-23T01:56:21.443977Z",
     "iopub.status.busy": "2021-04-23T01:56:21.442244Z",
     "iopub.status.idle": "2021-04-23T01:56:21.444576Z",
     "shell.execute_reply": "2021-04-23T01:56:21.444965Z"
    },
    "papermill": {
     "duration": 0.063536,
     "end_time": "2021-04-23T01:56:21.445086",
     "exception": false,
     "start_time": "2021-04-23T01:56:21.381550",
     "status": "completed"
    },
    "tags": []
   },
   "outputs": [],
   "source": [
    "# os.mkdir('/kaggle/working/valid_src')\n",
    "# os.mkdir('/kaggle/working/valid_src/covid')\n",
    "# os.mkdir('/kaggle/working/valid_src/normal')\n",
    "# os.mkdir('/kaggle/working/valid_src/viral')\n",
    "# os.mkdir('/kaggle/working/valid_src/bacterial')"
   ]
  },
  {
   "cell_type": "code",
   "execution_count": 13,
   "metadata": {
    "execution": {
     "iopub.execute_input": "2021-04-23T01:56:21.565244Z",
     "iopub.status.busy": "2021-04-23T01:56:21.564538Z",
     "iopub.status.idle": "2021-04-23T01:56:21.566859Z",
     "shell.execute_reply": "2021-04-23T01:56:21.567367Z"
    },
    "papermill": {
     "duration": 0.064865,
     "end_time": "2021-04-23T01:56:21.567493",
     "exception": false,
     "start_time": "2021-04-23T01:56:21.502628",
     "status": "completed"
    },
    "tags": []
   },
   "outputs": [],
   "source": [
    "## move bacteria to one folder\n",
    "os.mkdir('/kaggle/working/bacteria_merge/')"
   ]
  },
  {
   "cell_type": "code",
   "execution_count": 14,
   "metadata": {
    "execution": {
     "iopub.execute_input": "2021-04-23T01:56:21.690706Z",
     "iopub.status.busy": "2021-04-23T01:56:21.689980Z",
     "iopub.status.idle": "2021-04-23T01:56:37.751527Z",
     "shell.execute_reply": "2021-04-23T01:56:37.750998Z"
    },
    "papermill": {
     "duration": 16.126928,
     "end_time": "2021-04-23T01:56:37.751668",
     "exception": false,
     "start_time": "2021-04-23T01:56:21.624740",
     "status": "completed"
    },
    "tags": []
   },
   "outputs": [],
   "source": [
    "## copy model to the required directory for bacteria images\n",
    "pneu_path = '/kaggle/input/chest-xray-pneumonia/chest_xray/train/PNEUMONIA/'\n",
    "len_pneu_path = len(os.listdir(pneu_path))\n",
    "for img in itertools.islice(glob.iglob(os.path.join(pneu_path, '*.jpeg')), len_pneu_path):\n",
    "    if img.split('/')[-1].split('_')[1] == 'bacteria':\n",
    "\n",
    "        shutil.copy(img, '/kaggle/working/bacteria_merge/')\n",
    "        \n",
    "pneu_path = '/kaggle/input/chest-xray-pneumonia/chest_xray/test/PNEUMONIA/'\n",
    "len_pneu_path = len(os.listdir(pneu_path))\n",
    "for img in itertools.islice(glob.iglob(os.path.join(pneu_path, '*.jpeg')), len_pneu_path):\n",
    "    if img.split('/')[-1].split('_')[1] == 'bacteria':\n",
    "        #print(img.split('/')[-1].split('_')[1])\n",
    "\n",
    "        shutil.copy(img, '/kaggle/working/bacteria_merge/')\n",
    "        \n",
    "pneu_path = '/kaggle/input/chest-xray-pneumonia/chest_xray/val/PNEUMONIA/'\n",
    "len_pneu_path = len(os.listdir(pneu_path))\n",
    "for img in itertools.islice(glob.iglob(os.path.join(pneu_path, '*.jpeg')), len_pneu_path):\n",
    "    if img.split('/')[-1].split('_')[1] == 'bacteria':\n",
    "        #print(img.split('/')[-1].split('_')[1])\n",
    "\n",
    "        shutil.copy(img, '/kaggle/working/bacteria_merge/')"
   ]
  },
  {
   "cell_type": "code",
   "execution_count": 15,
   "metadata": {
    "execution": {
     "iopub.execute_input": "2021-04-23T01:56:37.872445Z",
     "iopub.status.busy": "2021-04-23T01:56:37.871685Z",
     "iopub.status.idle": "2021-04-23T01:56:37.877634Z",
     "shell.execute_reply": "2021-04-23T01:56:37.878037Z"
    },
    "papermill": {
     "duration": 0.067697,
     "end_time": "2021-04-23T01:56:37.878165",
     "exception": false,
     "start_time": "2021-04-23T01:56:37.810468",
     "status": "completed"
    },
    "tags": []
   },
   "outputs": [
    {
     "data": {
      "text/plain": [
       "2780"
      ]
     },
     "execution_count": 15,
     "metadata": {},
     "output_type": "execute_result"
    }
   ],
   "source": [
    "len(os.listdir('/kaggle/working/bacteria_merge/'))"
   ]
  },
  {
   "cell_type": "code",
   "execution_count": 16,
   "metadata": {
    "execution": {
     "iopub.execute_input": "2021-04-23T01:56:37.999506Z",
     "iopub.status.busy": "2021-04-23T01:56:37.998769Z",
     "iopub.status.idle": "2021-04-23T01:56:38.005114Z",
     "shell.execute_reply": "2021-04-23T01:56:38.004601Z"
    },
    "papermill": {
     "duration": 0.068813,
     "end_time": "2021-04-23T01:56:38.005260",
     "exception": false,
     "start_time": "2021-04-23T01:56:37.936447",
     "status": "completed"
    },
    "tags": []
   },
   "outputs": [],
   "source": [
    "patient_list = [int(i.split(\"_\")[0][6:]) for i in os.listdir('/kaggle/working/bacteria_merge/')]"
   ]
  },
  {
   "cell_type": "code",
   "execution_count": 17,
   "metadata": {
    "execution": {
     "iopub.execute_input": "2021-04-23T01:56:38.128392Z",
     "iopub.status.busy": "2021-04-23T01:56:38.126302Z",
     "iopub.status.idle": "2021-04-23T01:56:38.131114Z",
     "shell.execute_reply": "2021-04-23T01:56:38.131547Z"
    },
    "papermill": {
     "duration": 0.068059,
     "end_time": "2021-04-23T01:56:38.131670",
     "exception": false,
     "start_time": "2021-04-23T01:56:38.063611",
     "status": "completed"
    },
    "tags": []
   },
   "outputs": [
    {
     "data": {
      "text/plain": [
       "(1437, 2780)"
      ]
     },
     "execution_count": 17,
     "metadata": {},
     "output_type": "execute_result"
    }
   ],
   "source": [
    "len(np.unique(patient_list)), len(patient_list)"
   ]
  },
  {
   "cell_type": "code",
   "execution_count": 18,
   "metadata": {
    "execution": {
     "iopub.execute_input": "2021-04-23T01:56:38.254355Z",
     "iopub.status.busy": "2021-04-23T01:56:38.253787Z",
     "iopub.status.idle": "2021-04-23T01:56:43.986828Z",
     "shell.execute_reply": "2021-04-23T01:56:43.985808Z"
    },
    "papermill": {
     "duration": 5.79695,
     "end_time": "2021-04-23T01:56:43.986967",
     "exception": false,
     "start_time": "2021-04-23T01:56:38.190017",
     "status": "completed"
    },
    "tags": []
   },
   "outputs": [],
   "source": [
    "selected_list = []\n",
    "for p in np.unique(patient_list):\n",
    "    matched_files = [i for i in os.listdir('/kaggle/working/bacteria_merge/') if int(i.split(\"_\")[0][6:])==p]\n",
    "    if len(matched_files) ==1:\n",
    "        selected_list.append('/kaggle/working/bacteria_merge/' + matched_files[0])\n",
    "    else:\n",
    "        #print('more')\n",
    "        selected_file = random.choice(matched_files)\n",
    "        #print(len(selected_file))\n",
    "        selected_list.append('/kaggle/working/bacteria_merge/' + selected_file)\n",
    "## delete unnecessary file\n"
   ]
  },
  {
   "cell_type": "code",
   "execution_count": 19,
   "metadata": {
    "execution": {
     "iopub.execute_input": "2021-04-23T01:56:44.109617Z",
     "iopub.status.busy": "2021-04-23T01:56:44.108882Z",
     "iopub.status.idle": "2021-04-23T01:56:44.195910Z",
     "shell.execute_reply": "2021-04-23T01:56:44.195394Z"
    },
    "papermill": {
     "duration": 0.149483,
     "end_time": "2021-04-23T01:56:44.196023",
     "exception": false,
     "start_time": "2021-04-23T01:56:44.046540",
     "status": "completed"
    },
    "tags": []
   },
   "outputs": [],
   "source": [
    "files = glob.glob('/kaggle/working/bacteria_merge/*.jpeg')\n",
    "for f in files:\n",
    "    #print(f)\n",
    "    if f not in selected_list:\n",
    "        os.remove(f)"
   ]
  },
  {
   "cell_type": "code",
   "execution_count": 20,
   "metadata": {
    "execution": {
     "iopub.execute_input": "2021-04-23T01:56:44.318324Z",
     "iopub.status.busy": "2021-04-23T01:56:44.317557Z",
     "iopub.status.idle": "2021-04-23T01:56:44.323196Z",
     "shell.execute_reply": "2021-04-23T01:56:44.322754Z"
    },
    "papermill": {
     "duration": 0.068189,
     "end_time": "2021-04-23T01:56:44.323318",
     "exception": false,
     "start_time": "2021-04-23T01:56:44.255129",
     "status": "completed"
    },
    "tags": []
   },
   "outputs": [
    {
     "data": {
      "text/plain": [
       "1437"
      ]
     },
     "execution_count": 20,
     "metadata": {},
     "output_type": "execute_result"
    }
   ],
   "source": [
    "len(os.listdir('/kaggle/working/bacteria_merge/'))"
   ]
  },
  {
   "cell_type": "code",
   "execution_count": 21,
   "metadata": {
    "execution": {
     "iopub.execute_input": "2021-04-23T01:56:44.446244Z",
     "iopub.status.busy": "2021-04-23T01:56:44.445524Z",
     "iopub.status.idle": "2021-04-23T01:57:48.236917Z",
     "shell.execute_reply": "2021-04-23T01:57:48.237339Z"
    },
    "papermill": {
     "duration": 63.855001,
     "end_time": "2021-04-23T01:57:48.237500",
     "exception": false,
     "start_time": "2021-04-23T01:56:44.382499",
     "status": "completed"
    },
    "tags": []
   },
   "outputs": [
    {
     "data": {
      "text/plain": [
       "1437"
      ]
     },
     "execution_count": 21,
     "metadata": {},
     "output_type": "execute_result"
    }
   ],
   "source": [
    "## convert to jpg\n",
    "jpgs = glob.glob('/kaggle/working/bacteria_merge/*.jpeg')\n",
    "\n",
    "for j in jpgs:\n",
    "    img = cv2.imread(j)\n",
    "    cv2.imwrite(j[:-4] + 'png', img)\n",
    "## remove jpeg\n",
    "files = glob.glob('/kaggle/working/bacteria_merge/*.jpeg')\n",
    "for f in files:\n",
    "    os.remove(f)\n",
    "len(os.listdir('/kaggle/working/bacteria_merge/'))"
   ]
  },
  {
   "cell_type": "code",
   "execution_count": 22,
   "metadata": {
    "execution": {
     "iopub.execute_input": "2021-04-23T01:57:48.361856Z",
     "iopub.status.busy": "2021-04-23T01:57:48.360141Z",
     "iopub.status.idle": "2021-04-23T01:57:48.362499Z",
     "shell.execute_reply": "2021-04-23T01:57:48.362895Z"
    },
    "papermill": {
     "duration": 0.065751,
     "end_time": "2021-04-23T01:57:48.363014",
     "exception": false,
     "start_time": "2021-04-23T01:57:48.297263",
     "status": "completed"
    },
    "tags": []
   },
   "outputs": [],
   "source": [
    "bacterial_path = '/kaggle/working/bacteria_merge/'"
   ]
  },
  {
   "cell_type": "code",
   "execution_count": 23,
   "metadata": {
    "execution": {
     "iopub.execute_input": "2021-04-23T01:57:48.490004Z",
     "iopub.status.busy": "2021-04-23T01:57:48.489510Z",
     "iopub.status.idle": "2021-04-23T01:57:49.327615Z",
     "shell.execute_reply": "2021-04-23T01:57:49.326977Z"
    },
    "papermill": {
     "duration": 0.904945,
     "end_time": "2021-04-23T01:57:49.327787",
     "exception": false,
     "start_time": "2021-04-23T01:57:48.422842",
     "status": "completed"
    },
    "tags": []
   },
   "outputs": [
    {
     "name": "stdout",
     "output_type": "stream",
     "text": [
      "COVID dataset length:  3616  Normal dataset length:  10192  Viral dataset length:  1345 bacterial dataste length 1437\n"
     ]
    }
   ],
   "source": [
    "## decide length for each set\n",
    "covid_train_len = int(np.floor(len(os.listdir(covid_path))*0.5))\n",
    "covid_len = len(os.listdir(covid_path))\n",
    "\n",
    "normal_train_len = int(np.floor(len(os.listdir(normal_path))*0.5))\n",
    "normal_len = len(os.listdir(normal_path))\n",
    "\n",
    "viral_train_len = int(np.floor(len(os.listdir(viral_path))*0.5))\n",
    "viral_len = len(os.listdir(viral_path))\n",
    "\n",
    "bacterial_train_len = int(np.floor(len(os.listdir(bacterial_path))*.5))\n",
    "bacterial_len = len(os.listdir(bacterial_path))\n",
    "print('COVID dataset length: ', covid_len, ' Normal dataset length: ', normal_len, ' Viral dataset length: ', viral_len, \\\n",
    "     'bacterial dataste length', bacterial_len)"
   ]
  },
  {
   "cell_type": "code",
   "execution_count": 24,
   "metadata": {
    "execution": {
     "iopub.execute_input": "2021-04-23T01:57:49.463378Z",
     "iopub.status.busy": "2021-04-23T01:57:49.462504Z",
     "iopub.status.idle": "2021-04-23T01:57:49.467160Z",
     "shell.execute_reply": "2021-04-23T01:57:49.466745Z"
    },
    "papermill": {
     "duration": 0.077589,
     "end_time": "2021-04-23T01:57:49.467313",
     "exception": false,
     "start_time": "2021-04-23T01:57:49.389724",
     "status": "completed"
    },
    "tags": []
   },
   "outputs": [
    {
     "data": {
      "text/plain": [
       "['covid', 'bacterial', 'viral', 'normal']"
      ]
     },
     "execution_count": 24,
     "metadata": {},
     "output_type": "execute_result"
    }
   ],
   "source": [
    "os.listdir('/kaggle/working/train/')"
   ]
  },
  {
   "cell_type": "code",
   "execution_count": 25,
   "metadata": {
    "execution": {
     "iopub.execute_input": "2021-04-23T01:57:49.941474Z",
     "iopub.status.busy": "2021-04-23T01:57:49.940668Z",
     "iopub.status.idle": "2021-04-23T01:57:49.942994Z",
     "shell.execute_reply": "2021-04-23T01:57:49.943522Z"
    },
    "papermill": {
     "duration": 0.07954,
     "end_time": "2021-04-23T01:57:49.943659",
     "exception": false,
     "start_time": "2021-04-23T01:57:49.864119",
     "status": "completed"
    },
    "tags": []
   },
   "outputs": [],
   "source": [
    "## move a certain set of image to test first"
   ]
  },
  {
   "cell_type": "code",
   "execution_count": 26,
   "metadata": {
    "execution": {
     "iopub.execute_input": "2021-04-23T01:57:50.079338Z",
     "iopub.status.busy": "2021-04-23T01:57:50.078253Z",
     "iopub.status.idle": "2021-04-23T01:57:50.081252Z",
     "shell.execute_reply": "2021-04-23T01:57:50.080823Z"
    },
    "papermill": {
     "duration": 0.070584,
     "end_time": "2021-04-23T01:57:50.081373",
     "exception": false,
     "start_time": "2021-04-23T01:57:50.010789",
     "status": "completed"
    },
    "tags": []
   },
   "outputs": [],
   "source": [
    "random.seed(88)"
   ]
  },
  {
   "cell_type": "code",
   "execution_count": 27,
   "metadata": {
    "execution": {
     "iopub.execute_input": "2021-04-23T01:57:50.214046Z",
     "iopub.status.busy": "2021-04-23T01:57:50.213557Z",
     "iopub.status.idle": "2021-04-23T01:59:12.806611Z",
     "shell.execute_reply": "2021-04-23T01:59:12.807854Z"
    },
    "papermill": {
     "duration": 82.665949,
     "end_time": "2021-04-23T01:59:12.808105",
     "exception": false,
     "start_time": "2021-04-23T01:57:50.142156",
     "status": "completed"
    },
    "tags": []
   },
   "outputs": [],
   "source": [
    "for trainimg in itertools.islice(sorted(glob.iglob(os.path.join(viral_path, '*.png')), key=lambda k: random.random()), viral_train_len):\n",
    "    shutil.copy(trainimg, '/kaggle/working/train_src/viral')\n",
    "\n",
    "for trainimg in itertools.islice(sorted(glob.iglob(os.path.join(covid_path, '*.png')),key=lambda k: random.random()), covid_train_len):\n",
    "    shutil.copy(trainimg, '/kaggle/working/train_src/covid')\n",
    "    \n",
    "for trainimg in itertools.islice(sorted(glob.iglob(os.path.join(normal_path, '*.png')),key=lambda k: random.random()), normal_train_len):\n",
    "    shutil.copy(trainimg, '/kaggle/working/train_src/normal')\n",
    "\n",
    "for trainimg in itertools.islice(sorted(glob.iglob(os.path.join(bacterial_path, '*.png')),key=lambda k: random.random()), bacterial_train_len):\n",
    "    shutil.copy(trainimg, '/kaggle/working/train_src/bacterial/')\n",
    "    \n",
    "for testimg in itertools.islice(sorted(glob.iglob(os.path.join(covid_path, '*.png')),key=lambda k: random.random()), covid_train_len, covid_len):\n",
    "    shutil.copy(testimg, '/kaggle/working/test_src/covid')\n",
    "\n",
    "for testimg in itertools.islice(sorted(glob.iglob(os.path.join(normal_path, '*.png')),key=lambda k: random.random()), normal_train_len, normal_len):\n",
    "    shutil.copy(testimg, '/kaggle/working/test_src/normal')\n",
    "\n",
    "for testimg in itertools.islice(sorted(glob.iglob(os.path.join(viral_path, '*.png')), key=lambda k: random.random()),viral_train_len, viral_len):\n",
    "    shutil.copy(testimg, '/kaggle/working/test_src/viral')\n",
    "    \n",
    "for testimg in itertools.islice(sorted(glob.iglob(os.path.join(bacterial_path, '*.png')),key=lambda k: random.random()),bacterial_train_len, bacterial_len):\n",
    "    shutil.copy(testimg, '/kaggle/working/test_src/bacterial/')"
   ]
  },
  {
   "cell_type": "code",
   "execution_count": 28,
   "metadata": {
    "execution": {
     "iopub.execute_input": "2021-04-23T01:59:13.070983Z",
     "iopub.status.busy": "2021-04-23T01:59:13.070053Z",
     "iopub.status.idle": "2021-04-23T01:59:13.072413Z",
     "shell.execute_reply": "2021-04-23T01:59:13.071746Z"
    },
    "papermill": {
     "duration": 0.130277,
     "end_time": "2021-04-23T01:59:13.072588",
     "exception": false,
     "start_time": "2021-04-23T01:59:12.942311",
     "status": "completed"
    },
    "tags": []
   },
   "outputs": [],
   "source": [
    "random.seed(6)"
   ]
  },
  {
   "cell_type": "code",
   "execution_count": 29,
   "metadata": {
    "execution": {
     "iopub.execute_input": "2021-04-23T01:59:13.299107Z",
     "iopub.status.busy": "2021-04-23T01:59:13.294671Z",
     "iopub.status.idle": "2021-04-23T01:59:13.444074Z",
     "shell.execute_reply": "2021-04-23T01:59:13.449416Z"
    },
    "papermill": {
     "duration": 0.264341,
     "end_time": "2021-04-23T01:59:13.449654",
     "exception": false,
     "start_time": "2021-04-23T01:59:13.185313",
     "status": "completed"
    },
    "tags": []
   },
   "outputs": [],
   "source": [
    "for validimg in os.listdir('/kaggle/working/train_src/viral/'):\n",
    "    if np.random.rand(1) < 0.2:\n",
    "        shutil.move('/kaggle/working/train_src/viral/' + validimg, '/kaggle/working/valid_src/viral/')\n",
    "        \n",
    "for validimg in os.listdir('/kaggle/working/train_src/bacterial/'):\n",
    "    if np.random.rand(1) < 0.2:\n",
    "        shutil.move('/kaggle/working/train_src/bacterial/' + validimg, '/kaggle/working/valid_src/bacterial/')\n",
    "        \n",
    "for validimg in os.listdir('/kaggle/working/train_src/covid/'):\n",
    "    if np.random.rand(1) < 0.2:\n",
    "        shutil.move('/kaggle/working/train_src/covid/' + validimg, '/kaggle/working/valid_src/covid/')\n",
    "        \n",
    "for validimg in os.listdir('/kaggle/working/train_src/normal/'):\n",
    "    if np.random.rand(1) < 0.2:\n",
    "        shutil.move('/kaggle/working/train_src/normal/' + validimg, '/kaggle/working/valid_src/normal/')"
   ]
  },
  {
   "cell_type": "code",
   "execution_count": 30,
   "metadata": {
    "execution": {
     "iopub.execute_input": "2021-04-23T01:59:13.782887Z",
     "iopub.status.busy": "2021-04-23T01:59:13.781996Z",
     "iopub.status.idle": "2021-04-23T01:59:13.788837Z",
     "shell.execute_reply": "2021-04-23T01:59:13.789552Z"
    },
    "papermill": {
     "duration": 0.195146,
     "end_time": "2021-04-23T01:59:13.789761",
     "exception": false,
     "start_time": "2021-04-23T01:59:13.594615",
     "status": "completed"
    },
    "tags": []
   },
   "outputs": [
    {
     "data": {
      "text/plain": [
       "(536, 673, 136)"
      ]
     },
     "execution_count": 30,
     "metadata": {},
     "output_type": "execute_result"
    }
   ],
   "source": [
    "len(os.listdir('/kaggle/working/train_src/viral/')), len(os.listdir('/kaggle/working/test_src/viral/')), len(os.listdir('/kaggle/working/valid_src/viral'))"
   ]
  },
  {
   "cell_type": "code",
   "execution_count": 31,
   "metadata": {
    "execution": {
     "iopub.execute_input": "2021-04-23T01:59:14.055068Z",
     "iopub.status.busy": "2021-04-23T01:59:14.054234Z",
     "iopub.status.idle": "2021-04-23T01:59:14.059848Z",
     "shell.execute_reply": "2021-04-23T01:59:14.059436Z"
    },
    "papermill": {
     "duration": 0.095792,
     "end_time": "2021-04-23T01:59:14.059964",
     "exception": false,
     "start_time": "2021-04-23T01:59:13.964172",
     "status": "completed"
    },
    "tags": []
   },
   "outputs": [
    {
     "data": {
      "text/plain": [
       "(575, 719, 143)"
      ]
     },
     "execution_count": 31,
     "metadata": {},
     "output_type": "execute_result"
    }
   ],
   "source": [
    "len(os.listdir('/kaggle/working/train_src/bacterial/')), len(os.listdir('/kaggle/working/test_src/bacterial/')), len(os.listdir('/kaggle/working/valid_src/bacterial'))"
   ]
  },
  {
   "cell_type": "code",
   "execution_count": 32,
   "metadata": {
    "execution": {
     "iopub.execute_input": "2021-04-23T01:59:14.188758Z",
     "iopub.status.busy": "2021-04-23T01:59:14.188043Z",
     "iopub.status.idle": "2021-04-23T01:59:14.197502Z",
     "shell.execute_reply": "2021-04-23T01:59:14.197907Z"
    },
    "papermill": {
     "duration": 0.075302,
     "end_time": "2021-04-23T01:59:14.198029",
     "exception": false,
     "start_time": "2021-04-23T01:59:14.122727",
     "status": "completed"
    },
    "tags": []
   },
   "outputs": [
    {
     "data": {
      "text/plain": [
       "(4065, 5096, 1031)"
      ]
     },
     "execution_count": 32,
     "metadata": {},
     "output_type": "execute_result"
    }
   ],
   "source": [
    "len(os.listdir('/kaggle/working/train_src/normal/')), len(os.listdir('/kaggle/working/test_src/normal/')), len(os.listdir('/kaggle/working/valid_src/normal'))"
   ]
  },
  {
   "cell_type": "code",
   "execution_count": 33,
   "metadata": {
    "execution": {
     "iopub.execute_input": "2021-04-23T01:59:14.327579Z",
     "iopub.status.busy": "2021-04-23T01:59:14.326863Z",
     "iopub.status.idle": "2021-04-23T01:59:14.333317Z",
     "shell.execute_reply": "2021-04-23T01:59:14.332885Z"
    },
    "papermill": {
     "duration": 0.072463,
     "end_time": "2021-04-23T01:59:14.333429",
     "exception": false,
     "start_time": "2021-04-23T01:59:14.260966",
     "status": "completed"
    },
    "tags": []
   },
   "outputs": [
    {
     "data": {
      "text/plain": [
       "(1458, 1808, 350)"
      ]
     },
     "execution_count": 33,
     "metadata": {},
     "output_type": "execute_result"
    }
   ],
   "source": [
    "len(os.listdir('/kaggle/working/train_src/covid/')), len(os.listdir('/kaggle/working/test_src/covid/')), len(os.listdir('/kaggle/working/valid_src/covid'))"
   ]
  },
  {
   "cell_type": "code",
   "execution_count": 34,
   "metadata": {
    "execution": {
     "iopub.execute_input": "2021-04-23T01:59:14.462455Z",
     "iopub.status.busy": "2021-04-23T01:59:14.461723Z",
     "iopub.status.idle": "2021-04-23T01:59:14.469145Z",
     "shell.execute_reply": "2021-04-23T01:59:14.468637Z"
    },
    "papermill": {
     "duration": 0.073547,
     "end_time": "2021-04-23T01:59:14.469264",
     "exception": false,
     "start_time": "2021-04-23T01:59:14.395717",
     "status": "completed"
    },
    "tags": []
   },
   "outputs": [
    {
     "data": {
      "text/plain": [
       "(1458, 4065)"
      ]
     },
     "execution_count": 34,
     "metadata": {},
     "output_type": "execute_result"
    }
   ],
   "source": [
    "len(os.listdir('/kaggle/working/train_src/covid/')), len(os.listdir('/kaggle/working/train_src/normal/'))"
   ]
  },
  {
   "cell_type": "code",
   "execution_count": 35,
   "metadata": {
    "execution": {
     "iopub.execute_input": "2021-04-23T01:59:14.598930Z",
     "iopub.status.busy": "2021-04-23T01:59:14.598224Z",
     "iopub.status.idle": "2021-04-23T01:59:51.868408Z",
     "shell.execute_reply": "2021-04-23T01:59:51.424394Z"
    },
    "papermill": {
     "duration": 37.33674,
     "end_time": "2021-04-23T01:59:51.868589",
     "exception": false,
     "start_time": "2021-04-23T01:59:14.531849",
     "status": "completed"
    },
    "tags": []
   },
   "outputs": [
    {
     "name": "stderr",
     "output_type": "stream",
     "text": [
      "Executing Pipeline:   0%|          | 0/3000 [00:00<?, ? Samples/s]"
     ]
    },
    {
     "name": "stdout",
     "output_type": "stream",
     "text": [
      "Initialised with 1458 image(s) found.\n",
      "Output directory set to /kaggle/working/train/covid/."
     ]
    },
    {
     "name": "stderr",
     "output_type": "stream",
     "text": [
      "Processing <PIL.Image.Image image mode=L size=244x244 at 0x7EFBCCDF7790>: 100%|██████████| 3000/3000 [00:36<00:00, 81.79 Samples/s]\n"
     ]
    }
   ],
   "source": [
    "## augmentor\n",
    "## Process covid directory first\n",
    "p = Augmentor.Pipeline()\n",
    "p.add_further_directory(new_source_directory='/kaggle/working/train_src/covid/', new_output_directory='/kaggle/working/train/covid/')\n",
    "p.resize(width=244, height=244, probability=1)\n",
    "p.sample(3000)"
   ]
  },
  {
   "cell_type": "code",
   "execution_count": 36,
   "metadata": {
    "execution": {
     "iopub.execute_input": "2021-04-23T01:59:54.179228Z",
     "iopub.status.busy": "2021-04-23T01:59:54.177306Z",
     "iopub.status.idle": "2021-04-23T01:59:54.179911Z",
     "shell.execute_reply": "2021-04-23T01:59:54.180345Z"
    },
    "papermill": {
     "duration": 0.915796,
     "end_time": "2021-04-23T01:59:54.180481",
     "exception": false,
     "start_time": "2021-04-23T01:59:53.264685",
     "status": "completed"
    },
    "tags": []
   },
   "outputs": [],
   "source": [
    "#p.random_brightness(probability=.5, min_factor=1.1, max_factor=1.5)\n",
    "#p.random_contrast(probability=.5, min_factor=1.1, max_factor=1.3)\n",
    "#p.zoom_random(probability=.1, percentage_area=.8)\n",
    "#p.random_distortion(probability=.1, grid_height=10, grid_width=10, magnitude=3)\n",
    "#p.rotate(probability=.1, max_left_rotation=15, max_right_rotation=15)\n",
    "#p.crop_centre(probability=.1, percentage_area=.9)\n",
    "# p.resize(width=244, height=244, probability=1)\n"
   ]
  },
  {
   "cell_type": "code",
   "execution_count": 37,
   "metadata": {
    "execution": {
     "iopub.execute_input": "2021-04-23T01:59:55.994349Z",
     "iopub.status.busy": "2021-04-23T01:59:55.993564Z",
     "iopub.status.idle": "2021-04-23T02:00:21.847981Z",
     "shell.execute_reply": "2021-04-23T02:00:21.847339Z"
    },
    "papermill": {
     "duration": 26.758858,
     "end_time": "2021-04-23T02:00:21.848157",
     "exception": false,
     "start_time": "2021-04-23T01:59:55.089299",
     "status": "completed"
    },
    "tags": []
   },
   "outputs": [
    {
     "name": "stderr",
     "output_type": "stream",
     "text": [
      "Processing <PIL.Image.Image image mode=L size=244x244 at 0x7EFBE6A7CC10>:   0%|          | 1/1808 [00:00<05:43,  5.27 Samples/s]"
     ]
    },
    {
     "name": "stdout",
     "output_type": "stream",
     "text": [
      "Initialised with 1808 image(s) found.\n",
      "Output directory set to /kaggle/working/test/covid/."
     ]
    },
    {
     "name": "stderr",
     "output_type": "stream",
     "text": [
      "Processing <PIL.Image.Image image mode=L size=244x244 at 0x7EFBE6AD7C90>: 100%|██████████| 1808/1808 [00:21<00:00, 83.96 Samples/s]\n",
      "Executing Pipeline:   0%|          | 0/350 [00:00<?, ? Samples/s]"
     ]
    },
    {
     "name": "stdout",
     "output_type": "stream",
     "text": [
      "Initialised with 350 image(s) found.\n",
      "Output directory set to /kaggle/working/valid/covid/."
     ]
    },
    {
     "name": "stderr",
     "output_type": "stream",
     "text": [
      "Processing <PIL.Image.Image image mode=L size=244x244 at 0x7EFBE6B57E10>: 100%|██████████| 350/350 [00:04<00:00, 85.56 Samples/s]\n"
     ]
    }
   ],
   "source": [
    "## test dir \n",
    "p2 = Augmentor.Pipeline()\n",
    "p2.add_further_directory(new_source_directory='/kaggle/working/test_src/covid/', new_output_directory='/kaggle/working/test/covid/')\n",
    "p2.resize(width=244, height=244, probability=1)\n",
    "p2.process()\n",
    "\n",
    "## valid dir\n",
    "p3 = Augmentor.Pipeline()\n",
    "p3.add_further_directory(new_source_directory='/kaggle/working/valid_src/covid/', new_output_directory='/kaggle/working/valid/covid/')\n",
    "p3.resize(width=244, height=244, probability=1)\n",
    "p3.process()"
   ]
  },
  {
   "cell_type": "code",
   "execution_count": 38,
   "metadata": {
    "execution": {
     "iopub.execute_input": "2021-04-23T02:00:24.936054Z",
     "iopub.status.busy": "2021-04-23T02:00:24.935228Z",
     "iopub.status.idle": "2021-04-23T02:03:43.963814Z",
     "shell.execute_reply": "2021-04-23T02:03:43.963091Z"
    },
    "papermill": {
     "duration": 200.598275,
     "end_time": "2021-04-23T02:03:43.964018",
     "exception": false,
     "start_time": "2021-04-23T02:00:23.365743",
     "status": "completed"
    },
    "tags": []
   },
   "outputs": [
    {
     "name": "stderr",
     "output_type": "stream",
     "text": [
      "Executing Pipeline:   0%|          | 0/575 [00:00<?, ? Samples/s]"
     ]
    },
    {
     "name": "stdout",
     "output_type": "stream",
     "text": [
      "Initialised with 575 image(s) found.\n",
      "Output directory set to /kaggle/working/train/bacterial/."
     ]
    },
    {
     "name": "stderr",
     "output_type": "stream",
     "text": [
      "Processing <PIL.Image.Image image mode=RGB size=244x244 at 0x7EFBCCDF7910>: 100%|██████████| 575/575 [00:23<00:00, 24.12 Samples/s]\n",
      "Executing Pipeline:   0%|          | 0/719 [00:00<?, ? Samples/s]"
     ]
    },
    {
     "name": "stdout",
     "output_type": "stream",
     "text": [
      "Initialised with 719 image(s) found.\n",
      "Output directory set to /kaggle/working/test/bacterial/."
     ]
    },
    {
     "name": "stderr",
     "output_type": "stream",
     "text": [
      "Processing <PIL.Image.Image image mode=RGB size=244x244 at 0x7EFBCCF16050>: 100%|██████████| 719/719 [00:30<00:00, 23.23 Samples/s]\n",
      "Executing Pipeline:   0%|          | 0/143 [00:00<?, ? Samples/s]"
     ]
    },
    {
     "name": "stdout",
     "output_type": "stream",
     "text": [
      "Initialised with 143 image(s) found.\n",
      "Output directory set to /kaggle/working/valid/bacterial/."
     ]
    },
    {
     "name": "stderr",
     "output_type": "stream",
     "text": [
      "Processing <PIL.Image.Image image mode=RGB size=244x244 at 0x7EFBCCEB5FD0>: 100%|██████████| 143/143 [00:05<00:00, 25.72 Samples/s]\n",
      "Processing <PIL.Image.Image image mode=L size=244x244 at 0x7EFBE6BCA690>:   0%|          | 0/536 [00:00<?, ? Samples/s]"
     ]
    },
    {
     "name": "stdout",
     "output_type": "stream",
     "text": [
      "Initialised with 536 image(s) found.\n",
      "Output directory set to /kaggle/working/train/viral/."
     ]
    },
    {
     "name": "stderr",
     "output_type": "stream",
     "text": [
      "Processing <PIL.Image.Image image mode=L size=244x244 at 0x7EFBCCECA410>: 100%|██████████| 536/536 [00:06<00:00, 87.15 Samples/s]\n",
      "Processing <PIL.Image.Image image mode=L size=244x244 at 0x7EFBE6D786D0>:   1%|▏         | 10/673 [00:00<01:17,  8.61 Samples/s]"
     ]
    },
    {
     "name": "stdout",
     "output_type": "stream",
     "text": [
      "Initialised with 673 image(s) found.\n",
      "Output directory set to /kaggle/working/test/viral/."
     ]
    },
    {
     "name": "stderr",
     "output_type": "stream",
     "text": [
      "Processing <PIL.Image.Image image mode=L size=244x244 at 0x7EFBCCEEDE10>: 100%|██████████| 673/673 [00:08<00:00, 78.21 Samples/s]\n",
      "Processing <PIL.Image.Image image mode=L size=244x244 at 0x7EFBE6AD7910>:   8%|▊         | 11/136 [00:00<00:03, 34.05 Samples/s]"
     ]
    },
    {
     "name": "stdout",
     "output_type": "stream",
     "text": [
      "Initialised with 136 image(s) found.\n",
      "Output directory set to /kaggle/working/valid/viral/."
     ]
    },
    {
     "name": "stderr",
     "output_type": "stream",
     "text": [
      "Processing <PIL.Image.Image image mode=L size=244x244 at 0x7EFBE6A6F610>: 100%|██████████| 136/136 [00:01<00:00, 89.10 Samples/s] \n",
      "Executing Pipeline:   0%|          | 0/4065 [00:00<?, ? Samples/s]"
     ]
    },
    {
     "name": "stdout",
     "output_type": "stream",
     "text": [
      "Initialised with 4065 image(s) found.\n",
      "Output directory set to /kaggle/working/train/normal/."
     ]
    },
    {
     "name": "stderr",
     "output_type": "stream",
     "text": [
      "Processing <PIL.Image.Image image mode=L size=244x244 at 0x7EFBCC97E0D0>: 100%|██████████| 4065/4065 [00:47<00:00, 85.40 Samples/s]\n",
      "Executing Pipeline:   0%|          | 0/5096 [00:00<?, ? Samples/s]"
     ]
    },
    {
     "name": "stdout",
     "output_type": "stream",
     "text": [
      "Initialised with 5096 image(s) found.\n",
      "Output directory set to /kaggle/working/test/normal/."
     ]
    },
    {
     "name": "stderr",
     "output_type": "stream",
     "text": [
      "Processing <PIL.Image.Image image mode=L size=244x244 at 0x7EFBCC56E750>: 100%|██████████| 5096/5096 [01:00<00:00, 84.07 Samples/s]\n",
      "Processing <PIL.Image.Image image mode=L size=244x244 at 0x7EFBCCE06590>:   0%|          | 4/1031 [00:00<02:58,  5.75 Samples/s]"
     ]
    },
    {
     "name": "stdout",
     "output_type": "stream",
     "text": [
      "Initialised with 1031 image(s) found.\n",
      "Output directory set to /kaggle/working/valid/normal/."
     ]
    },
    {
     "name": "stderr",
     "output_type": "stream",
     "text": [
      "Processing <PIL.Image.Image image mode=L size=244x244 at 0x7EFBCC69A610>: 100%|██████████| 1031/1031 [00:12<00:00, 85.90 Samples/s]\n"
     ]
    }
   ],
   "source": [
    "## other directory are the same\n",
    "for category in ['bacterial', 'viral', 'normal']:\n",
    "    ## train\n",
    "    p = Augmentor.Pipeline()\n",
    "    p.add_further_directory(new_source_directory='/kaggle/working/train_src/' + category + '/', new_output_directory='/kaggle/working/train/' + category + '/')\n",
    "    p.resize(width=244, height=244, probability=1)\n",
    "    p.process()\n",
    "    \n",
    "    ## test\n",
    "    p2 = Augmentor.Pipeline()\n",
    "    p2.add_further_directory(new_source_directory='/kaggle/working/test_src/' + category + '/', new_output_directory='/kaggle/working/test/' + \\\n",
    "                             category + '/')\n",
    "    p2.resize(width=244, height=244, probability=1)\n",
    "    p2.process()\n",
    "    \n",
    "    ## valid\n",
    "    p3 = Augmentor.Pipeline()\n",
    "    p3.add_further_directory(new_source_directory='/kaggle/working/valid_src/' + category + '/', new_output_directory='/kaggle/working/valid/' + category+ '/')\n",
    "    p3.resize(width=244, height=244, probability=1)\n",
    "    p3.process()"
   ]
  },
  {
   "cell_type": "code",
   "execution_count": 39,
   "metadata": {
    "execution": {
     "iopub.execute_input": "2021-04-23T02:03:55.796961Z",
     "iopub.status.busy": "2021-04-23T02:03:55.796142Z",
     "iopub.status.idle": "2021-04-23T02:03:56.649343Z",
     "shell.execute_reply": "2021-04-23T02:03:56.648728Z"
    },
    "papermill": {
     "duration": 6.636051,
     "end_time": "2021-04-23T02:03:56.649484",
     "exception": false,
     "start_time": "2021-04-23T02:03:50.013433",
     "status": "completed"
    },
    "tags": []
   },
   "outputs": [],
   "source": [
    "## remove all the train_src dir\n",
    "\n",
    "files = glob.glob('/kaggle/working/train_src/*/*.png')\n",
    "for f in files:\n",
    "    os.remove(f)\n",
    "files = glob.glob('/kaggle/working/test_src/*/*.png')\n",
    "for f in files:\n",
    "    os.remove(f)\n",
    "files = glob.glob('/kaggle/working/valid_src/*/*.png')\n",
    "for f in files:\n",
    "    os.remove(f)\n",
    "files = glob.glob('/kaggle/working/bacteria_merge/*.png')\n",
    "for f in files:\n",
    "    os.remove(f)"
   ]
  },
  {
   "cell_type": "code",
   "execution_count": 40,
   "metadata": {
    "execution": {
     "iopub.execute_input": "2021-04-23T02:04:07.816999Z",
     "iopub.status.busy": "2021-04-23T02:04:07.816296Z",
     "iopub.status.idle": "2021-04-23T02:04:07.819311Z",
     "shell.execute_reply": "2021-04-23T02:04:07.819710Z"
    },
    "papermill": {
     "duration": 5.83707,
     "end_time": "2021-04-23T02:04:07.819855",
     "exception": false,
     "start_time": "2021-04-23T02:04:01.982785",
     "status": "completed"
    },
    "tags": []
   },
   "outputs": [
    {
     "data": {
      "text/plain": [
       "0"
      ]
     },
     "execution_count": 40,
     "metadata": {},
     "output_type": "execute_result"
    }
   ],
   "source": [
    "len(os.listdir('/kaggle/working/bacteria_merge/'))"
   ]
  },
  {
   "cell_type": "code",
   "execution_count": 41,
   "metadata": {
    "execution": {
     "iopub.execute_input": "2021-04-23T02:04:19.558714Z",
     "iopub.status.busy": "2021-04-23T02:04:19.557933Z",
     "iopub.status.idle": "2021-04-23T02:04:19.560715Z",
     "shell.execute_reply": "2021-04-23T02:04:19.560216Z"
    },
    "papermill": {
     "duration": 6.565968,
     "end_time": "2021-04-23T02:04:19.560849",
     "exception": false,
     "start_time": "2021-04-23T02:04:12.994881",
     "status": "completed"
    },
    "tags": []
   },
   "outputs": [],
   "source": [
    "normalizer = transforms.Normalize(mean=[0.485, 0.456, 0.406], std=[0.229, 0.224, 0.225])\n",
    "#normalizer = transforms.Normalize(mean=[0.5, 0.5, 0.5], std=[0.25, 0.25, 0.25])\n",
    "data_transforms = {\n",
    "    'train': transforms.Compose([\n",
    "        #p.torch_transform(),\n",
    "        transforms.ToTensor(),\n",
    "        normalizer\n",
    "    ]),\n",
    "    'validation': transforms.Compose([\n",
    "        #p2.torch_transform(),\n",
    "        transforms.ToTensor(),\n",
    "        normalizer\n",
    "    ])\n",
    "}\n"
   ]
  },
  {
   "cell_type": "code",
   "execution_count": null,
   "metadata": {
    "papermill": {
     "duration": 5.675431,
     "end_time": "2021-04-23T02:04:30.376479",
     "exception": false,
     "start_time": "2021-04-23T02:04:24.701048",
     "status": "completed"
    },
    "tags": []
   },
   "outputs": [],
   "source": []
  },
  {
   "cell_type": "code",
   "execution_count": 42,
   "metadata": {
    "execution": {
     "iopub.execute_input": "2021-04-23T02:04:41.245922Z",
     "iopub.status.busy": "2021-04-23T02:04:41.245097Z",
     "iopub.status.idle": "2021-04-23T02:04:41.304792Z",
     "shell.execute_reply": "2021-04-23T02:04:41.304343Z"
    },
    "papermill": {
     "duration": 5.766699,
     "end_time": "2021-04-23T02:04:41.304908",
     "exception": false,
     "start_time": "2021-04-23T02:04:35.538209",
     "status": "completed"
    },
    "tags": []
   },
   "outputs": [],
   "source": [
    "data_images = {\n",
    "    'train': datasets.ImageFolder('/kaggle/working/train', data_transforms['train']),\n",
    "    'validation': datasets.ImageFolder('/kaggle/working/valid', data_transforms['validation'])\n",
    "}"
   ]
  },
  {
   "cell_type": "code",
   "execution_count": 43,
   "metadata": {
    "execution": {
     "iopub.execute_input": "2021-04-23T02:04:52.642613Z",
     "iopub.status.busy": "2021-04-23T02:04:52.641869Z",
     "iopub.status.idle": "2021-04-23T02:04:52.645494Z",
     "shell.execute_reply": "2021-04-23T02:04:52.645040Z"
    },
    "papermill": {
     "duration": 6.188945,
     "end_time": "2021-04-23T02:04:52.645611",
     "exception": false,
     "start_time": "2021-04-23T02:04:46.456666",
     "status": "completed"
    },
    "tags": []
   },
   "outputs": [
    {
     "data": {
      "text/plain": [
       "{'bacterial': 0, 'covid': 1, 'normal': 2, 'viral': 3}"
      ]
     },
     "execution_count": 43,
     "metadata": {},
     "output_type": "execute_result"
    }
   ],
   "source": [
    "data_images['train'].class_to_idx"
   ]
  },
  {
   "cell_type": "code",
   "execution_count": 44,
   "metadata": {
    "execution": {
     "iopub.execute_input": "2021-04-23T02:05:03.612116Z",
     "iopub.status.busy": "2021-04-23T02:05:03.611341Z",
     "iopub.status.idle": "2021-04-23T02:05:03.614083Z",
     "shell.execute_reply": "2021-04-23T02:05:03.613672Z"
    },
    "papermill": {
     "duration": 5.819788,
     "end_time": "2021-04-23T02:05:03.614215",
     "exception": false,
     "start_time": "2021-04-23T02:04:57.794427",
     "status": "completed"
    },
    "tags": []
   },
   "outputs": [],
   "source": [
    "dataloaders = {\n",
    "    'train': torch.utils.data.DataLoader(data_images['train'], batch_size=32, shuffle=True, num_workers=0),\n",
    "    'validation': torch.utils.data.DataLoader(data_images['validation'], batch_size=32,shuffle=False,num_workers=0)\n",
    "}"
   ]
  },
  {
   "cell_type": "code",
   "execution_count": 45,
   "metadata": {
    "execution": {
     "iopub.execute_input": "2021-04-23T02:05:14.509937Z",
     "iopub.status.busy": "2021-04-23T02:05:14.509139Z",
     "iopub.status.idle": "2021-04-23T02:05:14.560306Z",
     "shell.execute_reply": "2021-04-23T02:05:14.559883Z"
    },
    "papermill": {
     "duration": 5.798415,
     "end_time": "2021-04-23T02:05:14.560430",
     "exception": false,
     "start_time": "2021-04-23T02:05:08.762015",
     "status": "completed"
    },
    "tags": []
   },
   "outputs": [],
   "source": [
    "testloaders = {\n",
    "    'test': torch.utils.data.DataLoader(datasets.ImageFolder('/kaggle/working/test/', data_transforms['validation']), \\\n",
    "                                       batch_size=32, shuffle=False, num_workers=0)\n",
    "}"
   ]
  },
  {
   "cell_type": "code",
   "execution_count": 46,
   "metadata": {
    "execution": {
     "iopub.execute_input": "2021-04-23T02:05:26.562361Z",
     "iopub.status.busy": "2021-04-23T02:05:26.561633Z",
     "iopub.status.idle": "2021-04-23T02:05:35.198489Z",
     "shell.execute_reply": "2021-04-23T02:05:35.197390Z"
    },
    "papermill": {
     "duration": 15.4533,
     "end_time": "2021-04-23T02:05:35.198655",
     "exception": false,
     "start_time": "2021-04-23T02:05:19.745355",
     "status": "completed"
    },
    "tags": []
   },
   "outputs": [
    {
     "name": "stderr",
     "output_type": "stream",
     "text": [
      "Downloading: \"https://download.pytorch.org/models/resnet50-19c8e357.pth\" to /root/.cache/torch/hub/checkpoints/resnet50-19c8e357.pth\n"
     ]
    },
    {
     "data": {
      "application/vnd.jupyter.widget-view+json": {
       "model_id": "88fef1ef81dd4efb899a6f5211584e53",
       "version_major": 2,
       "version_minor": 0
      },
      "text/plain": [
       "  0%|          | 0.00/97.8M [00:00<?, ?B/s]"
      ]
     },
     "metadata": {},
     "output_type": "display_data"
    }
   ],
   "source": [
    "device = torch.device('cuda:0' if torch.cuda.is_available() else 'cpu')\n",
    "model = models.resnet50(pretrained=True).cuda()"
   ]
  },
  {
   "cell_type": "code",
   "execution_count": 47,
   "metadata": {
    "execution": {
     "iopub.execute_input": "2021-04-23T02:05:45.832079Z",
     "iopub.status.busy": "2021-04-23T02:05:45.831223Z",
     "iopub.status.idle": "2021-04-23T02:05:45.834016Z",
     "shell.execute_reply": "2021-04-23T02:05:45.834429Z"
    },
    "papermill": {
     "duration": 5.395141,
     "end_time": "2021-04-23T02:05:45.834563",
     "exception": false,
     "start_time": "2021-04-23T02:05:40.439422",
     "status": "completed"
    },
    "tags": []
   },
   "outputs": [
    {
     "data": {
      "text/plain": [
       "device(type='cuda', index=0)"
      ]
     },
     "execution_count": 47,
     "metadata": {},
     "output_type": "execute_result"
    }
   ],
   "source": [
    "device"
   ]
  },
  {
   "cell_type": "code",
   "execution_count": 48,
   "metadata": {
    "execution": {
     "iopub.execute_input": "2021-04-23T02:05:56.893111Z",
     "iopub.status.busy": "2021-04-23T02:05:56.892305Z",
     "iopub.status.idle": "2021-04-23T02:05:56.895074Z",
     "shell.execute_reply": "2021-04-23T02:05:56.894670Z"
    },
    "papermill": {
     "duration": 5.912695,
     "end_time": "2021-04-23T02:05:56.895209",
     "exception": false,
     "start_time": "2021-04-23T02:05:50.982514",
     "status": "completed"
    },
    "tags": []
   },
   "outputs": [],
   "source": [
    "for param in model.parameters():\n",
    "    param.requires_grad = False"
   ]
  },
  {
   "cell_type": "code",
   "execution_count": 49,
   "metadata": {
    "execution": {
     "iopub.execute_input": "2021-04-23T02:06:07.476997Z",
     "iopub.status.busy": "2021-04-23T02:06:07.476215Z",
     "iopub.status.idle": "2021-04-23T02:06:07.482822Z",
     "shell.execute_reply": "2021-04-23T02:06:07.482405Z"
    },
    "papermill": {
     "duration": 5.412873,
     "end_time": "2021-04-23T02:06:07.482944",
     "exception": false,
     "start_time": "2021-04-23T02:06:02.070071",
     "status": "completed"
    },
    "tags": []
   },
   "outputs": [],
   "source": [
    "model.fc = nn.Sequential(\n",
    "    nn.Linear(2048, 64),\n",
    "    nn.ReLU(inplace=True),\n",
    "    nn.Linear(64, 4) # change the last dimension\n",
    ").to(device)"
   ]
  },
  {
   "cell_type": "code",
   "execution_count": 50,
   "metadata": {
    "execution": {
     "iopub.execute_input": "2021-04-23T02:06:18.026780Z",
     "iopub.status.busy": "2021-04-23T02:06:18.025960Z",
     "iopub.status.idle": "2021-04-23T02:06:18.028707Z",
     "shell.execute_reply": "2021-04-23T02:06:18.028301Z"
    },
    "papermill": {
     "duration": 5.357101,
     "end_time": "2021-04-23T02:06:18.028827",
     "exception": false,
     "start_time": "2021-04-23T02:06:12.671726",
     "status": "completed"
    },
    "tags": []
   },
   "outputs": [],
   "source": [
    "criterion = nn.CrossEntropyLoss()\n",
    "optimizer = optim.Adam(model.fc.parameters(), lr = .5e-3)"
   ]
  },
  {
   "cell_type": "code",
   "execution_count": 51,
   "metadata": {
    "execution": {
     "iopub.execute_input": "2021-04-23T02:06:29.033024Z",
     "iopub.status.busy": "2021-04-23T02:06:29.032164Z",
     "iopub.status.idle": "2021-04-23T02:06:29.038859Z",
     "shell.execute_reply": "2021-04-23T02:06:29.038464Z"
    },
    "papermill": {
     "duration": 5.851375,
     "end_time": "2021-04-23T02:06:29.038973",
     "exception": false,
     "start_time": "2021-04-23T02:06:23.187598",
     "status": "completed"
    },
    "tags": []
   },
   "outputs": [],
   "source": [
    "class ImageClassificationBase(nn.Module):\n",
    "    def training_step(self, batch):\n",
    "        images, labels = batch \n",
    "        out = self(images)                  # Generate predictions\n",
    "        loss =F.cross_entropy(out, labels) # Calculate loss\n",
    "        return loss\n",
    "    \n",
    "    def validation_step(self, batch):\n",
    "        images, labels = batch \n",
    "        out = self(images)                    # Generate predictions\n",
    "        loss = F.cross_entropy(out, labels)   # Calculate loss\n",
    "        #acc = accuracy(out, labels)           # Calculate accuracy\n",
    "        return {'val_loss': loss.detach()}\n",
    "        \n",
    "    def validation_epoch_end(self, outputs):\n",
    "        batch_losses = [x['val_loss'] for x in outputs]\n",
    "        epoch_loss = torch.stack(batch_losses).mean()   # Combine losses\n",
    "        #batch_accs = [x['val_acc'] for x in outputs]\n",
    "        #epoch_acc = torch.stack(batch_accs).mean()      # Combine accuracies\n",
    "        return {'val_loss': epoch_loss.item()}\n",
    "    \n",
    "    def epoch_end(self, epoch, result):\n",
    "        print(\"Epoch [{}], last_lr: {:.5f}, train_loss: {:.4f}, val_loss: {:.4f}\".format(\n",
    "            epoch, result['lrs'][-1], result['train_loss'], result['val_loss']))"
   ]
  },
  {
   "cell_type": "code",
   "execution_count": 52,
   "metadata": {
    "execution": {
     "iopub.execute_input": "2021-04-23T02:06:39.695639Z",
     "iopub.status.busy": "2021-04-23T02:06:39.694829Z",
     "iopub.status.idle": "2021-04-23T02:06:39.702018Z",
     "shell.execute_reply": "2021-04-23T02:06:39.701536Z"
    },
    "papermill": {
     "duration": 5.469501,
     "end_time": "2021-04-23T02:06:39.702143",
     "exception": false,
     "start_time": "2021-04-23T02:06:34.232642",
     "status": "completed"
    },
    "tags": []
   },
   "outputs": [],
   "source": [
    "class XrayRES(ImageClassificationBase):\n",
    "    def __init__(self, num_classes):\n",
    "        super().__init__()\n",
    "        self.network = models.resnet50()\n",
    "        ## last fully-connected\n",
    "        num_ftrs = self.network.fc.in_features\n",
    "        self.network.fc = nn.Linear(num_ftrs, num_classes) # change the length of food_class_name to 50\n",
    "        #num_ftrs = self.network.classifier[-1].in_features\n",
    "        #self.network.classifier[-1] = nn.Linear(in_features=num_ftrs, out_features=num_classes)\n",
    "    def forward(self, xb):\n",
    "        return torch.softmax(self.network(xb), dim=1)\n",
    "    \n",
    "    def freeze(self):\n",
    "        # to freeze the residual layers\n",
    "        for param in self.network.parameters():\n",
    "            param.require_grad = False\n",
    "        \n",
    "        # only train the last layer\n",
    "        for param in self.network.fc.parameters():\n",
    "            param.require_grad = True\n",
    "            \n",
    "    def unfreeze(self):\n",
    "        for param in self.network.parameters():\n",
    "            param.require_grad = True"
   ]
  },
  {
   "cell_type": "code",
   "execution_count": 53,
   "metadata": {
    "execution": {
     "iopub.execute_input": "2021-04-23T02:06:50.111902Z",
     "iopub.status.busy": "2021-04-23T02:06:50.111028Z",
     "iopub.status.idle": "2021-04-23T02:06:50.701757Z",
     "shell.execute_reply": "2021-04-23T02:06:50.701057Z"
    },
    "papermill": {
     "duration": 5.822849,
     "end_time": "2021-04-23T02:06:50.701897",
     "exception": false,
     "start_time": "2021-04-23T02:06:44.879048",
     "status": "completed"
    },
    "tags": []
   },
   "outputs": [],
   "source": [
    "def get_default_device():\n",
    "    \"\"\"Pick GPU if available, else CPU\"\"\"\n",
    "    if torch.cuda.is_available():\n",
    "        return torch.device('cuda')\n",
    "    else:\n",
    "        return torch.device('cpu')\n",
    "    \n",
    "def to_device(data, device):\n",
    "    \"\"\"Move tensor(s) to chosen device\"\"\"\n",
    "    if isinstance(data, (list,tuple)):\n",
    "        return [to_device(x, device) for x in data]\n",
    "    return data.to(device, non_blocking=True)\n",
    "\n",
    "class DeviceDataLoader():\n",
    "    \"\"\"Wrap a dataloader to move data to a device\"\"\"\n",
    "    def __init__(self, dl, device):\n",
    "        self.dl = dl\n",
    "        self.device = device\n",
    "        \n",
    "    def __iter__(self):\n",
    "        \"\"\"Yield a batch of data after moving it to device\"\"\"\n",
    "        for b in self.dl: \n",
    "            yield to_device(b, self.device)\n",
    "\n",
    "    def __len__(self):\n",
    "        \"\"\"Number of batches\"\"\"\n",
    "        return len(self.dl)\n",
    "model = to_device(XrayRES(4), device)\n"
   ]
  },
  {
   "cell_type": "code",
   "execution_count": 54,
   "metadata": {
    "execution": {
     "iopub.execute_input": "2021-04-23T02:07:01.724927Z",
     "iopub.status.busy": "2021-04-23T02:07:01.724167Z",
     "iopub.status.idle": "2021-04-23T02:07:01.727798Z",
     "shell.execute_reply": "2021-04-23T02:07:01.727379Z"
    },
    "papermill": {
     "duration": 5.879383,
     "end_time": "2021-04-23T02:07:01.727911",
     "exception": false,
     "start_time": "2021-04-23T02:06:55.848528",
     "status": "completed"
    },
    "tags": []
   },
   "outputs": [],
   "source": [
    "@torch.no_grad()\n",
    "def evaluate(model, val_loader):\n",
    "    model.eval()\n",
    "    outputs = [model.validation_step(batch) for batch in val_loader]\n",
    "    return model.validation_epoch_end(outputs)\n",
    "\n",
    "def get_lr(optimizer):\n",
    "    for param_group in optimizer.param_groups:\n",
    "        return param_group['lr']\n",
    "\n",
    "def fit_one_cycle(epochs, max_lr, model, train_loader, val_loader, \n",
    "                  weight_decay=0, grad_clip=None, opt_func=torch.optim.Adam):\n",
    "    torch.cuda.empty_cache()\n",
    "    history = []\n",
    "    \n",
    "    # Set up cutom optimizer with weight decay\n",
    "    optimizer = opt_func(model.parameters(), max_lr, weight_decay=weight_decay)\n",
    "    # Set up one-cycle learning rate scheduler\n",
    "    sched = torch.optim.lr_scheduler.OneCycleLR(optimizer, max_lr, epochs=epochs, \n",
    "                                                steps_per_epoch=len(train_loader))\n",
    "    \n",
    "    for epoch in range(epochs):\n",
    "        # Training Phase \n",
    "        model.train()\n",
    "        train_losses = []\n",
    "        lrs = []\n",
    "        for batch in train_loader:\n",
    "            loss = model.training_step(batch)\n",
    "            train_losses.append(loss)\n",
    "            loss.backward()\n",
    "            \n",
    "            # Gradient clipping\n",
    "            if grad_clip: \n",
    "                nn.utils.clip_grad_value_(model.parameters(), grad_clip)\n",
    "            \n",
    "            optimizer.step()\n",
    "            optimizer.zero_grad()\n",
    "            \n",
    "            # Record & update learning rate\n",
    "            lrs.append(get_lr(optimizer))\n",
    "            sched.step()\n",
    "        \n",
    "        # Validation phase\n",
    "        result = evaluate(model, val_loader)\n",
    "        result['train_loss'] = torch.stack(train_losses).mean().item()\n",
    "        result['lrs'] = lrs\n",
    "        model.epoch_end(epoch, result)\n",
    "        history.append(result)\n",
    "    return history"
   ]
  },
  {
   "cell_type": "code",
   "execution_count": 55,
   "metadata": {
    "execution": {
     "iopub.execute_input": "2021-04-23T02:07:12.090427Z",
     "iopub.status.busy": "2021-04-23T02:07:12.088944Z",
     "iopub.status.idle": "2021-04-23T02:07:12.091397Z",
     "shell.execute_reply": "2021-04-23T02:07:12.092051Z"
    },
    "papermill": {
     "duration": 5.247901,
     "end_time": "2021-04-23T02:07:12.092274",
     "exception": false,
     "start_time": "2021-04-23T02:07:06.844373",
     "status": "completed"
    },
    "tags": []
   },
   "outputs": [],
   "source": [
    "epochs = 8\n",
    "max_lr = 0.001\n",
    "grad_clip = 0.1\n",
    "weight_decay = 1e-4\n",
    "opt_func = torch.optim.SGD"
   ]
  },
  {
   "cell_type": "code",
   "execution_count": 56,
   "metadata": {
    "execution": {
     "iopub.execute_input": "2021-04-23T02:07:22.685867Z",
     "iopub.status.busy": "2021-04-23T02:07:22.684954Z",
     "iopub.status.idle": "2021-04-23T02:07:22.687503Z",
     "shell.execute_reply": "2021-04-23T02:07:22.687080Z"
    },
    "papermill": {
     "duration": 5.215219,
     "end_time": "2021-04-23T02:07:22.687622",
     "exception": false,
     "start_time": "2021-04-23T02:07:17.472403",
     "status": "completed"
    },
    "tags": []
   },
   "outputs": [],
   "source": [
    "val_dataloader = DeviceDataLoader(dataloaders['validation'], device)"
   ]
  },
  {
   "cell_type": "code",
   "execution_count": 57,
   "metadata": {
    "execution": {
     "iopub.execute_input": "2021-04-23T02:07:33.683794Z",
     "iopub.status.busy": "2021-04-23T02:07:33.683018Z",
     "iopub.status.idle": "2021-04-23T02:07:33.685800Z",
     "shell.execute_reply": "2021-04-23T02:07:33.685373Z"
    },
    "papermill": {
     "duration": 5.636349,
     "end_time": "2021-04-23T02:07:33.685909",
     "exception": false,
     "start_time": "2021-04-23T02:07:28.049560",
     "status": "completed"
    },
    "tags": []
   },
   "outputs": [],
   "source": [
    "train_dataloader = DeviceDataLoader(dataloaders['train'], device)"
   ]
  },
  {
   "cell_type": "code",
   "execution_count": 58,
   "metadata": {
    "execution": {
     "iopub.execute_input": "2021-04-23T02:07:44.258894Z",
     "iopub.status.busy": "2021-04-23T02:07:44.258044Z",
     "iopub.status.idle": "2021-04-23T02:07:49.958840Z",
     "shell.execute_reply": "2021-04-23T02:07:49.958234Z"
    },
    "papermill": {
     "duration": 10.885295,
     "end_time": "2021-04-23T02:07:49.958987",
     "exception": false,
     "start_time": "2021-04-23T02:07:39.073692",
     "status": "completed"
    },
    "tags": []
   },
   "outputs": [
    {
     "data": {
      "text/plain": [
       "[{'val_loss': 1.656030535697937}]"
      ]
     },
     "execution_count": 58,
     "metadata": {},
     "output_type": "execute_result"
    }
   ],
   "source": [
    "history = [evaluate(model, val_dataloader)]\n",
    "history"
   ]
  },
  {
   "cell_type": "code",
   "execution_count": 59,
   "metadata": {
    "execution": {
     "iopub.execute_input": "2021-04-23T02:08:00.755423Z",
     "iopub.status.busy": "2021-04-23T02:08:00.754501Z",
     "iopub.status.idle": "2021-04-23T02:08:00.757357Z",
     "shell.execute_reply": "2021-04-23T02:08:00.756856Z"
    },
    "papermill": {
     "duration": 5.623962,
     "end_time": "2021-04-23T02:08:00.757485",
     "exception": false,
     "start_time": "2021-04-23T02:07:55.133523",
     "status": "completed"
    },
    "tags": []
   },
   "outputs": [],
   "source": [
    "model.freeze()"
   ]
  },
  {
   "cell_type": "code",
   "execution_count": 60,
   "metadata": {
    "execution": {
     "iopub.execute_input": "2021-04-23T02:08:11.879050Z",
     "iopub.status.busy": "2021-04-23T02:08:11.878158Z",
     "iopub.status.idle": "2021-04-23T02:18:05.969941Z",
     "shell.execute_reply": "2021-04-23T02:18:05.970719Z"
    },
    "papermill": {
     "duration": 599.545662,
     "end_time": "2021-04-23T02:18:05.970938",
     "exception": false,
     "start_time": "2021-04-23T02:08:06.425276",
     "status": "completed"
    },
    "tags": []
   },
   "outputs": [
    {
     "name": "stdout",
     "output_type": "stream",
     "text": [
      "Epoch [0], last_lr: 0.00039, train_loss: 1.2022, val_loss: 1.1040\n",
      "Epoch [1], last_lr: 0.00094, train_loss: 1.1423, val_loss: 1.1268\n",
      "Epoch [2], last_lr: 0.00097, train_loss: 1.1229, val_loss: 1.1380\n",
      "Epoch [3], last_lr: 0.00081, train_loss: 1.1053, val_loss: 1.1220\n",
      "Epoch [4], last_lr: 0.00056, train_loss: 1.0941, val_loss: 1.0691\n",
      "Epoch [5], last_lr: 0.00028, train_loss: 1.0849, val_loss: 1.0880\n",
      "Epoch [6], last_lr: 0.00008, train_loss: 1.0645, val_loss: 1.0643\n",
      "Epoch [7], last_lr: 0.00000, train_loss: 1.0482, val_loss: 1.0533\n",
      "CPU times: user 7min 40s, sys: 2min 5s, total: 9min 45s\n",
      "Wall time: 9min 48s\n"
     ]
    }
   ],
   "source": [
    "%%time\n",
    "history += fit_one_cycle(epochs, max_lr, model, train_dataloader, val_dataloader, \n",
    "                         grad_clip=grad_clip, \n",
    "                         weight_decay=weight_decay, \n",
    "                         opt_func=opt_func)"
   ]
  },
  {
   "cell_type": "code",
   "execution_count": 61,
   "metadata": {
    "execution": {
     "iopub.execute_input": "2021-04-23T02:18:17.037563Z",
     "iopub.status.busy": "2021-04-23T02:18:17.036746Z",
     "iopub.status.idle": "2021-04-23T02:18:17.039706Z",
     "shell.execute_reply": "2021-04-23T02:18:17.039283Z"
    },
    "papermill": {
     "duration": 5.89357,
     "end_time": "2021-04-23T02:18:17.039824",
     "exception": false,
     "start_time": "2021-04-23T02:18:11.146254",
     "status": "completed"
    },
    "tags": []
   },
   "outputs": [],
   "source": [
    "epochs = 8\n",
    "max_lr = 0.0005\n",
    "grad_clip = 0.1\n",
    "weight_decay = 1e-4\n",
    "opt_func = torch.optim.SGD"
   ]
  },
  {
   "cell_type": "code",
   "execution_count": 62,
   "metadata": {
    "execution": {
     "iopub.execute_input": "2021-04-23T02:18:27.731842Z",
     "iopub.status.busy": "2021-04-23T02:18:27.731054Z",
     "iopub.status.idle": "2021-04-23T02:28:22.256116Z",
     "shell.execute_reply": "2021-04-23T02:28:22.256891Z"
    },
    "papermill": {
     "duration": 600.03294,
     "end_time": "2021-04-23T02:28:22.257154",
     "exception": false,
     "start_time": "2021-04-23T02:18:22.224214",
     "status": "completed"
    },
    "tags": []
   },
   "outputs": [
    {
     "name": "stdout",
     "output_type": "stream",
     "text": [
      "Epoch [0], last_lr: 0.00020, train_loss: 1.0422, val_loss: 1.0850\n",
      "Epoch [1], last_lr: 0.00047, train_loss: 1.0397, val_loss: 1.1290\n",
      "Epoch [2], last_lr: 0.00049, train_loss: 1.0342, val_loss: 1.0959\n",
      "Epoch [3], last_lr: 0.00041, train_loss: 1.0258, val_loss: 1.0243\n",
      "Epoch [4], last_lr: 0.00028, train_loss: 1.0196, val_loss: 1.0229\n",
      "Epoch [5], last_lr: 0.00014, train_loss: 1.0058, val_loss: 1.0145\n",
      "Epoch [6], last_lr: 0.00004, train_loss: 0.9992, val_loss: 1.0061\n",
      "Epoch [7], last_lr: 0.00000, train_loss: 0.9917, val_loss: 1.0018\n",
      "CPU times: user 7min 40s, sys: 2min 5s, total: 9min 46s\n",
      "Wall time: 9min 48s\n"
     ]
    }
   ],
   "source": [
    "%%time\n",
    "history += fit_one_cycle(epochs, max_lr, model, train_dataloader, val_dataloader, \n",
    "                         grad_clip=grad_clip, \n",
    "                         weight_decay=weight_decay, \n",
    "                         opt_func=opt_func)"
   ]
  },
  {
   "cell_type": "code",
   "execution_count": null,
   "metadata": {
    "papermill": {
     "duration": 5.583375,
     "end_time": "2021-04-23T02:28:33.005510",
     "exception": false,
     "start_time": "2021-04-23T02:28:27.422135",
     "status": "completed"
    },
    "tags": []
   },
   "outputs": [],
   "source": []
  },
  {
   "cell_type": "code",
   "execution_count": 63,
   "metadata": {
    "execution": {
     "iopub.execute_input": "2021-04-23T02:28:43.616610Z",
     "iopub.status.busy": "2021-04-23T02:28:43.615652Z",
     "iopub.status.idle": "2021-04-23T02:28:43.617930Z",
     "shell.execute_reply": "2021-04-23T02:28:43.618427Z"
    },
    "papermill": {
     "duration": 5.443125,
     "end_time": "2021-04-23T02:28:43.618571",
     "exception": false,
     "start_time": "2021-04-23T02:28:38.175446",
     "status": "completed"
    },
    "tags": []
   },
   "outputs": [],
   "source": [
    "def eval_model(model, dataloader):\n",
    "\n",
    "    model.eval()\n",
    "    Y_pred = []\n",
    "    Y_test = []\n",
    "    Y_pred_prob = []\n",
    "    for data, target in dataloader:\n",
    "        # your code here\n",
    "        #raise NotImplementedError\n",
    "        data = data.to(device)\n",
    "        output = model(data)\n",
    "        preds_soft = torch.softmax(output, dim=1)\n",
    "        _, preds = torch.max(preds_soft, 1)\n",
    "        y_pred = preds.detach().cpu().numpy()\n",
    "        Y_pred.append(y_pred)\n",
    "        \n",
    "        y_test = target.data.detach().cpu().numpy()\n",
    "        Y_test.append(y_test)\n",
    "        \n",
    "        y_pred_prob = preds_soft.detach().cpu().numpy()\n",
    "        Y_pred_prob.append(y_pred_prob)\n",
    "        #print(target)\n",
    "        #print(Y_pred[0].shape)\n",
    "    Y_pred = np.concatenate(Y_pred, axis=0)\n",
    "    Y_test = np.concatenate(Y_test, axis=0)\n",
    "    Y_pred_prob = np.concatenate(Y_pred_prob, axis=0)\n",
    "    return Y_pred, Y_test, Y_pred_prob\n"
   ]
  },
  {
   "cell_type": "code",
   "execution_count": 64,
   "metadata": {
    "execution": {
     "iopub.execute_input": "2021-04-23T02:28:54.614963Z",
     "iopub.status.busy": "2021-04-23T02:28:54.614226Z",
     "iopub.status.idle": "2021-04-23T02:29:33.348704Z",
     "shell.execute_reply": "2021-04-23T02:29:33.347790Z"
    },
    "papermill": {
     "duration": 44.568433,
     "end_time": "2021-04-23T02:29:33.348844",
     "exception": false,
     "start_time": "2021-04-23T02:28:48.780411",
     "status": "completed"
    },
    "tags": []
   },
   "outputs": [],
   "source": [
    "Y_pred, Y_test, Y_pred_prob = eval_model(model, testloaders['test'])"
   ]
  },
  {
   "cell_type": "code",
   "execution_count": 65,
   "metadata": {
    "execution": {
     "iopub.execute_input": "2021-04-23T02:29:43.953632Z",
     "iopub.status.busy": "2021-04-23T02:29:43.952559Z",
     "iopub.status.idle": "2021-04-23T02:29:43.958578Z",
     "shell.execute_reply": "2021-04-23T02:29:43.958969Z"
    },
    "papermill": {
     "duration": 5.214495,
     "end_time": "2021-04-23T02:29:43.959111",
     "exception": false,
     "start_time": "2021-04-23T02:29:38.744616",
     "status": "completed"
    },
    "tags": []
   },
   "outputs": [
    {
     "data": {
      "text/plain": [
       "array([2, 1, 1, ..., 1, 1, 2])"
      ]
     },
     "execution_count": 65,
     "metadata": {},
     "output_type": "execute_result"
    }
   ],
   "source": [
    "Y_pred"
   ]
  },
  {
   "cell_type": "code",
   "execution_count": 66,
   "metadata": {
    "execution": {
     "iopub.execute_input": "2021-04-23T02:29:54.647905Z",
     "iopub.status.busy": "2021-04-23T02:29:54.646911Z",
     "iopub.status.idle": "2021-04-23T02:29:54.650623Z",
     "shell.execute_reply": "2021-04-23T02:29:54.651081Z"
    },
    "papermill": {
     "duration": 5.287759,
     "end_time": "2021-04-23T02:29:54.651278",
     "exception": false,
     "start_time": "2021-04-23T02:29:49.363519",
     "status": "completed"
    },
    "tags": []
   },
   "outputs": [
    {
     "data": {
      "text/plain": [
       "array([[0.17490712, 0.1750035 , 0.47518227, 0.17490713],\n",
       "       [0.1757163 , 0.47006312, 0.17850526, 0.17571537],\n",
       "       [0.17490311, 0.47521973, 0.17497398, 0.17490321],\n",
       "       ...,\n",
       "       [0.18724169, 0.3635217 , 0.2619895 , 0.18724707],\n",
       "       [0.17490189, 0.4752298 , 0.1749662 , 0.17490211],\n",
       "       [0.18569753, 0.24295712, 0.38564852, 0.18569687]], dtype=float32)"
      ]
     },
     "execution_count": 66,
     "metadata": {},
     "output_type": "execute_result"
    }
   ],
   "source": [
    "Y_pred_prob"
   ]
  },
  {
   "cell_type": "code",
   "execution_count": 67,
   "metadata": {
    "execution": {
     "iopub.execute_input": "2021-04-23T02:30:05.849346Z",
     "iopub.status.busy": "2021-04-23T02:30:05.848561Z",
     "iopub.status.idle": "2021-04-23T02:30:05.850957Z",
     "shell.execute_reply": "2021-04-23T02:30:05.851629Z"
    },
    "papermill": {
     "duration": 5.239888,
     "end_time": "2021-04-23T02:30:05.851766",
     "exception": false,
     "start_time": "2021-04-23T02:30:00.611878",
     "status": "completed"
    },
    "tags": []
   },
   "outputs": [],
   "source": [
    "Y_test_COVID = [1 if i ==1 else 0 for i in Y_test]\n",
    "Y_pred_COVID = [1 if i == 1 else 0 for i in Y_pred]"
   ]
  },
  {
   "cell_type": "code",
   "execution_count": 68,
   "metadata": {
    "execution": {
     "iopub.execute_input": "2021-04-23T02:30:16.453901Z",
     "iopub.status.busy": "2021-04-23T02:30:16.452979Z",
     "iopub.status.idle": "2021-04-23T02:30:16.458087Z",
     "shell.execute_reply": "2021-04-23T02:30:16.457443Z"
    },
    "papermill": {
     "duration": 5.159345,
     "end_time": "2021-04-23T02:30:16.458286",
     "exception": false,
     "start_time": "2021-04-23T02:30:11.298941",
     "status": "completed"
    },
    "tags": []
   },
   "outputs": [
    {
     "name": "stdout",
     "output_type": "stream",
     "text": [
      "0.8180309734513275\n"
     ]
    }
   ],
   "source": [
    "#sensitivity= correct_covid_label/total_covid_label\n",
    "\n",
    "total_covid_label = np.sum(Y_test_COVID)\n",
    "total_non_covid = len(Y_test_COVID) - total_covid_label\n",
    "correct_covid_label = 0\n",
    "correct_non_covid = 0\n",
    "for i, v in enumerate(Y_test_COVID):\n",
    "    if v==1 and Y_pred_COVID[i] == v:\n",
    "        correct_covid_label +=1\n",
    "    elif v==0 and Y_pred_COVID[i] ==v:\n",
    "        correct_non_covid +=1\n",
    "    else:\n",
    "        pass\n",
    "\n",
    "sensitivity = correct_covid_label/total_covid_label\n",
    "print(sensitivity)"
   ]
  },
  {
   "cell_type": "code",
   "execution_count": 69,
   "metadata": {
    "execution": {
     "iopub.execute_input": "2021-04-23T02:30:27.038834Z",
     "iopub.status.busy": "2021-04-23T02:30:27.038132Z",
     "iopub.status.idle": "2021-04-23T02:30:27.041839Z",
     "shell.execute_reply": "2021-04-23T02:30:27.042381Z"
    },
    "papermill": {
     "duration": 5.211397,
     "end_time": "2021-04-23T02:30:27.042560",
     "exception": false,
     "start_time": "2021-04-23T02:30:21.831163",
     "status": "completed"
    },
    "tags": []
   },
   "outputs": [
    {
     "name": "stdout",
     "output_type": "stream",
     "text": [
      "0.8101109741060419\n"
     ]
    }
   ],
   "source": [
    "specificity = correct_non_covid/total_non_covid\n",
    "print(specificity)"
   ]
  },
  {
   "cell_type": "markdown",
   "metadata": {
    "papermill": {
     "duration": 5.15422,
     "end_time": "2021-04-23T02:30:38.190925",
     "exception": false,
     "start_time": "2021-04-23T02:30:33.036705",
     "status": "completed"
    },
    "tags": []
   },
   "source": [
    "#### PR Curve on test set"
   ]
  },
  {
   "cell_type": "code",
   "execution_count": 70,
   "metadata": {
    "execution": {
     "iopub.execute_input": "2021-04-23T02:30:48.853850Z",
     "iopub.status.busy": "2021-04-23T02:30:48.853011Z",
     "iopub.status.idle": "2021-04-23T02:30:49.680171Z",
     "shell.execute_reply": "2021-04-23T02:30:49.679662Z"
    },
    "papermill": {
     "duration": 5.981267,
     "end_time": "2021-04-23T02:30:49.680326",
     "exception": false,
     "start_time": "2021-04-23T02:30:43.699059",
     "status": "completed"
    },
    "tags": []
   },
   "outputs": [],
   "source": [
    "from sklearn.metrics import precision_recall_curve"
   ]
  },
  {
   "cell_type": "code",
   "execution_count": 71,
   "metadata": {
    "execution": {
     "iopub.execute_input": "2021-04-23T02:31:00.369808Z",
     "iopub.status.busy": "2021-04-23T02:31:00.369027Z",
     "iopub.status.idle": "2021-04-23T02:31:00.376702Z",
     "shell.execute_reply": "2021-04-23T02:31:00.376292Z"
    },
    "papermill": {
     "duration": 5.252432,
     "end_time": "2021-04-23T02:31:00.376820",
     "exception": false,
     "start_time": "2021-04-23T02:30:55.124388",
     "status": "completed"
    },
    "tags": []
   },
   "outputs": [],
   "source": [
    "prec, recall, c = precision_recall_curve(Y_test_COVID , Y_pred_prob[:,1])"
   ]
  },
  {
   "cell_type": "code",
   "execution_count": 72,
   "metadata": {
    "execution": {
     "iopub.execute_input": "2021-04-23T02:31:11.451592Z",
     "iopub.status.busy": "2021-04-23T02:31:11.450972Z",
     "iopub.status.idle": "2021-04-23T02:31:11.454212Z",
     "shell.execute_reply": "2021-04-23T02:31:11.454872Z"
    },
    "papermill": {
     "duration": 5.211266,
     "end_time": "2021-04-23T02:31:11.455073",
     "exception": false,
     "start_time": "2021-04-23T02:31:06.243807",
     "status": "completed"
    },
    "tags": []
   },
   "outputs": [
    {
     "data": {
      "text/plain": [
       "array([0.21793635, 0.21900376, 0.23042188, ..., 0.33333333, 0.        ,\n",
       "       1.        ])"
      ]
     },
     "execution_count": 72,
     "metadata": {},
     "output_type": "execute_result"
    }
   ],
   "source": [
    "prec"
   ]
  },
  {
   "cell_type": "code",
   "execution_count": 73,
   "metadata": {
    "execution": {
     "iopub.execute_input": "2021-04-23T02:31:22.035469Z",
     "iopub.status.busy": "2021-04-23T02:31:22.034617Z",
     "iopub.status.idle": "2021-04-23T02:31:22.037687Z",
     "shell.execute_reply": "2021-04-23T02:31:22.038201Z"
    },
    "papermill": {
     "duration": 5.174673,
     "end_time": "2021-04-23T02:31:22.038339",
     "exception": false,
     "start_time": "2021-04-23T02:31:16.863666",
     "status": "completed"
    },
    "tags": []
   },
   "outputs": [
    {
     "data": {
      "text/plain": [
       "array([1.00000000e+00, 9.99446903e-01, 9.87831858e-01, ...,\n",
       "       5.53097345e-04, 0.00000000e+00, 0.00000000e+00])"
      ]
     },
     "execution_count": 73,
     "metadata": {},
     "output_type": "execute_result"
    }
   ],
   "source": [
    "recall"
   ]
  },
  {
   "cell_type": "code",
   "execution_count": 74,
   "metadata": {
    "execution": {
     "iopub.execute_input": "2021-04-23T02:31:32.973165Z",
     "iopub.status.busy": "2021-04-23T02:31:32.972417Z",
     "iopub.status.idle": "2021-04-23T02:31:33.136017Z",
     "shell.execute_reply": "2021-04-23T02:31:33.136963Z"
    },
    "papermill": {
     "duration": 5.665738,
     "end_time": "2021-04-23T02:31:33.137153",
     "exception": false,
     "start_time": "2021-04-23T02:31:27.471415",
     "status": "completed"
    },
    "tags": []
   },
   "outputs": [
    {
     "data": {
      "text/plain": [
       "[<matplotlib.lines.Line2D at 0x7efb8000b310>]"
      ]
     },
     "execution_count": 74,
     "metadata": {},
     "output_type": "execute_result"
    },
    {
     "data": {
      "image/png": "[encoded data removed]",
      "text/plain": [
       "<Figure size 432x288 with 1 Axes>"
      ]
     },
     "metadata": {
      "needs_background": "light"
     },
     "output_type": "display_data"
    }
   ],
   "source": [
    "plt.plot(prec, recall, lw=2)"
   ]
  },
  {
   "cell_type": "code",
   "execution_count": 75,
   "metadata": {
    "execution": {
     "iopub.execute_input": "2021-04-23T02:31:43.760935Z",
     "iopub.status.busy": "2021-04-23T02:31:43.760074Z",
     "iopub.status.idle": "2021-04-23T02:31:43.928051Z",
     "shell.execute_reply": "2021-04-23T02:31:43.927599Z"
    },
    "papermill": {
     "duration": 5.317013,
     "end_time": "2021-04-23T02:31:43.928171",
     "exception": false,
     "start_time": "2021-04-23T02:31:38.611158",
     "status": "completed"
    },
    "tags": []
   },
   "outputs": [],
   "source": [
    "pd.DataFrame({'precision': prec, 'recall': recall}).to_csv('pc_curve_0420_baseline_onecycle_3.csv', index=False)"
   ]
  },
  {
   "cell_type": "code",
   "execution_count": 76,
   "metadata": {
    "execution": {
     "iopub.execute_input": "2021-04-23T02:31:54.468936Z",
     "iopub.status.busy": "2021-04-23T02:31:54.468144Z",
     "iopub.status.idle": "2021-04-23T02:31:54.982811Z",
     "shell.execute_reply": "2021-04-23T02:31:54.981843Z"
    },
    "papermill": {
     "duration": 5.674079,
     "end_time": "2021-04-23T02:31:54.982953",
     "exception": false,
     "start_time": "2021-04-23T02:31:49.308874",
     "status": "completed"
    },
    "tags": []
   },
   "outputs": [],
   "source": [
    "files = glob.glob('/kaggle/working/train/*/*.png')\n",
    "for f in files:\n",
    "    os.remove(f)\n",
    "files = glob.glob('/kaggle/working/test/*/*.png')\n",
    "for f in files:\n",
    "    os.remove(f)\n",
    "files = glob.glob('/kaggle/working/valid/*/*.png')\n",
    "for f in files:\n",
    "    os.remove(f)"
   ]
  },
  {
   "cell_type": "code",
   "execution_count": 77,
   "metadata": {
    "execution": {
     "iopub.execute_input": "2021-04-23T02:32:06.120988Z",
     "iopub.status.busy": "2021-04-23T02:32:06.120204Z",
     "iopub.status.idle": "2021-04-23T02:32:06.206246Z",
     "shell.execute_reply": "2021-04-23T02:32:06.205817Z"
    },
    "papermill": {
     "duration": 5.752489,
     "end_time": "2021-04-23T02:32:06.206370",
     "exception": false,
     "start_time": "2021-04-23T02:32:00.453881",
     "status": "completed"
    },
    "tags": []
   },
   "outputs": [
    {
     "ename": "NameError",
     "evalue": "name 'acc_his' is not defined",
     "output_type": "error",
     "traceback": [
      "\u001b[0;31m---------------------------------------------------------------------------\u001b[0m",
      "\u001b[0;31mNameError\u001b[0m                                 Traceback (most recent call last)",
      "\u001b[0;32m<ipython-input-77-d43b45789152>\u001b[0m in \u001b[0;36m<module>\u001b[0;34m\u001b[0m\n\u001b[0;32m----> 1\u001b[0;31m \u001b[0macc_his\u001b[0m\u001b[0;34m\u001b[0m\u001b[0;34m\u001b[0m\u001b[0m\n\u001b[0m",
      "\u001b[0;31mNameError\u001b[0m: name 'acc_his' is not defined"
     ]
    }
   ],
   "source": [
    "acc_his"
   ]
  },
  {
   "cell_type": "code",
   "execution_count": 78,
   "metadata": {
    "execution": {
     "iopub.execute_input": "2021-04-23T02:32:16.868414Z",
     "iopub.status.busy": "2021-04-23T02:32:16.867666Z",
     "iopub.status.idle": "2021-04-23T02:32:16.871320Z",
     "shell.execute_reply": "2021-04-23T02:32:16.870885Z"
    },
    "papermill": {
     "duration": 5.195359,
     "end_time": "2021-04-23T02:32:16.871443",
     "exception": false,
     "start_time": "2021-04-23T02:32:11.676084",
     "status": "completed"
    },
    "tags": []
   },
   "outputs": [
    {
     "ename": "NameError",
     "evalue": "name 'loss_his' is not defined",
     "output_type": "error",
     "traceback": [
      "\u001b[0;31m---------------------------------------------------------------------------\u001b[0m",
      "\u001b[0;31mNameError\u001b[0m                                 Traceback (most recent call last)",
      "\u001b[0;32m<ipython-input-78-2ef89e062c0f>\u001b[0m in \u001b[0;36m<module>\u001b[0;34m\u001b[0m\n\u001b[0;32m----> 1\u001b[0;31m \u001b[0mloss_his\u001b[0m\u001b[0;34m\u001b[0m\u001b[0;34m\u001b[0m\u001b[0m\n\u001b[0m",
      "\u001b[0;31mNameError\u001b[0m: name 'loss_his' is not defined"
     ]
    }
   ],
   "source": [
    "loss_his"
   ]
  },
  {
   "cell_type": "code",
   "execution_count": 79,
   "metadata": {
    "execution": {
     "iopub.execute_input": "2021-04-23T02:32:27.563210Z",
     "iopub.status.busy": "2021-04-23T02:32:27.562432Z",
     "iopub.status.idle": "2021-04-23T02:32:27.565766Z",
     "shell.execute_reply": "2021-04-23T02:32:27.566277Z"
    },
    "papermill": {
     "duration": 5.224444,
     "end_time": "2021-04-23T02:32:27.566414",
     "exception": false,
     "start_time": "2021-04-23T02:32:22.341970",
     "status": "completed"
    },
    "tags": []
   },
   "outputs": [
    {
     "ename": "NameError",
     "evalue": "name 'mtrx' is not defined",
     "output_type": "error",
     "traceback": [
      "\u001b[0;31m---------------------------------------------------------------------------\u001b[0m",
      "\u001b[0;31mNameError\u001b[0m                                 Traceback (most recent call last)",
      "\u001b[0;32m<ipython-input-79-9c77639222d6>\u001b[0m in \u001b[0;36m<module>\u001b[0;34m\u001b[0m\n\u001b[0;32m----> 1\u001b[0;31m \u001b[0mmtrx\u001b[0m\u001b[0;34m\u001b[0m\u001b[0;34m\u001b[0m\u001b[0m\n\u001b[0m",
      "\u001b[0;31mNameError\u001b[0m: name 'mtrx' is not defined"
     ]
    }
   ],
   "source": [
    "mtrx"
   ]
  },
  {
   "cell_type": "code",
   "execution_count": 80,
   "metadata": {
    "execution": {
     "iopub.execute_input": "2021-04-23T02:32:38.642809Z",
     "iopub.status.busy": "2021-04-23T02:32:38.642140Z",
     "iopub.status.idle": "2021-04-23T02:32:38.645292Z",
     "shell.execute_reply": "2021-04-23T02:32:38.644851Z"
    },
    "papermill": {
     "duration": 5.70575,
     "end_time": "2021-04-23T02:32:38.645415",
     "exception": false,
     "start_time": "2021-04-23T02:32:32.939665",
     "status": "completed"
    },
    "tags": []
   },
   "outputs": [],
   "source": [
    "os.mkdir('/kaggle/working/models')\n"
   ]
  },
  {
   "cell_type": "code",
   "execution_count": 81,
   "metadata": {
    "execution": {
     "iopub.execute_input": "2021-04-23T02:32:49.398248Z",
     "iopub.status.busy": "2021-04-23T02:32:49.397379Z",
     "iopub.status.idle": "2021-04-23T02:32:49.399969Z",
     "shell.execute_reply": "2021-04-23T02:32:49.399562Z"
    },
    "papermill": {
     "duration": 5.186867,
     "end_time": "2021-04-23T02:32:49.400086",
     "exception": false,
     "start_time": "2021-04-23T02:32:44.213219",
     "status": "completed"
    },
    "tags": []
   },
   "outputs": [],
   "source": [
    "# torch.save(model.state_dict(), 'models/weights.h5') #save the model's weights\n",
    "# model.load_state_dict(torch.load('models/weights.h5')) #load the model's weights"
   ]
  },
  {
   "cell_type": "code",
   "execution_count": 82,
   "metadata": {
    "execution": {
     "iopub.execute_input": "2021-04-23T02:33:00.014915Z",
     "iopub.status.busy": "2021-04-23T02:33:00.014123Z",
     "iopub.status.idle": "2021-04-23T02:33:00.017969Z",
     "shell.execute_reply": "2021-04-23T02:33:00.017518Z"
    },
    "papermill": {
     "duration": 5.206059,
     "end_time": "2021-04-23T02:33:00.018084",
     "exception": false,
     "start_time": "2021-04-23T02:32:54.812025",
     "status": "completed"
    },
    "tags": []
   },
   "outputs": [
    {
     "ename": "NameError",
     "evalue": "name 'mtrx' is not defined",
     "output_type": "error",
     "traceback": [
      "\u001b[0;31m---------------------------------------------------------------------------\u001b[0m",
      "\u001b[0;31mNameError\u001b[0m                                 Traceback (most recent call last)",
      "\u001b[0;32m<ipython-input-82-9c77639222d6>\u001b[0m in \u001b[0;36m<module>\u001b[0;34m\u001b[0m\n\u001b[0;32m----> 1\u001b[0;31m \u001b[0mmtrx\u001b[0m\u001b[0;34m\u001b[0m\u001b[0;34m\u001b[0m\u001b[0m\n\u001b[0m",
      "\u001b[0;31mNameError\u001b[0m: name 'mtrx' is not defined"
     ]
    }
   ],
   "source": [
    "mtrx"
   ]
  },
  {
   "cell_type": "code",
   "execution_count": 83,
   "metadata": {
    "execution": {
     "iopub.execute_input": "2021-04-23T02:33:11.075503Z",
     "iopub.status.busy": "2021-04-23T02:33:11.074638Z",
     "iopub.status.idle": "2021-04-23T02:33:11.077327Z",
     "shell.execute_reply": "2021-04-23T02:33:11.076819Z"
    },
    "papermill": {
     "duration": 5.65381,
     "end_time": "2021-04-23T02:33:11.077445",
     "exception": false,
     "start_time": "2021-04-23T02:33:05.423635",
     "status": "completed"
    },
    "tags": []
   },
   "outputs": [],
   "source": [
    "\n",
    "# for inputs, labels in dataloaders['train']:\n",
    "#     inputs = inputs.to(device) #convert inputs to cpu or cuda\n",
    "#     labels = labels.to(device) #convert labels to cpu or cuda\n"
   ]
  },
  {
   "cell_type": "code",
   "execution_count": 84,
   "metadata": {
    "execution": {
     "iopub.execute_input": "2021-04-23T02:33:21.633614Z",
     "iopub.status.busy": "2021-04-23T02:33:21.632872Z",
     "iopub.status.idle": "2021-04-23T02:33:21.636785Z",
     "shell.execute_reply": "2021-04-23T02:33:21.636310Z"
    },
    "papermill": {
     "duration": 5.193654,
     "end_time": "2021-04-23T02:33:21.636914",
     "exception": false,
     "start_time": "2021-04-23T02:33:16.443260",
     "status": "completed"
    },
    "tags": []
   },
   "outputs": [
    {
     "ename": "NameError",
     "evalue": "name 'acc_his' is not defined",
     "output_type": "error",
     "traceback": [
      "\u001b[0;31m---------------------------------------------------------------------------\u001b[0m",
      "\u001b[0;31mNameError\u001b[0m                                 Traceback (most recent call last)",
      "\u001b[0;32m<ipython-input-84-137cb29fe6cb>\u001b[0m in \u001b[0;36m<module>\u001b[0;34m\u001b[0m\n\u001b[0;32m----> 1\u001b[0;31m \u001b[0macc_hist\u001b[0m \u001b[0;34m=\u001b[0m \u001b[0;34m[\u001b[0m\u001b[0mi\u001b[0m\u001b[0;34m.\u001b[0m\u001b[0mdetach\u001b[0m\u001b[0;34m(\u001b[0m\u001b[0;34m)\u001b[0m\u001b[0;34m.\u001b[0m\u001b[0mcpu\u001b[0m\u001b[0;34m(\u001b[0m\u001b[0;34m)\u001b[0m\u001b[0;34m.\u001b[0m\u001b[0mnumpy\u001b[0m\u001b[0;34m(\u001b[0m\u001b[0;34m)\u001b[0m \u001b[0;32mfor\u001b[0m \u001b[0mi\u001b[0m \u001b[0;32min\u001b[0m \u001b[0macc_his\u001b[0m\u001b[0;34m]\u001b[0m\u001b[0;34m\u001b[0m\u001b[0;34m\u001b[0m\u001b[0m\n\u001b[0m",
      "\u001b[0;31mNameError\u001b[0m: name 'acc_his' is not defined"
     ]
    }
   ],
   "source": [
    "acc_hist = [i.detach().cpu().numpy() for i in acc_his]"
   ]
  },
  {
   "cell_type": "code",
   "execution_count": 85,
   "metadata": {
    "execution": {
     "iopub.execute_input": "2021-04-23T02:33:32.240447Z",
     "iopub.status.busy": "2021-04-23T02:33:32.239659Z",
     "iopub.status.idle": "2021-04-23T02:33:32.252547Z",
     "shell.execute_reply": "2021-04-23T02:33:32.252026Z"
    },
    "papermill": {
     "duration": 5.220704,
     "end_time": "2021-04-23T02:33:32.252664",
     "exception": false,
     "start_time": "2021-04-23T02:33:27.031960",
     "status": "completed"
    },
    "tags": []
   },
   "outputs": [
    {
     "ename": "NameError",
     "evalue": "name 'acc_hist' is not defined",
     "output_type": "error",
     "traceback": [
      "\u001b[0;31m---------------------------------------------------------------------------\u001b[0m",
      "\u001b[0;31mNameError\u001b[0m                                 Traceback (most recent call last)",
      "\u001b[0;32m<ipython-input-85-a25b5ad2cb19>\u001b[0m in \u001b[0;36m<module>\u001b[0;34m\u001b[0m\n\u001b[0;32m----> 1\u001b[0;31m \u001b[0macc_hist\u001b[0m\u001b[0;34m\u001b[0m\u001b[0;34m\u001b[0m\u001b[0m\n\u001b[0m",
      "\u001b[0;31mNameError\u001b[0m: name 'acc_hist' is not defined"
     ]
    }
   ],
   "source": [
    "acc_hist"
   ]
  },
  {
   "cell_type": "code",
   "execution_count": 86,
   "metadata": {
    "execution": {
     "iopub.execute_input": "2021-04-23T02:33:43.394684Z",
     "iopub.status.busy": "2021-04-23T02:33:43.393856Z",
     "iopub.status.idle": "2021-04-23T02:33:43.397850Z",
     "shell.execute_reply": "2021-04-23T02:33:43.397333Z"
    },
    "papermill": {
     "duration": 5.720182,
     "end_time": "2021-04-23T02:33:43.397965",
     "exception": false,
     "start_time": "2021-04-23T02:33:37.677783",
     "status": "completed"
    },
    "tags": []
   },
   "outputs": [
    {
     "ename": "NameError",
     "evalue": "name 'loss_his' is not defined",
     "output_type": "error",
     "traceback": [
      "\u001b[0;31m---------------------------------------------------------------------------\u001b[0m",
      "\u001b[0;31mNameError\u001b[0m                                 Traceback (most recent call last)",
      "\u001b[0;32m<ipython-input-86-1e0bf6712998>\u001b[0m in \u001b[0;36m<module>\u001b[0;34m\u001b[0m\n\u001b[1;32m      3\u001b[0m \u001b[0;32mfor\u001b[0m \u001b[0mi\u001b[0m \u001b[0;32min\u001b[0m \u001b[0mrange\u001b[0m\u001b[0;34m(\u001b[0m\u001b[0;36m40\u001b[0m\u001b[0;34m)\u001b[0m\u001b[0;34m:\u001b[0m\u001b[0;34m\u001b[0m\u001b[0;34m\u001b[0m\u001b[0m\n\u001b[1;32m      4\u001b[0m     \u001b[0;32mif\u001b[0m \u001b[0mi\u001b[0m\u001b[0;34m%\u001b[0m\u001b[0;36m2\u001b[0m \u001b[0;34m==\u001b[0m\u001b[0;36m0\u001b[0m\u001b[0;34m:\u001b[0m\u001b[0;34m\u001b[0m\u001b[0;34m\u001b[0m\u001b[0m\n\u001b[0;32m----> 5\u001b[0;31m         \u001b[0mval_loss\u001b[0m\u001b[0;34m.\u001b[0m\u001b[0mappend\u001b[0m\u001b[0;34m(\u001b[0m\u001b[0mloss_his\u001b[0m\u001b[0;34m[\u001b[0m\u001b[0mi\u001b[0m\u001b[0;34m]\u001b[0m\u001b[0;34m)\u001b[0m\u001b[0;34m\u001b[0m\u001b[0;34m\u001b[0m\u001b[0m\n\u001b[0m\u001b[1;32m      6\u001b[0m         \u001b[0mval_acc\u001b[0m\u001b[0;34m.\u001b[0m\u001b[0mappend\u001b[0m\u001b[0;34m(\u001b[0m\u001b[0mfloat\u001b[0m\u001b[0;34m(\u001b[0m\u001b[0macc_hist\u001b[0m\u001b[0;34m[\u001b[0m\u001b[0mi\u001b[0m\u001b[0;34m]\u001b[0m\u001b[0;34m)\u001b[0m\u001b[0;34m)\u001b[0m\u001b[0;34m\u001b[0m\u001b[0;34m\u001b[0m\u001b[0m\n\u001b[1;32m      7\u001b[0m     \u001b[0;32melse\u001b[0m\u001b[0;34m:\u001b[0m\u001b[0;34m\u001b[0m\u001b[0;34m\u001b[0m\u001b[0m\n",
      "\u001b[0;31mNameError\u001b[0m: name 'loss_his' is not defined"
     ]
    }
   ],
   "source": [
    "train_loss, train_acc = [],[]\n",
    "val_loss, val_acc = [], []\n",
    "for i in range(40):\n",
    "    if i%2 ==0:\n",
    "        val_loss.append(loss_his[i])\n",
    "        val_acc.append(float(acc_hist[i]))\n",
    "    else:\n",
    "        train_loss.append(loss_his[i])\n",
    "        train_acc.append(float(acc_hist[i]))\n"
   ]
  },
  {
   "cell_type": "code",
   "execution_count": 87,
   "metadata": {
    "execution": {
     "iopub.execute_input": "2021-04-23T02:33:53.950427Z",
     "iopub.status.busy": "2021-04-23T02:33:53.949665Z",
     "iopub.status.idle": "2021-04-23T02:33:53.953572Z",
     "shell.execute_reply": "2021-04-23T02:33:53.953008Z"
    },
    "papermill": {
     "duration": 5.12774,
     "end_time": "2021-04-23T02:33:53.953700",
     "exception": false,
     "start_time": "2021-04-23T02:33:48.825960",
     "status": "completed"
    },
    "tags": []
   },
   "outputs": [
    {
     "data": {
      "text/plain": [
       "[]"
      ]
     },
     "execution_count": 87,
     "metadata": {},
     "output_type": "execute_result"
    }
   ],
   "source": [
    "train_loss"
   ]
  },
  {
   "cell_type": "code",
   "execution_count": 88,
   "metadata": {
    "execution": {
     "iopub.execute_input": "2021-04-23T02:34:04.541275Z",
     "iopub.status.busy": "2021-04-23T02:34:04.540492Z",
     "iopub.status.idle": "2021-04-23T02:34:04.544167Z",
     "shell.execute_reply": "2021-04-23T02:34:04.543750Z"
    },
    "papermill": {
     "duration": 5.188047,
     "end_time": "2021-04-23T02:34:04.544327",
     "exception": false,
     "start_time": "2021-04-23T02:33:59.356280",
     "status": "completed"
    },
    "tags": []
   },
   "outputs": [
    {
     "data": {
      "text/plain": [
       "[]"
      ]
     },
     "execution_count": 88,
     "metadata": {},
     "output_type": "execute_result"
    }
   ],
   "source": [
    "val_loss"
   ]
  },
  {
   "cell_type": "code",
   "execution_count": 89,
   "metadata": {
    "execution": {
     "iopub.execute_input": "2021-04-23T02:34:15.601465Z",
     "iopub.status.busy": "2021-04-23T02:34:15.600707Z",
     "iopub.status.idle": "2021-04-23T02:34:15.604416Z",
     "shell.execute_reply": "2021-04-23T02:34:15.603968Z"
    },
    "papermill": {
     "duration": 5.62771,
     "end_time": "2021-04-23T02:34:15.604535",
     "exception": false,
     "start_time": "2021-04-23T02:34:09.976825",
     "status": "completed"
    },
    "tags": []
   },
   "outputs": [
    {
     "data": {
      "text/plain": [
       "[]"
      ]
     },
     "execution_count": 89,
     "metadata": {},
     "output_type": "execute_result"
    }
   ],
   "source": [
    "train_acc"
   ]
  },
  {
   "cell_type": "code",
   "execution_count": 90,
   "metadata": {
    "execution": {
     "iopub.execute_input": "2021-04-23T02:34:26.196830Z",
     "iopub.status.busy": "2021-04-23T02:34:26.196146Z",
     "iopub.status.idle": "2021-04-23T02:34:26.199069Z",
     "shell.execute_reply": "2021-04-23T02:34:26.199590Z"
    },
    "papermill": {
     "duration": 5.175647,
     "end_time": "2021-04-23T02:34:26.199726",
     "exception": false,
     "start_time": "2021-04-23T02:34:21.024079",
     "status": "completed"
    },
    "tags": []
   },
   "outputs": [
    {
     "data": {
      "text/plain": [
       "[]"
      ]
     },
     "execution_count": 90,
     "metadata": {},
     "output_type": "execute_result"
    }
   ],
   "source": [
    "val_acc"
   ]
  }
 ],
 "metadata": {
  "kernelspec": {
   "display_name": "Python 3",
   "language": "python",
   "name": "python3"
  },
  "language_info": {
   "codemirror_mode": {
    "name": "ipython",
    "version": 3
   },
   "file_extension": ".py",
   "mimetype": "text/x-python",
   "name": "python",
   "nbconvert_exporter": "python",
   "pygments_lexer": "ipython3",
   "version": "3.7.9"
  },
  "papermill": {
   "default_parameters": {},
   "duration": 2311.746928,
   "end_time": "2021-04-23T02:34:33.974608",
   "environment_variables": {},
   "exception": null,
   "input_path": "__notebook__.ipynb",
   "output_path": "__notebook__.ipynb",
   "parameters": {},
   "start_time": "2021-04-23T01:56:02.227680",
   "version": "2.2.2"
  },
  "widgets": {
   "application/vnd.jupyter.widget-state+json": {
    "state": {
     "02d7910a368a4cad8f5bc51d5806e064": {
      "model_module": "@jupyter-widgets/controls",
      "model_module_version": "1.5.0",
      "model_name": "FloatProgressModel",
      "state": {
       "_dom_classes": [],
       "_model_module": "@jupyter-widgets/controls",
       "_model_module_version": "1.5.0",
       "_model_name": "FloatProgressModel",
       "_view_count": null,
       "_view_module": "@jupyter-widgets/controls",
       "_view_module_version": "1.5.0",
       "_view_name": "ProgressView",
       "bar_style": "success",
       "description": "",
       "description_tooltip": null,
       "layout": "IPY_MODEL_fba6022d99e44a388913e1fa7e092cf0",
       "max": 102502400.0,
       "min": 0.0,
       "orientation": "horizontal",
       "style": "IPY_MODEL_ed834724440d42a0b4bf1322128fee1d",
       "value": 102502400.0
      }
     },
     "1154c57d0dd242d7a6db9ce49ac90645": {
      "model_module": "@jupyter-widgets/controls",
      "model_module_version": "1.5.0",
      "model_name": "DescriptionStyleModel",
      "state": {
       "_model_module": "@jupyter-widgets/controls",
       "_model_module_version": "1.5.0",
       "_model_name": "DescriptionStyleModel",
       "_view_count": null,
       "_view_module": "@jupyter-widgets/base",
       "_view_module_version": "1.2.0",
       "_view_name": "StyleView",
       "description_width": ""
      }
     },
     "1acadaa7c9dd4e509630a2d5b32eecad": {
      "model_module": "@jupyter-widgets/base",
      "model_module_version": "1.2.0",
      "model_name": "LayoutModel",
      "state": {
       "_model_module": "@jupyter-widgets/base",
       "_model_module_version": "1.2.0",
       "_model_name": "LayoutModel",
       "_view_count": null,
       "_view_module": "@jupyter-widgets/base",
       "_view_module_version": "1.2.0",
       "_view_name": "LayoutView",
       "align_content": null,
       "align_items": null,
       "align_self": null,
       "border": null,
       "bottom": null,
       "display": null,
       "flex": null,
       "flex_flow": null,
       "grid_area": null,
       "grid_auto_columns": null,
       "grid_auto_flow": null,
       "grid_auto_rows": null,
       "grid_column": null,
       "grid_gap": null,
       "grid_row": null,
       "grid_template_areas": null,
       "grid_template_columns": null,
       "grid_template_rows": null,
       "height": null,
       "justify_content": null,
       "justify_items": null,
       "left": null,
       "margin": null,
       "max_height": null,
       "max_width": null,
       "min_height": null,
       "min_width": null,
       "object_fit": null,
       "object_position": null,
       "order": null,
       "overflow": null,
       "overflow_x": null,
       "overflow_y": null,
       "padding": null,
       "right": null,
       "top": null,
       "visibility": null,
       "width": null
      }
     },
     "412a5a24d3194b5e81544ff75a83de07": {
      "model_module": "@jupyter-widgets/controls",
      "model_module_version": "1.5.0",
      "model_name": "HTMLModel",
      "state": {
       "_dom_classes": [],
       "_model_module": "@jupyter-widgets/controls",
       "_model_module_version": "1.5.0",
       "_model_name": "HTMLModel",
       "_view_count": null,
       "_view_module": "@jupyter-widgets/controls",
       "_view_module_version": "1.5.0",
       "_view_name": "HTMLView",
       "description": "",
       "description_tooltip": null,
       "layout": "IPY_MODEL_c838099e3e9846fd95df58a2483b0221",
       "placeholder": "​",
       "style": "IPY_MODEL_1154c57d0dd242d7a6db9ce49ac90645",
       "value": "100%"
      }
     },
     "831ad929fcdb4633ab104783e701502b": {
      "model_module": "@jupyter-widgets/base",
      "model_module_version": "1.2.0",
      "model_name": "LayoutModel",
      "state": {
       "_model_module": "@jupyter-widgets/base",
       "_model_module_version": "1.2.0",
       "_model_name": "LayoutModel",
       "_view_count": null,
       "_view_module": "@jupyter-widgets/base",
       "_view_module_version": "1.2.0",
       "_view_name": "LayoutView",
       "align_content": null,
       "align_items": null,
       "align_self": null,
       "border": null,
       "bottom": null,
       "display": null,
       "flex": null,
       "flex_flow": null,
       "grid_area": null,
       "grid_auto_columns": null,
       "grid_auto_flow": null,
       "grid_auto_rows": null,
       "grid_column": null,
       "grid_gap": null,
       "grid_row": null,
       "grid_template_areas": null,
       "grid_template_columns": null,
       "grid_template_rows": null,
       "height": null,
       "justify_content": null,
       "justify_items": null,
       "left": null,
       "margin": null,
       "max_height": null,
       "max_width": null,
       "min_height": null,
       "min_width": null,
       "object_fit": null,
       "object_position": null,
       "order": null,
       "overflow": null,
       "overflow_x": null,
       "overflow_y": null,
       "padding": null,
       "right": null,
       "top": null,
       "visibility": null,
       "width": null
      }
     },
     "88fef1ef81dd4efb899a6f5211584e53": {
      "model_module": "@jupyter-widgets/controls",
      "model_module_version": "1.5.0",
      "model_name": "HBoxModel",
      "state": {
       "_dom_classes": [],
       "_model_module": "@jupyter-widgets/controls",
       "_model_module_version": "1.5.0",
       "_model_name": "HBoxModel",
       "_view_count": null,
       "_view_module": "@jupyter-widgets/controls",
       "_view_module_version": "1.5.0",
       "_view_name": "HBoxView",
       "box_style": "",
       "children": [
        "IPY_MODEL_412a5a24d3194b5e81544ff75a83de07",
        "IPY_MODEL_02d7910a368a4cad8f5bc51d5806e064",
        "IPY_MODEL_92914e3c9945482a8710925200106d8b"
       ],
       "layout": "IPY_MODEL_1acadaa7c9dd4e509630a2d5b32eecad"
      }
     },
     "92914e3c9945482a8710925200106d8b": {
      "model_module": "@jupyter-widgets/controls",
      "model_module_version": "1.5.0",
      "model_name": "HTMLModel",
      "state": {
       "_dom_classes": [],
       "_model_module": "@jupyter-widgets/controls",
       "_model_module_version": "1.5.0",
       "_model_name": "HTMLModel",
       "_view_count": null,
       "_view_module": "@jupyter-widgets/controls",
       "_view_module_version": "1.5.0",
       "_view_name": "HTMLView",
       "description": "",
       "description_tooltip": null,
       "layout": "IPY_MODEL_831ad929fcdb4633ab104783e701502b",
       "placeholder": "​",
       "style": "IPY_MODEL_d878eca8728342d891d7d464a779666f",
       "value": " 97.8M/97.8M [00:03&lt;00:00, 34.0MB/s]"
      }
     },
     "c838099e3e9846fd95df58a2483b0221": {
      "model_module": "@jupyter-widgets/base",
      "model_module_version": "1.2.0",
      "model_name": "LayoutModel",
      "state": {
       "_model_module": "@jupyter-widgets/base",
       "_model_module_version": "1.2.0",
       "_model_name": "LayoutModel",
       "_view_count": null,
       "_view_module": "@jupyter-widgets/base",
       "_view_module_version": "1.2.0",
       "_view_name": "LayoutView",
       "align_content": null,
       "align_items": null,
       "align_self": null,
       "border": null,
       "bottom": null,
       "display": null,
       "flex": null,
       "flex_flow": null,
       "grid_area": null,
       "grid_auto_columns": null,
       "grid_auto_flow": null,
       "grid_auto_rows": null,
       "grid_column": null,
       "grid_gap": null,
       "grid_row": null,
       "grid_template_areas": null,
       "grid_template_columns": null,
       "grid_template_rows": null,
       "height": null,
       "justify_content": null,
       "justify_items": null,
       "left": null,
       "margin": null,
       "max_height": null,
       "max_width": null,
       "min_height": null,
       "min_width": null,
       "object_fit": null,
       "object_position": null,
       "order": null,
       "overflow": null,
       "overflow_x": null,
       "overflow_y": null,
       "padding": null,
       "right": null,
       "top": null,
       "visibility": null,
       "width": null
      }
     },
     "d878eca8728342d891d7d464a779666f": {
      "model_module": "@jupyter-widgets/controls",
      "model_module_version": "1.5.0",
      "model_name": "DescriptionStyleModel",
      "state": {
       "_model_module": "@jupyter-widgets/controls",
       "_model_module_version": "1.5.0",
       "_model_name": "DescriptionStyleModel",
       "_view_count": null,
       "_view_module": "@jupyter-widgets/base",
       "_view_module_version": "1.2.0",
       "_view_name": "StyleView",
       "description_width": ""
      }
     },
     "ed834724440d42a0b4bf1322128fee1d": {
      "model_module": "@jupyter-widgets/controls",
      "model_module_version": "1.5.0",
      "model_name": "ProgressStyleModel",
      "state": {
       "_model_module": "@jupyter-widgets/controls",
       "_model_module_version": "1.5.0",
       "_model_name": "ProgressStyleModel",
       "_view_count": null,
       "_view_module": "@jupyter-widgets/base",
       "_view_module_version": "1.2.0",
       "_view_name": "StyleView",
       "bar_color": null,
       "description_width": ""
      }
     },
     "fba6022d99e44a388913e1fa7e092cf0": {
      "model_module": "@jupyter-widgets/base",
      "model_module_version": "1.2.0",
      "model_name": "LayoutModel",
      "state": {
       "_model_module": "@jupyter-widgets/base",
       "_model_module_version": "1.2.0",
       "_model_name": "LayoutModel",
       "_view_count": null,
       "_view_module": "@jupyter-widgets/base",
       "_view_module_version": "1.2.0",
       "_view_name": "LayoutView",
       "align_content": null,
       "align_items": null,
       "align_self": null,
       "border": null,
       "bottom": null,
       "display": null,
       "flex": null,
       "flex_flow": null,
       "grid_area": null,
       "grid_auto_columns": null,
       "grid_auto_flow": null,
       "grid_auto_rows": null,
       "grid_column": null,
       "grid_gap": null,
       "grid_row": null,
       "grid_template_areas": null,
       "grid_template_columns": null,
       "grid_template_rows": null,
       "height": null,
       "justify_content": null,
       "justify_items": null,
       "left": null,
       "margin": null,
       "max_height": null,
       "max_width": null,
       "min_height": null,
       "min_width": null,
       "object_fit": null,
       "object_position": null,
       "order": null,
       "overflow": null,
       "overflow_x": null,
       "overflow_y": null,
       "padding": null,
       "right": null,
       "top": null,
       "visibility": null,
       "width": null
      }
     }
    },
    "version_major": 2,
    "version_minor": 0
   }
  }
 },
 "nbformat": 4,
 "nbformat_minor": 4
}
