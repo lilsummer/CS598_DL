{
 "cells": [
  {
   "cell_type": "markdown",
   "metadata": {
    "papermill": {
     "duration": 0.036458,
     "end_time": "2021-04-22T03:20:24.481615",
     "exception": false,
     "start_time": "2021-04-22T03:20:24.445157",
     "status": "completed"
    },
    "tags": []
   },
   "source": [
    "## Four-class classification\n",
    "I added **bacteria pneumonia** images and use ResNet50 to build a three-class classifier\n",
    "\n",
    "## Acknowledgement\n",
    "\n",
    "Most of the code here is based on [this notebook](https://www.kaggle.com/dabawse/covid-19-classification-with-resnet50) by Jeebz."
   ]
  },
  {
   "cell_type": "markdown",
   "metadata": {
    "papermill": {
     "duration": 0.033351,
     "end_time": "2021-04-22T03:20:24.548913",
     "exception": false,
     "start_time": "2021-04-22T03:20:24.515562",
     "status": "completed"
    },
    "tags": []
   },
   "source": [
    "## 04-16\n",
    "* DenseNet\n",
    "## 04-11\n",
    "* Augmentor\n",
    "* Select images of bacteria from each patients"
   ]
  },
  {
   "cell_type": "code",
   "execution_count": 1,
   "metadata": {
    "execution": {
     "iopub.execute_input": "2021-04-22T03:20:24.622051Z",
     "iopub.status.busy": "2021-04-22T03:20:24.621373Z",
     "iopub.status.idle": "2021-04-22T03:20:26.240319Z",
     "shell.execute_reply": "2021-04-22T03:20:26.239262Z"
    },
    "papermill": {
     "duration": 1.658025,
     "end_time": "2021-04-22T03:20:26.240517",
     "exception": false,
     "start_time": "2021-04-22T03:20:24.582492",
     "status": "completed"
    },
    "tags": []
   },
   "outputs": [],
   "source": [
    "import torch\n",
    "from torchvision import datasets, models, transforms\n",
    "import torch.nn as nn\n",
    "import torch.optim as optim\n",
    "import torch.nn.functional as F\n",
    "\n",
    "import pandas as pd\n",
    "import numpy as np\n",
    "import cv2\n",
    "import matplotlib.pyplot as plt\n",
    "import warnings\n",
    "\n",
    "import os\n",
    "import itertools\n",
    "import glob\n",
    "import shutil\n",
    "warnings.filterwarnings('ignore')"
   ]
  },
  {
   "cell_type": "code",
   "execution_count": 2,
   "metadata": {
    "execution": {
     "iopub.execute_input": "2021-04-22T03:20:26.314477Z",
     "iopub.status.busy": "2021-04-22T03:20:26.312732Z",
     "iopub.status.idle": "2021-04-22T03:20:26.315046Z",
     "shell.execute_reply": "2021-04-22T03:20:26.315447Z"
    },
    "papermill": {
     "duration": 0.040791,
     "end_time": "2021-04-22T03:20:26.315575",
     "exception": false,
     "start_time": "2021-04-22T03:20:26.274784",
     "status": "completed"
    },
    "tags": []
   },
   "outputs": [],
   "source": [
    "import random"
   ]
  },
  {
   "cell_type": "code",
   "execution_count": 3,
   "metadata": {
    "execution": {
     "iopub.execute_input": "2021-04-22T03:20:26.387726Z",
     "iopub.status.busy": "2021-04-22T03:20:26.387101Z",
     "iopub.status.idle": "2021-04-22T03:20:34.709800Z",
     "shell.execute_reply": "2021-04-22T03:20:34.708435Z"
    },
    "papermill": {
     "duration": 8.360327,
     "end_time": "2021-04-22T03:20:34.709940",
     "exception": false,
     "start_time": "2021-04-22T03:20:26.349613",
     "status": "completed"
    },
    "tags": []
   },
   "outputs": [
    {
     "name": "stdout",
     "output_type": "stream",
     "text": [
      "Collecting Augmentor\r\n",
      "  Downloading Augmentor-0.2.8-py2.py3-none-any.whl (38 kB)\r\n",
      "Requirement already satisfied: future>=0.16.0 in /opt/conda/lib/python3.7/site-packages (from Augmentor) (0.18.2)\r\n",
      "Requirement already satisfied: Pillow>=5.2.0 in /opt/conda/lib/python3.7/site-packages (from Augmentor) (7.2.0)\r\n",
      "Requirement already satisfied: tqdm>=4.9.0 in /opt/conda/lib/python3.7/site-packages (from Augmentor) (4.55.1)\r\n",
      "Requirement already satisfied: numpy>=1.11.0 in /opt/conda/lib/python3.7/site-packages (from Augmentor) (1.19.5)\r\n",
      "Installing collected packages: Augmentor\r\n",
      "Successfully installed Augmentor-0.2.8\r\n"
     ]
    }
   ],
   "source": [
    "!pip install Augmentor\n"
   ]
  },
  {
   "cell_type": "code",
   "execution_count": 4,
   "metadata": {
    "execution": {
     "iopub.execute_input": "2021-04-22T03:20:34.786941Z",
     "iopub.status.busy": "2021-04-22T03:20:34.786134Z",
     "iopub.status.idle": "2021-04-22T03:20:34.793947Z",
     "shell.execute_reply": "2021-04-22T03:20:34.793382Z"
    },
    "papermill": {
     "duration": 0.047914,
     "end_time": "2021-04-22T03:20:34.794067",
     "exception": false,
     "start_time": "2021-04-22T03:20:34.746153",
     "status": "completed"
    },
    "tags": []
   },
   "outputs": [],
   "source": [
    "import Augmentor"
   ]
  },
  {
   "cell_type": "markdown",
   "metadata": {
    "papermill": {
     "duration": 0.035538,
     "end_time": "2021-04-22T03:20:34.865213",
     "exception": false,
     "start_time": "2021-04-22T03:20:34.829675",
     "status": "completed"
    },
    "tags": []
   },
   "source": [
    "## Data Preprossessing"
   ]
  },
  {
   "cell_type": "code",
   "execution_count": 5,
   "metadata": {
    "execution": {
     "iopub.execute_input": "2021-04-22T03:20:34.939941Z",
     "iopub.status.busy": "2021-04-22T03:20:34.939238Z",
     "iopub.status.idle": "2021-04-22T03:20:34.942140Z",
     "shell.execute_reply": "2021-04-22T03:20:34.941591Z"
    },
    "papermill": {
     "duration": 0.041736,
     "end_time": "2021-04-22T03:20:34.942249",
     "exception": false,
     "start_time": "2021-04-22T03:20:34.900513",
     "status": "completed"
    },
    "tags": []
   },
   "outputs": [],
   "source": [
    "# ## count the number of bacteria\n",
    "# num_bacteria = 0\n",
    "# for phase in ['train', 'test', 'val']:\n",
    "#     for i in os.listdir('/kaggle/input/chest-xray-pneumonia/chest_xray/' + phase + '/PNEUMONIA/'):\n",
    "#         if i.split('_')[1] == 'bacteria':\n",
    "#             num_bacteria+=1\n",
    "# print('number of bacteria images: ', num_bacteria)\n",
    "\n"
   ]
  },
  {
   "cell_type": "code",
   "execution_count": 6,
   "metadata": {
    "execution": {
     "iopub.execute_input": "2021-04-22T03:20:35.018719Z",
     "iopub.status.busy": "2021-04-22T03:20:35.017993Z",
     "iopub.status.idle": "2021-04-22T03:20:35.020482Z",
     "shell.execute_reply": "2021-04-22T03:20:35.020881Z"
    },
    "papermill": {
     "duration": 0.042945,
     "end_time": "2021-04-22T03:20:35.021016",
     "exception": false,
     "start_time": "2021-04-22T03:20:34.978071",
     "status": "completed"
    },
    "tags": []
   },
   "outputs": [],
   "source": [
    "## check images in the COVID radiography dataset\n",
    "covid_path = '../input/covid19-radiography-database/COVID-19_Radiography_Dataset/COVID/'\n",
    "normal_path = '../input/covid19-radiography-database/COVID-19_Radiography_Dataset/Normal/'\n",
    "viral_path = '../input/covid19-radiography-database/COVID-19_Radiography_Dataset/Viral Pneumonia/'"
   ]
  },
  {
   "cell_type": "code",
   "execution_count": 7,
   "metadata": {
    "execution": {
     "iopub.execute_input": "2021-04-22T03:20:35.116602Z",
     "iopub.status.busy": "2021-04-22T03:20:35.116064Z",
     "iopub.status.idle": "2021-04-22T03:20:36.194883Z",
     "shell.execute_reply": "2021-04-22T03:20:36.195286Z"
    },
    "papermill": {
     "duration": 1.138607,
     "end_time": "2021-04-22T03:20:36.195429",
     "exception": false,
     "start_time": "2021-04-22T03:20:35.056822",
     "status": "completed"
    },
    "tags": []
   },
   "outputs": [
    {
     "data": {
      "image/png": "[encoded data removed]",
      "text/plain": [
       "<Figure size 720x720 with 9 Axes>"
      ]
     },
     "metadata": {
      "needs_background": "light"
     },
     "output_type": "display_data"
    }
   ],
   "source": [
    "fig, axes = plt.subplots(3, 3, figsize=(10, 10))\n",
    "labels = ['Covid', 'Normal', 'Pneumonia']\n",
    "axes[0][0].imshow(cv2.imread(covid_path + 'COVID-1.png'))\n",
    "axes[0][0].set_title('COVID')\n",
    "axes[1][0].imshow(cv2.imread(covid_path + 'COVID-2.png'))\n",
    "axes[2][0].imshow(cv2.imread(covid_path + 'COVID-3.png'))\n",
    "\n",
    "axes[0][1].imshow(cv2.imread(viral_path +'Viral Pneumonia-1.png'))\n",
    "axes[0][1].set_title('Viral Pneumonia')\n",
    "axes[1][1].imshow(cv2.imread(viral_path +'Viral Pneumonia-2.png'))\n",
    "axes[2][1].imshow(cv2.imread(viral_path +'Viral Pneumonia-3.png'))\n",
    "\n",
    "axes[0][2].imshow(cv2.imread(normal_path+'Normal-1.png'))\n",
    "axes[0][2].set_title('Normal')\n",
    "axes[1][2].imshow(cv2.imread(normal_path+'Normal-2.png'))\n",
    "axes[2][2].imshow(cv2.imread(normal_path+'Normal-3.png'));\n"
   ]
  },
  {
   "cell_type": "code",
   "execution_count": 8,
   "metadata": {
    "execution": {
     "iopub.execute_input": "2021-04-22T03:20:36.283761Z",
     "iopub.status.busy": "2021-04-22T03:20:36.282950Z",
     "iopub.status.idle": "2021-04-22T03:20:36.287077Z",
     "shell.execute_reply": "2021-04-22T03:20:36.286678Z"
    },
    "papermill": {
     "duration": 0.050267,
     "end_time": "2021-04-22T03:20:36.287189",
     "exception": false,
     "start_time": "2021-04-22T03:20:36.236922",
     "status": "completed"
    },
    "tags": []
   },
   "outputs": [],
   "source": [
    "## making directories\n",
    "os.mkdir('/kaggle/working/train')\n",
    "os.mkdir('/kaggle/working/test')\n",
    "os.mkdir('/kaggle/working/valid')\n",
    "\n",
    "os.mkdir('/kaggle/working/train/covid')\n",
    "os.mkdir('/kaggle/working/test/covid')\n",
    "os.mkdir('/kaggle/working/valid/covid')\n",
    "\n",
    "\n",
    "os.mkdir('/kaggle/working/train/normal')\n",
    "os.mkdir('/kaggle/working/test/normal')\n",
    "os.mkdir('/kaggle/working/valid/normal')\n",
    "\n",
    "os.mkdir('/kaggle/working/train/viral')\n",
    "os.mkdir('/kaggle/working/test/viral')\n",
    "os.mkdir('/kaggle/working/valid/viral')\n",
    "\n",
    "os.mkdir('/kaggle/working/train/bacterial')\n",
    "os.mkdir('/kaggle/working/test/bacterial')\n",
    "os.mkdir('/kaggle/working/valid/bacterial')\n"
   ]
  },
  {
   "cell_type": "code",
   "execution_count": 9,
   "metadata": {
    "execution": {
     "iopub.execute_input": "2021-04-22T03:20:36.375006Z",
     "iopub.status.busy": "2021-04-22T03:20:36.374182Z",
     "iopub.status.idle": "2021-04-22T03:20:36.378127Z",
     "shell.execute_reply": "2021-04-22T03:20:36.377724Z"
    },
    "papermill": {
     "duration": 0.050122,
     "end_time": "2021-04-22T03:20:36.378235",
     "exception": false,
     "start_time": "2021-04-22T03:20:36.328113",
     "status": "completed"
    },
    "tags": []
   },
   "outputs": [],
   "source": [
    "## making directories for Augmentor \n",
    "## these files will be deleted in the end\n",
    "os.mkdir('/kaggle/working/train_src')\n",
    "os.mkdir('/kaggle/working/test_src')\n",
    "os.mkdir('/kaggle/working/valid_src')\n",
    "\n",
    "\n",
    "os.mkdir('/kaggle/working/train_src/covid')\n",
    "os.mkdir('/kaggle/working/test_src/covid')\n",
    "os.mkdir('/kaggle/working/valid_src/covid')\n",
    "\n",
    "os.mkdir('/kaggle/working/train_src/normal')\n",
    "os.mkdir('/kaggle/working/test_src/normal')\n",
    "os.mkdir('/kaggle/working/valid_src/normal')\n",
    "\n",
    "os.mkdir('/kaggle/working/train_src/viral')\n",
    "os.mkdir('/kaggle/working/test_src/viral')\n",
    "os.mkdir('/kaggle/working/valid_src/viral')\n",
    "\n",
    "os.mkdir('/kaggle/working/train_src/bacterial')\n",
    "os.mkdir('/kaggle/working/test_src/bacterial')\n",
    "os.mkdir('/kaggle/working/valid_src/bacterial')"
   ]
  },
  {
   "cell_type": "code",
   "execution_count": 10,
   "metadata": {
    "execution": {
     "iopub.execute_input": "2021-04-22T03:20:36.465286Z",
     "iopub.status.busy": "2021-04-22T03:20:36.464328Z",
     "iopub.status.idle": "2021-04-22T03:20:36.467064Z",
     "shell.execute_reply": "2021-04-22T03:20:36.466574Z"
    },
    "papermill": {
     "duration": 0.048049,
     "end_time": "2021-04-22T03:20:36.467182",
     "exception": false,
     "start_time": "2021-04-22T03:20:36.419133",
     "status": "completed"
    },
    "tags": []
   },
   "outputs": [],
   "source": [
    "## move bacteria to one folder\n",
    "os.mkdir('/kaggle/working/bacteria_merge/')\n"
   ]
  },
  {
   "cell_type": "code",
   "execution_count": 11,
   "metadata": {
    "execution": {
     "iopub.execute_input": "2021-04-22T03:20:36.553329Z",
     "iopub.status.busy": "2021-04-22T03:20:36.552484Z",
     "iopub.status.idle": "2021-04-22T03:20:36.557105Z",
     "shell.execute_reply": "2021-04-22T03:20:36.556552Z"
    },
    "papermill": {
     "duration": 0.048978,
     "end_time": "2021-04-22T03:20:36.557215",
     "exception": false,
     "start_time": "2021-04-22T03:20:36.508237",
     "status": "completed"
    },
    "tags": []
   },
   "outputs": [
    {
     "data": {
      "text/plain": [
       "0"
      ]
     },
     "execution_count": 11,
     "metadata": {},
     "output_type": "execute_result"
    }
   ],
   "source": [
    "len(os.listdir('/kaggle/working/bacteria_merge/'))"
   ]
  },
  {
   "cell_type": "code",
   "execution_count": 12,
   "metadata": {
    "execution": {
     "iopub.execute_input": "2021-04-22T03:20:36.644647Z",
     "iopub.status.busy": "2021-04-22T03:20:36.643898Z",
     "iopub.status.idle": "2021-04-22T03:20:36.646723Z",
     "shell.execute_reply": "2021-04-22T03:20:36.646301Z"
    },
    "papermill": {
     "duration": 0.04814,
     "end_time": "2021-04-22T03:20:36.646836",
     "exception": false,
     "start_time": "2021-04-22T03:20:36.598696",
     "status": "completed"
    },
    "tags": []
   },
   "outputs": [],
   "source": [
    "# files = glob.glob('/kaggle/working/bacteria_merge/*')\n",
    "# for f in files:\n",
    "#     os.remove(f)"
   ]
  },
  {
   "cell_type": "code",
   "execution_count": 13,
   "metadata": {
    "execution": {
     "iopub.execute_input": "2021-04-22T03:20:36.737840Z",
     "iopub.status.busy": "2021-04-22T03:20:36.737330Z",
     "iopub.status.idle": "2021-04-22T03:20:58.386578Z",
     "shell.execute_reply": "2021-04-22T03:20:58.385558Z"
    },
    "papermill": {
     "duration": 21.698267,
     "end_time": "2021-04-22T03:20:58.386733",
     "exception": false,
     "start_time": "2021-04-22T03:20:36.688466",
     "status": "completed"
    },
    "tags": []
   },
   "outputs": [],
   "source": [
    "## copy model to the required directory for bacteria images\n",
    "pneu_path = '/kaggle/input/chest-xray-pneumonia/chest_xray/train/PNEUMONIA/'\n",
    "len_pneu_path = len(os.listdir(pneu_path))\n",
    "for img in itertools.islice(glob.iglob(os.path.join(pneu_path, '*.jpeg')), len_pneu_path):\n",
    "    if img.split('/')[-1].split('_')[1] == 'bacteria':\n",
    "\n",
    "        shutil.copy(img, '/kaggle/working/bacteria_merge/')\n",
    "        \n",
    "pneu_path = '/kaggle/input/chest-xray-pneumonia/chest_xray/test/PNEUMONIA/'\n",
    "len_pneu_path = len(os.listdir(pneu_path))\n",
    "for img in itertools.islice(glob.iglob(os.path.join(pneu_path, '*.jpeg')), len_pneu_path):\n",
    "    if img.split('/')[-1].split('_')[1] == 'bacteria':\n",
    "        #print(img.split('/')[-1].split('_')[1])\n",
    "\n",
    "        shutil.copy(img, '/kaggle/working/bacteria_merge/')\n",
    "        \n",
    "pneu_path = '/kaggle/input/chest-xray-pneumonia/chest_xray/val/PNEUMONIA/'\n",
    "len_pneu_path = len(os.listdir(pneu_path))\n",
    "for img in itertools.islice(glob.iglob(os.path.join(pneu_path, '*.jpeg')), len_pneu_path):\n",
    "    if img.split('/')[-1].split('_')[1] == 'bacteria':\n",
    "        #print(img.split('/')[-1].split('_')[1])\n",
    "\n",
    "        shutil.copy(img, '/kaggle/working/bacteria_merge/')"
   ]
  },
  {
   "cell_type": "code",
   "execution_count": 14,
   "metadata": {
    "execution": {
     "iopub.execute_input": "2021-04-22T03:20:58.474941Z",
     "iopub.status.busy": "2021-04-22T03:20:58.474181Z",
     "iopub.status.idle": "2021-04-22T03:20:58.480381Z",
     "shell.execute_reply": "2021-04-22T03:20:58.479961Z"
    },
    "papermill": {
     "duration": 0.051605,
     "end_time": "2021-04-22T03:20:58.480488",
     "exception": false,
     "start_time": "2021-04-22T03:20:58.428883",
     "status": "completed"
    },
    "tags": []
   },
   "outputs": [
    {
     "data": {
      "text/plain": [
       "2780"
      ]
     },
     "execution_count": 14,
     "metadata": {},
     "output_type": "execute_result"
    }
   ],
   "source": [
    "len(os.listdir('/kaggle/working/bacteria_merge/'))"
   ]
  },
  {
   "cell_type": "code",
   "execution_count": 15,
   "metadata": {
    "execution": {
     "iopub.execute_input": "2021-04-22T03:20:58.569248Z",
     "iopub.status.busy": "2021-04-22T03:20:58.568462Z",
     "iopub.status.idle": "2021-04-22T03:20:58.574782Z",
     "shell.execute_reply": "2021-04-22T03:20:58.574293Z"
    },
    "papermill": {
     "duration": 0.052347,
     "end_time": "2021-04-22T03:20:58.574900",
     "exception": false,
     "start_time": "2021-04-22T03:20:58.522553",
     "status": "completed"
    },
    "tags": []
   },
   "outputs": [],
   "source": [
    "patient_list = [int(i.split(\"_\")[0][6:]) for i in os.listdir('/kaggle/working/bacteria_merge/')]"
   ]
  },
  {
   "cell_type": "code",
   "execution_count": 16,
   "metadata": {
    "execution": {
     "iopub.execute_input": "2021-04-22T03:20:58.664049Z",
     "iopub.status.busy": "2021-04-22T03:20:58.663479Z",
     "iopub.status.idle": "2021-04-22T03:20:58.669550Z",
     "shell.execute_reply": "2021-04-22T03:20:58.669940Z"
    },
    "papermill": {
     "duration": 0.052947,
     "end_time": "2021-04-22T03:20:58.670084",
     "exception": false,
     "start_time": "2021-04-22T03:20:58.617137",
     "status": "completed"
    },
    "tags": []
   },
   "outputs": [
    {
     "data": {
      "text/plain": [
       "(1437, 2780)"
      ]
     },
     "execution_count": 16,
     "metadata": {},
     "output_type": "execute_result"
    }
   ],
   "source": [
    "len(np.unique(patient_list)), len(patient_list)"
   ]
  },
  {
   "cell_type": "code",
   "execution_count": 17,
   "metadata": {
    "execution": {
     "iopub.execute_input": "2021-04-22T03:20:58.761416Z",
     "iopub.status.busy": "2021-04-22T03:20:58.760612Z",
     "iopub.status.idle": "2021-04-22T03:21:05.574678Z",
     "shell.execute_reply": "2021-04-22T03:21:05.573607Z"
    },
    "papermill": {
     "duration": 6.862071,
     "end_time": "2021-04-22T03:21:05.574821",
     "exception": false,
     "start_time": "2021-04-22T03:20:58.712750",
     "status": "completed"
    },
    "tags": []
   },
   "outputs": [],
   "source": [
    "selected_list = []\n",
    "for p in np.unique(patient_list):\n",
    "    matched_files = [i for i in os.listdir('/kaggle/working/bacteria_merge/') if int(i.split(\"_\")[0][6:])==p]\n",
    "    if len(matched_files) ==1:\n",
    "        selected_list.append('/kaggle/working/bacteria_merge/' + matched_files[0])\n",
    "    else:\n",
    "        #print('more')\n",
    "        selected_file = random.choice(matched_files)\n",
    "        #print(len(selected_file))\n",
    "        selected_list.append('/kaggle/working/bacteria_merge/' + selected_file)\n",
    "## delete unnecessary file\n"
   ]
  },
  {
   "cell_type": "code",
   "execution_count": 18,
   "metadata": {
    "execution": {
     "iopub.execute_input": "2021-04-22T03:21:05.668216Z",
     "iopub.status.busy": "2021-04-22T03:21:05.667524Z",
     "iopub.status.idle": "2021-04-22T03:21:05.670822Z",
     "shell.execute_reply": "2021-04-22T03:21:05.671223Z"
    },
    "papermill": {
     "duration": 0.052781,
     "end_time": "2021-04-22T03:21:05.671354",
     "exception": false,
     "start_time": "2021-04-22T03:21:05.618573",
     "status": "completed"
    },
    "tags": []
   },
   "outputs": [
    {
     "data": {
      "text/plain": [
       "1437"
      ]
     },
     "execution_count": 18,
     "metadata": {},
     "output_type": "execute_result"
    }
   ],
   "source": [
    "len(selected_list)"
   ]
  },
  {
   "cell_type": "code",
   "execution_count": 19,
   "metadata": {
    "execution": {
     "iopub.execute_input": "2021-04-22T03:21:05.762420Z",
     "iopub.status.busy": "2021-04-22T03:21:05.761715Z",
     "iopub.status.idle": "2021-04-22T03:21:05.850026Z",
     "shell.execute_reply": "2021-04-22T03:21:05.849469Z"
    },
    "papermill": {
     "duration": 0.135634,
     "end_time": "2021-04-22T03:21:05.850163",
     "exception": false,
     "start_time": "2021-04-22T03:21:05.714529",
     "status": "completed"
    },
    "tags": []
   },
   "outputs": [],
   "source": [
    "files = glob.glob('/kaggle/working/bacteria_merge/*.jpeg')\n",
    "for f in files:\n",
    "    #print(f)\n",
    "    if f not in selected_list:\n",
    "        os.remove(f)"
   ]
  },
  {
   "cell_type": "code",
   "execution_count": 20,
   "metadata": {
    "execution": {
     "iopub.execute_input": "2021-04-22T03:21:05.941784Z",
     "iopub.status.busy": "2021-04-22T03:21:05.940996Z",
     "iopub.status.idle": "2021-04-22T03:21:05.946047Z",
     "shell.execute_reply": "2021-04-22T03:21:05.946486Z"
    },
    "papermill": {
     "duration": 0.052413,
     "end_time": "2021-04-22T03:21:05.946643",
     "exception": false,
     "start_time": "2021-04-22T03:21:05.894230",
     "status": "completed"
    },
    "tags": []
   },
   "outputs": [
    {
     "data": {
      "text/plain": [
       "1437"
      ]
     },
     "execution_count": 20,
     "metadata": {},
     "output_type": "execute_result"
    }
   ],
   "source": [
    "len(os.listdir('/kaggle/working/bacteria_merge/'))"
   ]
  },
  {
   "cell_type": "code",
   "execution_count": 21,
   "metadata": {
    "execution": {
     "iopub.execute_input": "2021-04-22T03:21:06.038701Z",
     "iopub.status.busy": "2021-04-22T03:21:06.037965Z",
     "iopub.status.idle": "2021-04-22T03:22:11.104708Z",
     "shell.execute_reply": "2021-04-22T03:22:11.105136Z"
    },
    "papermill": {
     "duration": 65.115199,
     "end_time": "2021-04-22T03:22:11.105292",
     "exception": false,
     "start_time": "2021-04-22T03:21:05.990093",
     "status": "completed"
    },
    "tags": []
   },
   "outputs": [
    {
     "data": {
      "text/plain": [
       "1437"
      ]
     },
     "execution_count": 21,
     "metadata": {},
     "output_type": "execute_result"
    }
   ],
   "source": [
    "## convert to jpg\n",
    "jpgs = glob.glob('/kaggle/working/bacteria_merge/*.jpeg')\n",
    "\n",
    "for j in jpgs:\n",
    "    img = cv2.imread(j)\n",
    "    cv2.imwrite(j[:-4] + 'png', img)\n",
    "## remove jpeg\n",
    "files = glob.glob('/kaggle/working/bacteria_merge/*.jpeg')\n",
    "for f in files:\n",
    "    os.remove(f)\n",
    "len(os.listdir('/kaggle/working/bacteria_merge/'))"
   ]
  },
  {
   "cell_type": "code",
   "execution_count": 22,
   "metadata": {
    "execution": {
     "iopub.execute_input": "2021-04-22T03:22:11.199604Z",
     "iopub.status.busy": "2021-04-22T03:22:11.197810Z",
     "iopub.status.idle": "2021-04-22T03:22:11.200219Z",
     "shell.execute_reply": "2021-04-22T03:22:11.200616Z"
    },
    "papermill": {
     "duration": 0.050676,
     "end_time": "2021-04-22T03:22:11.200762",
     "exception": false,
     "start_time": "2021-04-22T03:22:11.150086",
     "status": "completed"
    },
    "tags": []
   },
   "outputs": [],
   "source": [
    "bacterial_path = '/kaggle/working/bacteria_merge/'"
   ]
  },
  {
   "cell_type": "code",
   "execution_count": 23,
   "metadata": {
    "execution": {
     "iopub.execute_input": "2021-04-22T03:22:11.295190Z",
     "iopub.status.busy": "2021-04-22T03:22:11.294643Z",
     "iopub.status.idle": "2021-04-22T03:22:12.359960Z",
     "shell.execute_reply": "2021-04-22T03:22:12.359505Z"
    },
    "papermill": {
     "duration": 1.115383,
     "end_time": "2021-04-22T03:22:12.360100",
     "exception": false,
     "start_time": "2021-04-22T03:22:11.244717",
     "status": "completed"
    },
    "tags": []
   },
   "outputs": [
    {
     "name": "stdout",
     "output_type": "stream",
     "text": [
      "COVID dataset length:  3616  Normal dataset length:  10192  Viral dataset length:  1345 bacterial dataste length 1437\n"
     ]
    }
   ],
   "source": [
    "## decide length for each set\n",
    "covid_train_len = int(np.floor(len(os.listdir(covid_path))*0.5))\n",
    "covid_len = len(os.listdir(covid_path))\n",
    "\n",
    "normal_train_len = int(np.floor(len(os.listdir(normal_path))*0.5))\n",
    "normal_len = len(os.listdir(normal_path))\n",
    "\n",
    "viral_train_len = int(np.floor(len(os.listdir(viral_path))*0.5))\n",
    "viral_len = len(os.listdir(viral_path))\n",
    "\n",
    "bacterial_train_len = int(np.floor(len(os.listdir(bacterial_path))*.5))\n",
    "bacterial_len = len(os.listdir(bacterial_path))\n",
    "print('COVID dataset length: ', covid_len, ' Normal dataset length: ', normal_len, ' Viral dataset length: ', viral_len, \\\n",
    "     'bacterial dataste length', bacterial_len)"
   ]
  },
  {
   "cell_type": "code",
   "execution_count": 24,
   "metadata": {
    "execution": {
     "iopub.execute_input": "2021-04-22T03:22:12.454250Z",
     "iopub.status.busy": "2021-04-22T03:22:12.453476Z",
     "iopub.status.idle": "2021-04-22T03:22:12.455946Z",
     "shell.execute_reply": "2021-04-22T03:22:12.456309Z"
    },
    "papermill": {
     "duration": 0.051172,
     "end_time": "2021-04-22T03:22:12.456444",
     "exception": false,
     "start_time": "2021-04-22T03:22:12.405272",
     "status": "completed"
    },
    "tags": []
   },
   "outputs": [],
   "source": [
    "random.seed(88)"
   ]
  },
  {
   "cell_type": "code",
   "execution_count": 25,
   "metadata": {
    "execution": {
     "iopub.execute_input": "2021-04-22T03:22:12.556396Z",
     "iopub.status.busy": "2021-04-22T03:22:12.555613Z",
     "iopub.status.idle": "2021-04-22T03:23:47.154021Z",
     "shell.execute_reply": "2021-04-22T03:23:47.153488Z"
    },
    "papermill": {
     "duration": 94.653417,
     "end_time": "2021-04-22T03:23:47.154183",
     "exception": false,
     "start_time": "2021-04-22T03:22:12.500766",
     "status": "completed"
    },
    "tags": []
   },
   "outputs": [],
   "source": [
    "for trainimg in itertools.islice(sorted(glob.iglob(os.path.join(viral_path, '*.png')), key=lambda k: random.random()), viral_train_len):\n",
    "    shutil.copy(trainimg, '/kaggle/working/train_src/viral')\n",
    "\n",
    "for trainimg in itertools.islice(sorted(glob.iglob(os.path.join(covid_path, '*.png')),key=lambda k: random.random()), covid_train_len):\n",
    "    shutil.copy(trainimg, '/kaggle/working/train_src/covid')\n",
    "    \n",
    "for trainimg in itertools.islice(sorted(glob.iglob(os.path.join(normal_path, '*.png')),key=lambda k: random.random()), normal_train_len):\n",
    "    shutil.copy(trainimg, '/kaggle/working/train_src/normal')\n",
    "\n",
    "for trainimg in itertools.islice(sorted(glob.iglob(os.path.join(bacterial_path, '*.png')),key=lambda k: random.random()), bacterial_train_len):\n",
    "    shutil.copy(trainimg, '/kaggle/working/train_src/bacterial/')\n",
    "    \n",
    "for testimg in itertools.islice(sorted(glob.iglob(os.path.join(covid_path, '*.png')),key=lambda k: random.random()), covid_train_len, covid_len):\n",
    "    shutil.copy(testimg, '/kaggle/working/test_src/covid')\n",
    "\n",
    "for testimg in itertools.islice(sorted(glob.iglob(os.path.join(normal_path, '*.png')),key=lambda k: random.random()), normal_train_len, normal_len):\n",
    "    shutil.copy(testimg, '/kaggle/working/test_src/normal')\n",
    "\n",
    "for testimg in itertools.islice(sorted(glob.iglob(os.path.join(viral_path, '*.png')), key=lambda k: random.random()),viral_train_len, viral_len):\n",
    "    shutil.copy(testimg, '/kaggle/working/test_src/viral')\n",
    "    \n",
    "for testimg in itertools.islice(sorted(glob.iglob(os.path.join(bacterial_path, '*.png')),key=lambda k: random.random()),bacterial_train_len, bacterial_len):\n",
    "    shutil.copy(testimg, '/kaggle/working/test_src/bacterial/')"
   ]
  },
  {
   "cell_type": "code",
   "execution_count": 26,
   "metadata": {
    "execution": {
     "iopub.execute_input": "2021-04-22T03:23:47.319065Z",
     "iopub.status.busy": "2021-04-22T03:23:47.317541Z",
     "iopub.status.idle": "2021-04-22T03:23:47.325064Z",
     "shell.execute_reply": "2021-04-22T03:23:47.320395Z"
    },
    "papermill": {
     "duration": 0.105911,
     "end_time": "2021-04-22T03:23:47.325235",
     "exception": false,
     "start_time": "2021-04-22T03:23:47.219324",
     "status": "completed"
    },
    "tags": []
   },
   "outputs": [],
   "source": [
    "random.seed(3)"
   ]
  },
  {
   "cell_type": "code",
   "execution_count": 27,
   "metadata": {
    "execution": {
     "iopub.execute_input": "2021-04-22T03:23:47.502996Z",
     "iopub.status.busy": "2021-04-22T03:23:47.502182Z",
     "iopub.status.idle": "2021-04-22T03:23:47.737241Z",
     "shell.execute_reply": "2021-04-22T03:23:47.738182Z"
    },
    "papermill": {
     "duration": 0.331152,
     "end_time": "2021-04-22T03:23:47.738396",
     "exception": false,
     "start_time": "2021-04-22T03:23:47.407244",
     "status": "completed"
    },
    "tags": []
   },
   "outputs": [],
   "source": [
    "for validimg in os.listdir('/kaggle/working/train_src/viral/'):\n",
    "    if np.random.rand(1) < 0.2:\n",
    "        shutil.move('/kaggle/working/train_src/viral/' + validimg, '/kaggle/working/valid_src/viral/')\n",
    "        \n",
    "for validimg in os.listdir('/kaggle/working/train_src/bacterial/'):\n",
    "    if np.random.rand(1) < 0.2:\n",
    "        shutil.move('/kaggle/working/train_src/bacterial/' + validimg, '/kaggle/working/valid_src/bacterial/')\n",
    "        \n",
    "for validimg in os.listdir('/kaggle/working/train_src/covid/'):\n",
    "    if np.random.rand(1) < 0.2:\n",
    "        shutil.move('/kaggle/working/train_src/covid/' + validimg, '/kaggle/working/valid_src/covid/')\n",
    "        \n",
    "for validimg in os.listdir('/kaggle/working/train_src/normal/'):\n",
    "    if np.random.rand(1) < 0.2:\n",
    "        shutil.move('/kaggle/working/train_src/normal/' + validimg, '/kaggle/working/valid_src/normal/')"
   ]
  },
  {
   "cell_type": "code",
   "execution_count": 28,
   "metadata": {
    "execution": {
     "iopub.execute_input": "2021-04-22T03:23:47.902737Z",
     "iopub.status.busy": "2021-04-22T03:23:47.901905Z",
     "iopub.status.idle": "2021-04-22T03:23:47.915491Z",
     "shell.execute_reply": "2021-04-22T03:23:47.918595Z"
    },
    "papermill": {
     "duration": 0.106211,
     "end_time": "2021-04-22T03:23:47.918760",
     "exception": false,
     "start_time": "2021-04-22T03:23:47.812549",
     "status": "completed"
    },
    "tags": []
   },
   "outputs": [
    {
     "data": {
      "text/plain": [
       "(4032, 5096, 1064)"
      ]
     },
     "execution_count": 28,
     "metadata": {},
     "output_type": "execute_result"
    }
   ],
   "source": [
    "len(os.listdir('/kaggle/working/train_src/normal/')), len(os.listdir('/kaggle/working/test_src/normal/')), len(os.listdir('/kaggle/working/valid_src/normal'))"
   ]
  },
  {
   "cell_type": "code",
   "execution_count": 29,
   "metadata": {
    "execution": {
     "iopub.execute_input": "2021-04-22T03:23:48.082368Z",
     "iopub.status.busy": "2021-04-22T03:23:48.081706Z",
     "iopub.status.idle": "2021-04-22T03:24:26.991996Z",
     "shell.execute_reply": "2021-04-22T03:24:26.590255Z"
    },
    "papermill": {
     "duration": 38.990235,
     "end_time": "2021-04-22T03:24:26.992190",
     "exception": false,
     "start_time": "2021-04-22T03:23:48.001955",
     "status": "completed"
    },
    "tags": []
   },
   "outputs": [
    {
     "name": "stderr",
     "output_type": "stream",
     "text": [
      "Executing Pipeline:   0%|          | 0/3000 [00:00<?, ? Samples/s]"
     ]
    },
    {
     "name": "stdout",
     "output_type": "stream",
     "text": [
      "Initialised with 1437 image(s) found.\n",
      "Output directory set to /kaggle/working/train/covid/."
     ]
    },
    {
     "name": "stderr",
     "output_type": "stream",
     "text": [
      "Processing <PIL.Image.Image image mode=L size=244x244 at 0x7FEF20208D10>: 100%|██████████| 3000/3000 [00:38<00:00, 78.28 Samples/s]\n"
     ]
    }
   ],
   "source": [
    "## augmentor\n",
    "## Process covid directory first\n",
    "p = Augmentor.Pipeline()\n",
    "p.add_further_directory(new_source_directory='/kaggle/working/train_src/covid/', new_output_directory='/kaggle/working/train/covid/')\n",
    "p.resize(width=244, height=244, probability=1)\n",
    "p.crop_centre(probability=.1, percentage_area=.9)\n",
    "p.resize(width=244, height=244, probability=1)\n",
    "p.zoom_random(probability=.1, percentage_area=.8)\n",
    "\n",
    "p.sample(3000)"
   ]
  },
  {
   "cell_type": "code",
   "execution_count": 30,
   "metadata": {
    "execution": {
     "iopub.execute_input": "2021-04-22T03:24:28.801701Z",
     "iopub.status.busy": "2021-04-22T03:24:28.800942Z",
     "iopub.status.idle": "2021-04-22T03:24:55.605475Z",
     "shell.execute_reply": "2021-04-22T03:24:55.605048Z"
    },
    "papermill": {
     "duration": 27.730777,
     "end_time": "2021-04-22T03:24:55.605666",
     "exception": false,
     "start_time": "2021-04-22T03:24:27.874889",
     "status": "completed"
    },
    "tags": []
   },
   "outputs": [
    {
     "name": "stderr",
     "output_type": "stream",
     "text": [
      "Processing <PIL.Image.Image image mode=L size=244x244 at 0x7FEF21A28050>:   0%|          | 0/1808 [00:00<?, ? Samples/s]"
     ]
    },
    {
     "name": "stdout",
     "output_type": "stream",
     "text": [
      "Initialised with 1808 image(s) found.\n",
      "Output directory set to /kaggle/working/test/covid/."
     ]
    },
    {
     "name": "stderr",
     "output_type": "stream",
     "text": [
      "Processing <PIL.Image.Image image mode=L size=244x244 at 0x7FEF21E03690>: 100%|██████████| 1808/1808 [00:22<00:00, 81.74 Samples/s]\n",
      "Processing <PIL.Image.Image image mode=L size=244x244 at 0x7FEF21A7A590>:   2%|▏         | 9/371 [00:00<00:39,  9.06 Samples/s]"
     ]
    },
    {
     "name": "stdout",
     "output_type": "stream",
     "text": [
      "Initialised with 371 image(s) found.\n",
      "Output directory set to /kaggle/working/valid/covid/."
     ]
    },
    {
     "name": "stderr",
     "output_type": "stream",
     "text": [
      "Processing <PIL.Image.Image image mode=L size=244x244 at 0x7FEF21BA4F90>: 100%|██████████| 371/371 [00:04<00:00, 82.92 Samples/s]\n"
     ]
    }
   ],
   "source": [
    "## test dir \n",
    "p2 = Augmentor.Pipeline()\n",
    "p2.add_further_directory(new_source_directory='/kaggle/working/test_src/covid/', new_output_directory='/kaggle/working/test/covid/')\n",
    "p2.resize(width=244, height=244, probability=1)\n",
    "p2.crop_centre(probability=.1, percentage_area=.9)\n",
    "p2.resize(width=244, height=244, probability=1)\n",
    "\n",
    "p2.process()\n",
    "\n",
    "## valid dir\n",
    "p3 = Augmentor.Pipeline()\n",
    "p3.add_further_directory(new_source_directory='/kaggle/working/valid_src/covid/', new_output_directory='/kaggle/working/valid/covid/')\n",
    "p3.resize(width=244, height=244, probability=1)\n",
    "p3.crop_centre(probability=.1, percentage_area=.9)\n",
    "p3.resize(width=244, height=244, probability=1)\n",
    "\n",
    "p3.process()"
   ]
  },
  {
   "cell_type": "code",
   "execution_count": 31,
   "metadata": {
    "execution": {
     "iopub.execute_input": "2021-04-22T03:24:58.856335Z",
     "iopub.status.busy": "2021-04-22T03:24:58.855508Z",
     "iopub.status.idle": "2021-04-22T03:28:24.681968Z",
     "shell.execute_reply": "2021-04-22T03:28:24.681169Z"
    },
    "papermill": {
     "duration": 207.322303,
     "end_time": "2021-04-22T03:28:24.682167",
     "exception": false,
     "start_time": "2021-04-22T03:24:57.359864",
     "status": "completed"
    },
    "tags": []
   },
   "outputs": [
    {
     "name": "stderr",
     "output_type": "stream",
     "text": [
      "Processing <PIL.Image.Image image mode=RGB size=244x244 at 0x7FEF201E8390>:   0%|          | 1/580 [00:00<01:20,  7.21 Samples/s]"
     ]
    },
    {
     "name": "stdout",
     "output_type": "stream",
     "text": [
      "Initialised with 580 image(s) found.\n",
      "Output directory set to /kaggle/working/train/bacterial/."
     ]
    },
    {
     "name": "stderr",
     "output_type": "stream",
     "text": [
      "Processing <PIL.Image.Image image mode=RGB size=244x244 at 0x7FEF202FA590>: 100%|██████████| 580/580 [00:24<00:00, 24.05 Samples/s]\n",
      "Processing <PIL.Image.Image image mode=RGB size=244x244 at 0x7FEF21A627D0>:   0%|          | 1/719 [00:00<01:24,  8.54 Samples/s]"
     ]
    },
    {
     "name": "stdout",
     "output_type": "stream",
     "text": [
      "Initialised with 719 image(s) found.\n",
      "Output directory set to /kaggle/working/test/bacterial/."
     ]
    },
    {
     "name": "stderr",
     "output_type": "stream",
     "text": [
      "Processing <PIL.Image.Image image mode=RGB size=244x244 at 0x7FEF202FABD0>: 100%|██████████| 719/719 [00:31<00:00, 22.56 Samples/s]\n",
      "Executing Pipeline:   0%|          | 0/138 [00:00<?, ? Samples/s]"
     ]
    },
    {
     "name": "stdout",
     "output_type": "stream",
     "text": [
      "Initialised with 138 image(s) found.\n",
      "Output directory set to /kaggle/working/valid/bacterial/."
     ]
    },
    {
     "name": "stderr",
     "output_type": "stream",
     "text": [
      "Processing <PIL.Image.Image image mode=RGB size=244x244 at 0x7FEF20430490>: 100%|██████████| 138/138 [00:05<00:00, 23.68 Samples/s]\n",
      "Executing Pipeline:   0%|          | 0/544 [00:00<?, ? Samples/s]"
     ]
    },
    {
     "name": "stdout",
     "output_type": "stream",
     "text": [
      "Initialised with 544 image(s) found.\n",
      "Output directory set to /kaggle/working/train/viral/."
     ]
    },
    {
     "name": "stderr",
     "output_type": "stream",
     "text": [
      "Processing <PIL.Image.Image image mode=L size=244x244 at 0x7FEF20324190>: 100%|██████████| 544/544 [00:06<00:00, 82.88 Samples/s]\n",
      "Processing <PIL.Image.Image image mode=L size=244x244 at 0x7FEF20324690>:   1%|          | 8/673 [00:00<01:21,  8.14 Samples/s]"
     ]
    },
    {
     "name": "stdout",
     "output_type": "stream",
     "text": [
      "Initialised with 673 image(s) found.\n",
      "Output directory set to /kaggle/working/test/viral/."
     ]
    },
    {
     "name": "stderr",
     "output_type": "stream",
     "text": [
      "Processing <PIL.Image.Image image mode=L size=244x244 at 0x7FEF20443F50>: 100%|██████████| 673/673 [00:08<00:00, 81.56 Samples/s]\n",
      "Processing <PIL.Image.Image image mode=L size=244x244 at 0x7FEF216B5A50>:   9%|▉         | 12/128 [00:00<00:04, 25.77 Samples/s]"
     ]
    },
    {
     "name": "stdout",
     "output_type": "stream",
     "text": [
      "Initialised with 128 image(s) found.\n",
      "Output directory set to /kaggle/working/valid/viral/."
     ]
    },
    {
     "name": "stderr",
     "output_type": "stream",
     "text": [
      "Processing <PIL.Image.Image image mode=L size=244x244 at 0x7FEF202FADD0>: 100%|██████████| 128/128 [00:01<00:00, 84.52 Samples/s]\n",
      "Executing Pipeline:   0%|          | 0/4032 [00:00<?, ? Samples/s]"
     ]
    },
    {
     "name": "stdout",
     "output_type": "stream",
     "text": [
      "Initialised with 4032 image(s) found.\n",
      "Output directory set to /kaggle/working/train/normal/."
     ]
    },
    {
     "name": "stderr",
     "output_type": "stream",
     "text": [
      "Processing <PIL.Image.Image image mode=L size=244x244 at 0x7FEF185D4AD0>: 100%|██████████| 4032/4032 [00:49<00:00, 80.66 Samples/s]\n",
      "Executing Pipeline:   0%|          | 0/5096 [00:00<?, ? Samples/s]"
     ]
    },
    {
     "name": "stdout",
     "output_type": "stream",
     "text": [
      "Initialised with 5096 image(s) found.\n",
      "Output directory set to /kaggle/working/test/normal/."
     ]
    },
    {
     "name": "stderr",
     "output_type": "stream",
     "text": [
      "Processing <PIL.Image.Image image mode=L size=244x244 at 0x7FEF20430390>: 100%|██████████| 5096/5096 [01:03<00:00, 80.68 Samples/s]\n",
      "Processing <PIL.Image.Image image mode=L size=244x244 at 0x7FEF21A68BD0>:   1%|          | 6/1064 [00:00<02:15,  7.78 Samples/s]"
     ]
    },
    {
     "name": "stdout",
     "output_type": "stream",
     "text": [
      "Initialised with 1064 image(s) found.\n",
      "Output directory set to /kaggle/working/valid/normal/."
     ]
    },
    {
     "name": "stderr",
     "output_type": "stream",
     "text": [
      "Processing <PIL.Image.Image image mode=L size=244x244 at 0x7FEF186E1750>: 100%|██████████| 1064/1064 [00:12<00:00, 85.84 Samples/s]\n"
     ]
    }
   ],
   "source": [
    "## other directory are the same\n",
    "for category in ['bacterial', 'viral', 'normal']:\n",
    "    ## train\n",
    "    p = Augmentor.Pipeline()\n",
    "    p.add_further_directory(new_source_directory='/kaggle/working/train_src/' + category + '/', new_output_directory='/kaggle/working/train/' + category + '/')\n",
    "    p.resize(width=244, height=244, probability=1)\n",
    "    p.crop_centre(probability=.1, percentage_area=.9)\n",
    "    p.resize(width=244, height=244, probability=1)\n",
    "    p.zoom_random(probability=.1, percentage_area=.8)\n",
    "\n",
    "    p.process()\n",
    "    \n",
    "    ## test\n",
    "    p2 = Augmentor.Pipeline()\n",
    "    p2.add_further_directory(new_source_directory='/kaggle/working/test_src/' + category + '/', new_output_directory='/kaggle/working/test/' + \\\n",
    "                             category + '/')\n",
    "    p2.resize(width=244, height=244, probability=1)\n",
    "    p2.crop_centre(probability=.1, percentage_area=.9)\n",
    "    p2.resize(width=244, height=244, probability=1)\n",
    "    \n",
    "    p2.process()\n",
    "    \n",
    "    ## valid\n",
    "    p3 = Augmentor.Pipeline()\n",
    "    p3.add_further_directory(new_source_directory='/kaggle/working/valid_src/' + category + '/', new_output_directory='/kaggle/working/valid/' + category+ '/')\n",
    "    p3.resize(width=244, height=244, probability=1)\n",
    "    p3.crop_centre(probability=.1, percentage_area=.9)\n",
    "    p3.resize(width=244, height=244, probability=1)\n",
    "    \n",
    "    p3.process()"
   ]
  },
  {
   "cell_type": "code",
   "execution_count": 32,
   "metadata": {
    "execution": {
     "iopub.execute_input": "2021-04-22T03:28:36.367744Z",
     "iopub.status.busy": "2021-04-22T03:28:36.366944Z",
     "iopub.status.idle": "2021-04-22T03:28:37.211183Z",
     "shell.execute_reply": "2021-04-22T03:28:37.210666Z"
    },
    "papermill": {
     "duration": 7.122581,
     "end_time": "2021-04-22T03:28:37.211311",
     "exception": false,
     "start_time": "2021-04-22T03:28:30.088730",
     "status": "completed"
    },
    "tags": []
   },
   "outputs": [],
   "source": [
    "## remove all the train_src dir\n",
    "\n",
    "\n",
    "files = glob.glob('/kaggle/working/train_src/*/*.png')\n",
    "for f in files:\n",
    "    os.remove(f)\n",
    "files = glob.glob('/kaggle/working/test_src/*/*.png')\n",
    "for f in files:\n",
    "    os.remove(f)\n",
    "files = glob.glob('/kaggle/working/valid_src/*/*.png')\n",
    "for f in files:\n",
    "    os.remove(f)\n",
    "files = glob.glob('/kaggle/working/bacteria_merge/*.png')\n",
    "for f in files:\n",
    "    os.remove(f)"
   ]
  },
  {
   "cell_type": "code",
   "execution_count": 33,
   "metadata": {
    "execution": {
     "iopub.execute_input": "2021-04-22T03:28:48.278369Z",
     "iopub.status.busy": "2021-04-22T03:28:48.277546Z",
     "iopub.status.idle": "2021-04-22T03:28:48.280304Z",
     "shell.execute_reply": "2021-04-22T03:28:48.279850Z"
    },
    "papermill": {
     "duration": 5.867919,
     "end_time": "2021-04-22T03:28:48.280424",
     "exception": false,
     "start_time": "2021-04-22T03:28:42.412505",
     "status": "completed"
    },
    "tags": []
   },
   "outputs": [],
   "source": [
    "normalizer = transforms.Normalize(mean=[0.485, 0.456, 0.406], std=[0.229, 0.224, 0.225])\n",
    "#normalizer = transforms.Normalize(mean=[0.5, 0.5, 0.5], std=[0.25, 0.25, 0.25])\n",
    "data_transforms = {\n",
    "    'train': transforms.Compose([\n",
    "        #p.torch_transform(),\n",
    "        transforms.ToTensor(),\n",
    "        normalizer\n",
    "    ]),\n",
    "    'validation': transforms.Compose([\n",
    "        #p2.torch_transform(),\n",
    "        transforms.ToTensor(),\n",
    "        normalizer\n",
    "    ])\n",
    "}"
   ]
  },
  {
   "cell_type": "code",
   "execution_count": 34,
   "metadata": {
    "execution": {
     "iopub.execute_input": "2021-04-22T03:28:59.513647Z",
     "iopub.status.busy": "2021-04-22T03:28:59.512867Z",
     "iopub.status.idle": "2021-04-22T03:28:59.610247Z",
     "shell.execute_reply": "2021-04-22T03:28:59.609775Z"
    },
    "papermill": {
     "duration": 6.120737,
     "end_time": "2021-04-22T03:28:59.610367",
     "exception": false,
     "start_time": "2021-04-22T03:28:53.489630",
     "status": "completed"
    },
    "tags": []
   },
   "outputs": [],
   "source": [
    "data_images = {\n",
    "    'train': datasets.ImageFolder('/kaggle/working/train', data_transforms['train']),\n",
    "    'validation': datasets.ImageFolder('/kaggle/working/test', data_transforms['validation'])\n",
    "}"
   ]
  },
  {
   "cell_type": "code",
   "execution_count": 35,
   "metadata": {
    "execution": {
     "iopub.execute_input": "2021-04-22T03:29:11.166918Z",
     "iopub.status.busy": "2021-04-22T03:29:11.166207Z",
     "iopub.status.idle": "2021-04-22T03:29:11.169239Z",
     "shell.execute_reply": "2021-04-22T03:29:11.169702Z"
    },
    "papermill": {
     "duration": 6.138344,
     "end_time": "2021-04-22T03:29:11.169843",
     "exception": false,
     "start_time": "2021-04-22T03:29:05.031499",
     "status": "completed"
    },
    "tags": []
   },
   "outputs": [
    {
     "data": {
      "text/plain": [
       "{'bacterial': 0, 'covid': 1, 'normal': 2, 'viral': 3}"
      ]
     },
     "execution_count": 35,
     "metadata": {},
     "output_type": "execute_result"
    }
   ],
   "source": [
    "data_images['train'].class_to_idx"
   ]
  },
  {
   "cell_type": "code",
   "execution_count": 36,
   "metadata": {
    "execution": {
     "iopub.execute_input": "2021-04-22T03:29:22.824398Z",
     "iopub.status.busy": "2021-04-22T03:29:22.823723Z",
     "iopub.status.idle": "2021-04-22T03:29:22.826880Z",
     "shell.execute_reply": "2021-04-22T03:29:22.827310Z"
    },
    "papermill": {
     "duration": 6.37491,
     "end_time": "2021-04-22T03:29:22.827458",
     "exception": false,
     "start_time": "2021-04-22T03:29:16.452548",
     "status": "completed"
    },
    "tags": []
   },
   "outputs": [
    {
     "data": {
      "text/plain": [
       "Dataset ImageFolder\n",
       "    Number of datapoints: 8156\n",
       "    Root location: /kaggle/working/train\n",
       "    StandardTransform\n",
       "Transform: Compose(\n",
       "               ToTensor()\n",
       "               Normalize(mean=[0.485, 0.456, 0.406], std=[0.229, 0.224, 0.225])\n",
       "           )"
      ]
     },
     "execution_count": 36,
     "metadata": {},
     "output_type": "execute_result"
    }
   ],
   "source": [
    "data_images['train']"
   ]
  },
  {
   "cell_type": "code",
   "execution_count": 37,
   "metadata": {
    "execution": {
     "iopub.execute_input": "2021-04-22T03:29:33.847353Z",
     "iopub.status.busy": "2021-04-22T03:29:33.846386Z",
     "iopub.status.idle": "2021-04-22T03:29:33.849126Z",
     "shell.execute_reply": "2021-04-22T03:29:33.848605Z"
    },
    "papermill": {
     "duration": 5.762222,
     "end_time": "2021-04-22T03:29:33.849246",
     "exception": false,
     "start_time": "2021-04-22T03:29:28.087024",
     "status": "completed"
    },
    "tags": []
   },
   "outputs": [],
   "source": [
    "dataloaders = {\n",
    "    'train': torch.utils.data.DataLoader(data_images['train'], batch_size=32, shuffle=True, num_workers=0),\n",
    "    'validation': torch.utils.data.DataLoader(data_images['validation'], batch_size=32,shuffle=True,num_workers=0)\n",
    "}"
   ]
  },
  {
   "cell_type": "code",
   "execution_count": 38,
   "metadata": {
    "execution": {
     "iopub.execute_input": "2021-04-22T03:29:45.218175Z",
     "iopub.status.busy": "2021-04-22T03:29:45.217374Z",
     "iopub.status.idle": "2021-04-22T03:29:45.268790Z",
     "shell.execute_reply": "2021-04-22T03:29:45.269239Z"
    },
    "papermill": {
     "duration": 5.56682,
     "end_time": "2021-04-22T03:29:45.269387",
     "exception": false,
     "start_time": "2021-04-22T03:29:39.702567",
     "status": "completed"
    },
    "tags": []
   },
   "outputs": [],
   "source": [
    "testloaders = {\n",
    "    'test': torch.utils.data.DataLoader(datasets.ImageFolder('/kaggle/working/test/', data_transforms['validation']), \\\n",
    "                                       batch_size=32, shuffle=False, num_workers=0)\n",
    "}"
   ]
  },
  {
   "cell_type": "code",
   "execution_count": 39,
   "metadata": {
    "execution": {
     "iopub.execute_input": "2021-04-22T03:29:56.567265Z",
     "iopub.status.busy": "2021-04-22T03:29:56.566504Z",
     "iopub.status.idle": "2021-04-22T03:29:56.570325Z",
     "shell.execute_reply": "2021-04-22T03:29:56.569906Z"
    },
    "papermill": {
     "duration": 5.80775,
     "end_time": "2021-04-22T03:29:56.570453",
     "exception": false,
     "start_time": "2021-04-22T03:29:50.762703",
     "status": "completed"
    },
    "tags": []
   },
   "outputs": [],
   "source": [
    "device = torch.device('cuda:0' if torch.cuda.is_available() else 'cpu')\n",
    "#model = models.resnet50(pretrained=True).cuda()"
   ]
  },
  {
   "cell_type": "code",
   "execution_count": 40,
   "metadata": {
    "execution": {
     "iopub.execute_input": "2021-04-22T03:30:07.227438Z",
     "iopub.status.busy": "2021-04-22T03:30:07.225688Z",
     "iopub.status.idle": "2021-04-22T03:30:07.228087Z",
     "shell.execute_reply": "2021-04-22T03:30:07.228495Z"
    },
    "papermill": {
     "duration": 5.188112,
     "end_time": "2021-04-22T03:30:07.228680",
     "exception": false,
     "start_time": "2021-04-22T03:30:02.040568",
     "status": "completed"
    },
    "tags": []
   },
   "outputs": [],
   "source": [
    "class DensNet(nn.Module):\n",
    "    def __init__(self, num_classes=4, num_channels=3):\n",
    "        super().__init__()\n",
    "        preloaded = models.densenet121(pretrained=True)\n",
    "        self.features = preloaded.features\n",
    "        self.features.conv0 = nn.Conv2d(num_channels, 64, 7, 2, 3)\n",
    "        self.classifier = nn.Linear(1024, num_classes, bias=True)\n",
    "        del preloaded\n",
    "        \n",
    "    def forward(self, x):\n",
    "        features = self.features(x)\n",
    "        out = F.relu(features, inplace=True)\n",
    "        out = F.adaptive_avg_pool2d(out, (1, 1)).view(features.size(0), -1)\n",
    "        out = self.classifier(out)\n",
    "        return out"
   ]
  },
  {
   "cell_type": "code",
   "execution_count": 41,
   "metadata": {
    "execution": {
     "iopub.execute_input": "2021-04-22T03:30:18.323417Z",
     "iopub.status.busy": "2021-04-22T03:30:18.322668Z",
     "iopub.status.idle": "2021-04-22T03:30:25.548331Z",
     "shell.execute_reply": "2021-04-22T03:30:25.547825Z"
    },
    "papermill": {
     "duration": 12.436078,
     "end_time": "2021-04-22T03:30:25.548479",
     "exception": false,
     "start_time": "2021-04-22T03:30:13.112401",
     "status": "completed"
    },
    "tags": []
   },
   "outputs": [
    {
     "name": "stderr",
     "output_type": "stream",
     "text": [
      "Downloading: \"https://download.pytorch.org/models/densenet121-a639ec97.pth\" to /root/.cache/torch/hub/checkpoints/densenet121-a639ec97.pth\n"
     ]
    },
    {
     "data": {
      "application/vnd.jupyter.widget-view+json": {
       "model_id": "2be4de95022f4a49b8772ccb4463a2bf",
       "version_major": 2,
       "version_minor": 0
      },
      "text/plain": [
       "  0%|          | 0.00/30.8M [00:00<?, ?B/s]"
      ]
     },
     "metadata": {},
     "output_type": "display_data"
    }
   ],
   "source": [
    "classes = 4\n",
    "model = DensNet(num_classes=classes)\n",
    "model.to(device);"
   ]
  },
  {
   "cell_type": "code",
   "execution_count": 42,
   "metadata": {
    "execution": {
     "iopub.execute_input": "2021-04-22T03:30:36.200999Z",
     "iopub.status.busy": "2021-04-22T03:30:36.200101Z",
     "iopub.status.idle": "2021-04-22T03:30:36.202428Z",
     "shell.execute_reply": "2021-04-22T03:30:36.202885Z"
    },
    "papermill": {
     "duration": 5.429676,
     "end_time": "2021-04-22T03:30:36.203028",
     "exception": false,
     "start_time": "2021-04-22T03:30:30.773352",
     "status": "completed"
    },
    "tags": []
   },
   "outputs": [],
   "source": [
    "# for param in model.parameters():\n",
    "#     param.requires_grad = False"
   ]
  },
  {
   "cell_type": "code",
   "execution_count": 43,
   "metadata": {
    "execution": {
     "iopub.execute_input": "2021-04-22T03:30:47.375253Z",
     "iopub.status.busy": "2021-04-22T03:30:47.374431Z",
     "iopub.status.idle": "2021-04-22T03:30:47.376703Z",
     "shell.execute_reply": "2021-04-22T03:30:47.377146Z"
    },
    "papermill": {
     "duration": 5.533651,
     "end_time": "2021-04-22T03:30:47.377285",
     "exception": false,
     "start_time": "2021-04-22T03:30:41.843634",
     "status": "completed"
    },
    "tags": []
   },
   "outputs": [],
   "source": [
    "# model.fc = nn.Sequential(\n",
    "#     nn.Linear(2048, 64),\n",
    "#     nn.ReLU(inplace=True),\n",
    "#     nn.Linear(64, 4) # change the last dimension\n",
    "# ).to(device)"
   ]
  },
  {
   "cell_type": "code",
   "execution_count": 44,
   "metadata": {
    "execution": {
     "iopub.execute_input": "2021-04-22T03:30:58.017523Z",
     "iopub.status.busy": "2021-04-22T03:30:58.016694Z",
     "iopub.status.idle": "2021-04-22T03:30:58.019180Z",
     "shell.execute_reply": "2021-04-22T03:30:58.019583Z"
    },
    "papermill": {
     "duration": 5.478384,
     "end_time": "2021-04-22T03:30:58.019744",
     "exception": false,
     "start_time": "2021-04-22T03:30:52.541360",
     "status": "completed"
    },
    "tags": []
   },
   "outputs": [],
   "source": [
    "criterion = nn.CrossEntropyLoss()\n",
    "optimizer = optim.Adam(model.parameters(), lr = 1e-3)"
   ]
  },
  {
   "cell_type": "code",
   "execution_count": 45,
   "metadata": {
    "execution": {
     "iopub.execute_input": "2021-04-22T03:31:08.593771Z",
     "iopub.status.busy": "2021-04-22T03:31:08.592881Z",
     "iopub.status.idle": "2021-04-22T03:31:08.595532Z",
     "shell.execute_reply": "2021-04-22T03:31:08.595101Z"
    },
    "papermill": {
     "duration": 5.417605,
     "end_time": "2021-04-22T03:31:08.595678",
     "exception": false,
     "start_time": "2021-04-22T03:31:03.178073",
     "status": "completed"
    },
    "tags": []
   },
   "outputs": [],
   "source": [
    "def trained_model(model, criterion, optimizer, epochs):\n",
    "    loss_history, acc_history = [],[]\n",
    "    for epoch in range(epochs):\n",
    "        \n",
    "        print('Epoch:', str(epoch+1) + '/' + str(epochs))\n",
    "        print('-'*10)\n",
    "        conf_matrix = torch.zeros(4, 4)\n",
    "        for phase in ['train', 'validation']:\n",
    "            if phase == 'train':\n",
    "                model.train() #this trains the model\n",
    "            else:\n",
    "                model.eval() #this evaluates the model\n",
    "\n",
    "            running_loss, running_corrects = 0.0, 0 \n",
    "            \n",
    "            ## adding Y_test and Y_pred\n",
    "            Y_test=[]\n",
    "            Y_pred=[]\n",
    "            Y_pred_prob = []\n",
    "            for inputs, labels in dataloaders[phase]:\n",
    "                inputs = inputs.to(device) #convert inputs to cpu or cuda\n",
    "                labels = labels.to(device) #convert labels to cpu or cuda\n",
    "\n",
    "                outputs = model(inputs) #outputs is inputs being fed to the model\n",
    "                loss = criterion(outputs, labels) #outputs are fed into the model\n",
    "\n",
    "                if phase == 'train':\n",
    "                    optimizer.zero_grad() #sets gradients to zero\n",
    "                    loss.backward() #computes sum of gradients\n",
    "                    optimizer.step() #preforms an optimization step\n",
    "\n",
    "                #_, preds = torch.max(outputs, 1) #max elements of outputs with output dimension of one\n",
    "                preds_soft = torch.softmax(outputs, dim=1)\n",
    "                _, preds = torch.max(preds_soft, 1)\n",
    "#                 print('output: ', outputs)\n",
    "#                 print('preds soft: ', preds_soft)\n",
    "#                 print('preds: ', preds)\n",
    "                running_loss += loss.item() * inputs.size(0) #loss multiplied by the first dimension of inputs\n",
    "                running_corrects += torch.sum(preds == labels.data) #sum of all the correct predictions\n",
    "                \n",
    "                ## print out\n",
    "                #print(\"\\npreds:\", preds[:10])\n",
    "                #print(\"label:\", labels.data[:10])\n",
    "                \n",
    "                ## calculate sensitivity and specificity\n",
    "                if phase == 'validation':\n",
    "                    \n",
    "                    for t, p in zip(labels.data, preds):\n",
    "                        conf_matrix[t, p] += 1\n",
    "                \n",
    "                \n",
    "\n",
    "                if phase=='validation' and epoch == epochs-1:\n",
    "                    y_pred = preds.detach().cpu().numpy()\n",
    "                    y_test = labels.data.detach().cpu().numpy()\n",
    "                    y_pred_prob = preds_soft.detach().cpu().numpy()\n",
    "                    \n",
    "                    Y_pred_prob.append(y_pred_prob)\n",
    "                    Y_test.append(y_test)\n",
    "                    Y_pred.append(y_pred)\n",
    "                \n",
    "            epoch_loss = running_loss / len(data_images[phase]) #this is the epoch loss\n",
    "            epoch_accuracy = running_corrects.double() / len(data_images[phase]) #this is the epoch accuracy\n",
    "\n",
    "            print(phase, ' loss:', epoch_loss, 'epoch_accuracy:', epoch_accuracy)\n",
    "            \n",
    "            loss_history.append(epoch_loss)\n",
    "            acc_history.append(epoch_accuracy)\n",
    "            \n",
    "            if phase == 'validation':\n",
    "                # need to adjust the index based on the class index\n",
    "                correct_covid_label = conf_matrix[1,1]\n",
    "                total_covid_label = torch.sum(conf_matrix[1,:])\n",
    "                correct_non_covid = conf_matrix[0,0] + conf_matrix[2,2] + conf_matrix[3,3]\n",
    "                total_non_convid_label = torch.sum(conf_matrix[0,:]) + torch.sum(conf_matrix[2,:]) + torch.sum(conf_matrix[3,:])\n",
    "                print('sensitivity: ', correct_covid_label/total_covid_label)\n",
    "                print('specificity: ', correct_non_covid/total_non_convid_label)\n",
    "    \n",
    "    Y_pred = np.concatenate(Y_pred, axis=0)\n",
    "    Y_test = np.concatenate(Y_test, axis=0)\n",
    "    Y_pred_prob =np.concatenate(Y_pred_prob, axis=0)\n",
    "    \n",
    "    return model, conf_matrix, Y_test, Y_pred, Y_pred_prob, loss_history, acc_history"
   ]
  },
  {
   "cell_type": "code",
   "execution_count": 46,
   "metadata": {
    "execution": {
     "iopub.execute_input": "2021-04-22T03:31:19.706082Z",
     "iopub.status.busy": "2021-04-22T03:31:19.705514Z",
     "iopub.status.idle": "2021-04-22T04:14:10.950387Z",
     "shell.execute_reply": "2021-04-22T04:14:10.949791Z"
    },
    "papermill": {
     "duration": 2576.736063,
     "end_time": "2021-04-22T04:14:10.950564",
     "exception": false,
     "start_time": "2021-04-22T03:31:14.214501",
     "status": "completed"
    },
    "tags": []
   },
   "outputs": [
    {
     "name": "stdout",
     "output_type": "stream",
     "text": [
      "Epoch: 1/20\n",
      "----------\n",
      "train  loss: 0.4605137956177504 epoch_accuracy: tensor(0.8077, device='cuda:0', dtype=torch.float64)\n",
      "validation  loss: 1.8369600154394814 epoch_accuracy: tensor(0.6117, device='cuda:0', dtype=torch.float64)\n",
      "sensitivity:  tensor(0.9652)\n",
      "specificity:  tensor(0.5133)\n",
      "Epoch: 2/20\n",
      "----------\n",
      "train  loss: 0.2969661183571219 epoch_accuracy: tensor(0.8844, device='cuda:0', dtype=torch.float64)\n",
      "validation  loss: 0.2700398897136074 epoch_accuracy: tensor(0.8872, device='cuda:0', dtype=torch.float64)\n",
      "sensitivity:  tensor(0.9248)\n",
      "specificity:  tensor(0.8767)\n",
      "Epoch: 3/20\n",
      "----------\n",
      "train  loss: 0.27018428867561317 epoch_accuracy: tensor(0.8948, device='cuda:0', dtype=torch.float64)\n",
      "validation  loss: 1.6600758498292074 epoch_accuracy: tensor(0.6854, device='cuda:0', dtype=torch.float64)\n",
      "sensitivity:  tensor(0.9010)\n",
      "specificity:  tensor(0.6253)\n",
      "Epoch: 4/20\n",
      "----------\n",
      "train  loss: 0.21510664283381542 epoch_accuracy: tensor(0.9131, device='cuda:0', dtype=torch.float64)\n",
      "validation  loss: 0.2665821806659694 epoch_accuracy: tensor(0.8905, device='cuda:0', dtype=torch.float64)\n",
      "sensitivity:  tensor(0.9275)\n",
      "specificity:  tensor(0.8802)\n",
      "Epoch: 5/20\n",
      "----------\n",
      "train  loss: 0.20075076560856608 epoch_accuracy: tensor(0.9177, device='cuda:0', dtype=torch.float64)\n",
      "validation  loss: 0.18735458365602917 epoch_accuracy: tensor(0.9236, device='cuda:0', dtype=torch.float64)\n",
      "sensitivity:  tensor(0.9231)\n",
      "specificity:  tensor(0.9237)\n",
      "Epoch: 6/20\n",
      "----------\n",
      "train  loss: 0.19016143727258336 epoch_accuracy: tensor(0.9190, device='cuda:0', dtype=torch.float64)\n",
      "validation  loss: 0.19837108628398656 epoch_accuracy: tensor(0.9184, device='cuda:0', dtype=torch.float64)\n",
      "sensitivity:  tensor(0.9790)\n",
      "specificity:  tensor(0.9015)\n",
      "Epoch: 7/20\n",
      "----------\n",
      "train  loss: 0.1657534571014648 epoch_accuracy: tensor(0.9339, device='cuda:0', dtype=torch.float64)\n",
      "validation  loss: 0.26182125929990924 epoch_accuracy: tensor(0.8925, device='cuda:0', dtype=torch.float64)\n",
      "sensitivity:  tensor(0.9817)\n",
      "specificity:  tensor(0.8676)\n",
      "Epoch: 8/20\n",
      "----------\n",
      "train  loss: 0.1482753192712683 epoch_accuracy: tensor(0.9366, device='cuda:0', dtype=torch.float64)\n",
      "validation  loss: 0.2136791170347507 epoch_accuracy: tensor(0.9126, device='cuda:0', dtype=torch.float64)\n",
      "sensitivity:  tensor(0.9259)\n",
      "specificity:  tensor(0.9089)\n",
      "Epoch: 9/20\n",
      "----------\n",
      "train  loss: 0.13998038639269253 epoch_accuracy: tensor(0.9421, device='cuda:0', dtype=torch.float64)\n",
      "validation  loss: 0.22178782980346634 epoch_accuracy: tensor(0.9069, device='cuda:0', dtype=torch.float64)\n",
      "sensitivity:  tensor(0.9342)\n",
      "specificity:  tensor(0.8994)\n",
      "Epoch: 10/20\n",
      "----------\n",
      "train  loss: 0.13311739820418783 epoch_accuracy: tensor(0.9432, device='cuda:0', dtype=torch.float64)\n",
      "validation  loss: 0.2405437425267501 epoch_accuracy: tensor(0.9116, device='cuda:0', dtype=torch.float64)\n",
      "sensitivity:  tensor(0.9806)\n",
      "specificity:  tensor(0.8924)\n",
      "Epoch: 11/20\n",
      "----------\n",
      "train  loss: 0.1454474032473307 epoch_accuracy: tensor(0.9388, device='cuda:0', dtype=torch.float64)\n",
      "validation  loss: 0.15037395571975493 epoch_accuracy: tensor(0.9380, device='cuda:0', dtype=torch.float64)\n",
      "sensitivity:  tensor(0.9541)\n",
      "specificity:  tensor(0.9336)\n",
      "Epoch: 12/20\n",
      "----------\n",
      "train  loss: 0.11623037066411131 epoch_accuracy: tensor(0.9543, device='cuda:0', dtype=torch.float64)\n",
      "validation  loss: 0.20586753719582393 epoch_accuracy: tensor(0.9200, device='cuda:0', dtype=torch.float64)\n",
      "sensitivity:  tensor(0.9591)\n",
      "specificity:  tensor(0.9091)\n",
      "Epoch: 13/20\n",
      "----------\n",
      "train  loss: 0.12376563030132012 epoch_accuracy: tensor(0.9511, device='cuda:0', dtype=torch.float64)\n",
      "validation  loss: 0.16374071255297531 epoch_accuracy: tensor(0.9304, device='cuda:0', dtype=torch.float64)\n",
      "sensitivity:  tensor(0.9690)\n",
      "specificity:  tensor(0.9197)\n",
      "Epoch: 14/20\n",
      "----------\n",
      "train  loss: 0.0953600906683365 epoch_accuracy: tensor(0.9640, device='cuda:0', dtype=torch.float64)\n",
      "validation  loss: 0.18327857142273002 epoch_accuracy: tensor(0.9291, device='cuda:0', dtype=torch.float64)\n",
      "sensitivity:  tensor(0.9629)\n",
      "specificity:  tensor(0.9197)\n",
      "Epoch: 15/20\n",
      "----------\n",
      "train  loss: 0.10603229490863804 epoch_accuracy: tensor(0.9595, device='cuda:0', dtype=torch.float64)\n",
      "validation  loss: 0.16360336955319713 epoch_accuracy: tensor(0.9317, device='cuda:0', dtype=torch.float64)\n",
      "sensitivity:  tensor(0.9530)\n",
      "specificity:  tensor(0.9257)\n",
      "Epoch: 16/20\n",
      "----------\n",
      "train  loss: 0.0932144686057177 epoch_accuracy: tensor(0.9609, device='cuda:0', dtype=torch.float64)\n",
      "validation  loss: 0.19812173696850915 epoch_accuracy: tensor(0.9274, device='cuda:0', dtype=torch.float64)\n",
      "sensitivity:  tensor(0.9746)\n",
      "specificity:  tensor(0.9143)\n",
      "Epoch: 17/20\n",
      "----------\n",
      "train  loss: 0.08342815539696861 epoch_accuracy: tensor(0.9653, device='cuda:0', dtype=torch.float64)\n",
      "validation  loss: 0.16657188623647853 epoch_accuracy: tensor(0.9439, device='cuda:0', dtype=torch.float64)\n",
      "sensitivity:  tensor(0.9779)\n",
      "specificity:  tensor(0.9345)\n",
      "Epoch: 18/20\n",
      "----------\n",
      "train  loss: 0.07685580085131717 epoch_accuracy: tensor(0.9701, device='cuda:0', dtype=torch.float64)\n",
      "validation  loss: 0.17746631536101104 epoch_accuracy: tensor(0.9386, device='cuda:0', dtype=torch.float64)\n",
      "sensitivity:  tensor(0.9491)\n",
      "specificity:  tensor(0.9357)\n",
      "Epoch: 19/20\n",
      "----------\n",
      "train  loss: 0.0830852271337656 epoch_accuracy: tensor(0.9675, device='cuda:0', dtype=torch.float64)\n",
      "validation  loss: 0.14608938277590383 epoch_accuracy: tensor(0.9488, device='cuda:0', dtype=torch.float64)\n",
      "sensitivity:  tensor(0.9624)\n",
      "specificity:  tensor(0.9450)\n",
      "Epoch: 20/20\n",
      "----------\n",
      "train  loss: 0.049581850408893874 epoch_accuracy: tensor(0.9806, device='cuda:0', dtype=torch.float64)\n",
      "validation  loss: 0.1691220884131431 epoch_accuracy: tensor(0.9415, device='cuda:0', dtype=torch.float64)\n",
      "sensitivity:  tensor(0.9596)\n",
      "specificity:  tensor(0.9365)\n"
     ]
    }
   ],
   "source": [
    "model, mtrx, Y_test, Y_pred, Y_pred_prob, loss_his, acc_his = trained_model(model, criterion, optimizer, 20)\n"
   ]
  },
  {
   "cell_type": "code",
   "execution_count": 47,
   "metadata": {
    "execution": {
     "iopub.execute_input": "2021-04-22T04:14:21.976961Z",
     "iopub.status.busy": "2021-04-22T04:14:21.976086Z",
     "iopub.status.idle": "2021-04-22T04:14:21.979991Z",
     "shell.execute_reply": "2021-04-22T04:14:21.980613Z"
    },
    "papermill": {
     "duration": 5.189153,
     "end_time": "2021-04-22T04:14:21.980793",
     "exception": false,
     "start_time": "2021-04-22T04:14:16.791640",
     "status": "completed"
    },
    "tags": []
   },
   "outputs": [
    {
     "data": {
      "text/plain": [
       "array([4.1698892e-10, 1.1219871e-11, 5.6418835e-11, ..., 3.1432368e-08,\n",
       "       2.6499786e-06, 3.6575695e-04], dtype=float32)"
      ]
     },
     "execution_count": 47,
     "metadata": {},
     "output_type": "execute_result"
    }
   ],
   "source": [
    "Y_pred_prob[:,1]"
   ]
  },
  {
   "cell_type": "code",
   "execution_count": 48,
   "metadata": {
    "execution": {
     "iopub.execute_input": "2021-04-22T04:14:32.815460Z",
     "iopub.status.busy": "2021-04-22T04:14:32.814732Z",
     "iopub.status.idle": "2021-04-22T04:14:32.818148Z",
     "shell.execute_reply": "2021-04-22T04:14:32.818513Z"
    },
    "papermill": {
     "duration": 5.271584,
     "end_time": "2021-04-22T04:14:32.818668",
     "exception": false,
     "start_time": "2021-04-22T04:14:27.547084",
     "status": "completed"
    },
    "tags": []
   },
   "outputs": [
    {
     "data": {
      "text/plain": [
       "array([2, 2, 2, ..., 2, 3, 2])"
      ]
     },
     "execution_count": 48,
     "metadata": {},
     "output_type": "execute_result"
    }
   ],
   "source": [
    "Y_test"
   ]
  },
  {
   "cell_type": "code",
   "execution_count": 49,
   "metadata": {
    "execution": {
     "iopub.execute_input": "2021-04-22T04:14:43.447079Z",
     "iopub.status.busy": "2021-04-22T04:14:43.446255Z",
     "iopub.status.idle": "2021-04-22T04:14:43.449955Z",
     "shell.execute_reply": "2021-04-22T04:14:43.449510Z"
    },
    "papermill": {
     "duration": 5.175747,
     "end_time": "2021-04-22T04:14:43.450086",
     "exception": false,
     "start_time": "2021-04-22T04:14:38.274339",
     "status": "completed"
    },
    "tags": []
   },
   "outputs": [
    {
     "data": {
      "text/plain": [
       "array([2, 2, 2, ..., 2, 0, 2])"
      ]
     },
     "execution_count": 49,
     "metadata": {},
     "output_type": "execute_result"
    }
   ],
   "source": [
    "Y_pred"
   ]
  },
  {
   "cell_type": "code",
   "execution_count": 50,
   "metadata": {
    "execution": {
     "iopub.execute_input": "2021-04-22T04:14:54.419871Z",
     "iopub.status.busy": "2021-04-22T04:14:54.418884Z",
     "iopub.status.idle": "2021-04-22T04:14:54.421553Z",
     "shell.execute_reply": "2021-04-22T04:14:54.422011Z"
    },
    "papermill": {
     "duration": 5.184335,
     "end_time": "2021-04-22T04:14:54.422148",
     "exception": false,
     "start_time": "2021-04-22T04:14:49.237813",
     "status": "completed"
    },
    "tags": []
   },
   "outputs": [],
   "source": [
    "def eval_model(model, dataloader):\n",
    "\n",
    "    model.eval()\n",
    "    Y_pred = []\n",
    "    Y_test = []\n",
    "    Y_pred_prob = []\n",
    "    for data, target in dataloader:\n",
    "        # your code here\n",
    "        #raise NotImplementedError\n",
    "        data = data.to(device)\n",
    "        output = model(data)\n",
    "        preds_soft = torch.softmax(output, dim=1)\n",
    "        _, preds = torch.max(preds_soft, 1)\n",
    "        y_pred = preds.detach().cpu().numpy()\n",
    "        Y_pred.append(y_pred)\n",
    "        \n",
    "        y_test = target.data.detach().cpu().numpy()\n",
    "        Y_test.append(y_test)\n",
    "        \n",
    "        y_pred_prob = preds_soft.detach().cpu().numpy()\n",
    "        Y_pred_prob.append(y_pred_prob)\n",
    "        #print(target)\n",
    "        #print(Y_pred[0].shape)\n",
    "    Y_pred = np.concatenate(Y_pred, axis=0)\n",
    "    Y_test = np.concatenate(Y_test, axis=0)\n",
    "    Y_pred_prob = np.concatenate(Y_pred_prob, axis=0)\n",
    "    return Y_pred, Y_test, Y_pred_prob"
   ]
  },
  {
   "cell_type": "code",
   "execution_count": 51,
   "metadata": {
    "execution": {
     "iopub.execute_input": "2021-04-22T04:15:05.046134Z",
     "iopub.status.busy": "2021-04-22T04:15:05.045264Z",
     "iopub.status.idle": "2021-04-22T04:15:45.480531Z",
     "shell.execute_reply": "2021-04-22T04:15:45.479415Z"
    },
    "papermill": {
     "duration": 45.596724,
     "end_time": "2021-04-22T04:15:45.480709",
     "exception": false,
     "start_time": "2021-04-22T04:14:59.883985",
     "status": "completed"
    },
    "tags": []
   },
   "outputs": [],
   "source": [
    "Y_pred, Y_test, Y_pred_prob = eval_model(model, testloaders['test'])\n"
   ]
  },
  {
   "cell_type": "code",
   "execution_count": 52,
   "metadata": {
    "execution": {
     "iopub.execute_input": "2021-04-22T04:15:56.507867Z",
     "iopub.status.busy": "2021-04-22T04:15:56.507051Z",
     "iopub.status.idle": "2021-04-22T04:15:56.509324Z",
     "shell.execute_reply": "2021-04-22T04:15:56.509854Z"
    },
    "papermill": {
     "duration": 5.440905,
     "end_time": "2021-04-22T04:15:56.509992",
     "exception": false,
     "start_time": "2021-04-22T04:15:51.069087",
     "status": "completed"
    },
    "tags": []
   },
   "outputs": [],
   "source": [
    "Y_test_COVID = [1 if i ==1 else 0 for i in Y_test]\n",
    "Y_pred_COVID = [1 if i == 1 else 0 for i in Y_pred]\n"
   ]
  },
  {
   "cell_type": "code",
   "execution_count": 53,
   "metadata": {
    "execution": {
     "iopub.execute_input": "2021-04-22T04:16:06.982198Z",
     "iopub.status.busy": "2021-04-22T04:16:06.981457Z",
     "iopub.status.idle": "2021-04-22T04:16:06.984968Z",
     "shell.execute_reply": "2021-04-22T04:16:06.985546Z"
    },
    "papermill": {
     "duration": 5.389238,
     "end_time": "2021-04-22T04:16:06.985743",
     "exception": false,
     "start_time": "2021-04-22T04:16:01.596505",
     "status": "completed"
    },
    "tags": []
   },
   "outputs": [
    {
     "name": "stdout",
     "output_type": "stream",
     "text": [
      "0.9596238938053098 0.9912145499383477\n"
     ]
    }
   ],
   "source": [
    "#sensitivity= correct_covid_label/total_covid_label\n",
    "\n",
    "total_covid_label = np.sum(Y_test_COVID)\n",
    "total_non_covid = len(Y_test_COVID) - total_covid_label\n",
    "correct_covid_label = 0\n",
    "correct_non_covid = 0\n",
    "for i, v in enumerate(Y_test_COVID):\n",
    "    if v==1 and Y_pred_COVID[i] == v:\n",
    "        correct_covid_label +=1\n",
    "    elif v==0 and Y_pred_COVID[i] ==v:\n",
    "        correct_non_covid +=1\n",
    "    else:\n",
    "        pass\n",
    "\n",
    "sensitivity = correct_covid_label/total_covid_label\n",
    "specificity = correct_non_covid/total_non_covid\n",
    "\n",
    "print(sensitivity, specificity)"
   ]
  },
  {
   "cell_type": "code",
   "execution_count": null,
   "metadata": {
    "papermill": {
     "duration": 5.561976,
     "end_time": "2021-04-22T04:16:17.718872",
     "exception": false,
     "start_time": "2021-04-22T04:16:12.156896",
     "status": "completed"
    },
    "tags": []
   },
   "outputs": [],
   "source": []
  },
  {
   "cell_type": "code",
   "execution_count": 54,
   "metadata": {
    "execution": {
     "iopub.execute_input": "2021-04-22T04:16:28.700418Z",
     "iopub.status.busy": "2021-04-22T04:16:28.699680Z",
     "iopub.status.idle": "2021-04-22T04:16:29.538497Z",
     "shell.execute_reply": "2021-04-22T04:16:29.537136Z"
    },
    "papermill": {
     "duration": 6.223852,
     "end_time": "2021-04-22T04:16:29.538653",
     "exception": false,
     "start_time": "2021-04-22T04:16:23.314801",
     "status": "completed"
    },
    "tags": []
   },
   "outputs": [],
   "source": [
    "from sklearn.metrics import precision_recall_curve"
   ]
  },
  {
   "cell_type": "code",
   "execution_count": 55,
   "metadata": {
    "execution": {
     "iopub.execute_input": "2021-04-22T04:16:40.042517Z",
     "iopub.status.busy": "2021-04-22T04:16:40.041941Z",
     "iopub.status.idle": "2021-04-22T04:16:40.047597Z",
     "shell.execute_reply": "2021-04-22T04:16:40.047175Z"
    },
    "papermill": {
     "duration": 5.412766,
     "end_time": "2021-04-22T04:16:40.047739",
     "exception": false,
     "start_time": "2021-04-22T04:16:34.634973",
     "status": "completed"
    },
    "tags": []
   },
   "outputs": [],
   "source": [
    "prec, recall, c = precision_recall_curve(Y_test_COVID , Y_pred_prob[:,1])"
   ]
  },
  {
   "cell_type": "code",
   "execution_count": 56,
   "metadata": {
    "execution": {
     "iopub.execute_input": "2021-04-22T04:16:50.652591Z",
     "iopub.status.busy": "2021-04-22T04:16:50.642613Z",
     "iopub.status.idle": "2021-04-22T04:16:50.750964Z",
     "shell.execute_reply": "2021-04-22T04:16:50.751376Z"
    },
    "papermill": {
     "duration": 5.538381,
     "end_time": "2021-04-22T04:16:50.751515",
     "exception": false,
     "start_time": "2021-04-22T04:16:45.213134",
     "status": "completed"
    },
    "tags": []
   },
   "outputs": [
    {
     "data": {
      "text/plain": [
       "[<matplotlib.lines.Line2D at 0x7febf8f1a650>]"
      ]
     },
     "execution_count": 56,
     "metadata": {},
     "output_type": "execute_result"
    },
    {
     "data": {
      "image/png": "[encoded data removed]",
      "text/plain": [
       "<Figure size 432x288 with 1 Axes>"
      ]
     },
     "metadata": {
      "needs_background": "light"
     },
     "output_type": "display_data"
    }
   ],
   "source": [
    "plt.plot(prec, recall, lw=2)"
   ]
  },
  {
   "cell_type": "code",
   "execution_count": null,
   "metadata": {
    "papermill": {
     "duration": 5.353116,
     "end_time": "2021-04-22T04:17:01.689593",
     "exception": false,
     "start_time": "2021-04-22T04:16:56.336477",
     "status": "completed"
    },
    "tags": []
   },
   "outputs": [],
   "source": []
  },
  {
   "cell_type": "code",
   "execution_count": 57,
   "metadata": {
    "execution": {
     "iopub.execute_input": "2021-04-22T04:17:12.147924Z",
     "iopub.status.busy": "2021-04-22T04:17:12.147035Z",
     "iopub.status.idle": "2021-04-22T04:17:12.295829Z",
     "shell.execute_reply": "2021-04-22T04:17:12.295331Z"
    },
    "papermill": {
     "duration": 5.503128,
     "end_time": "2021-04-22T04:17:12.295968",
     "exception": false,
     "start_time": "2021-04-22T04:17:06.792840",
     "status": "completed"
    },
    "tags": []
   },
   "outputs": [],
   "source": [
    "pd.DataFrame({'precision': prec, 'recall': recall}).to_csv('pc_curve_0420_densenet_zoom_1.csv', index=False)"
   ]
  },
  {
   "cell_type": "code",
   "execution_count": 58,
   "metadata": {
    "execution": {
     "iopub.execute_input": "2021-04-22T04:17:22.755909Z",
     "iopub.status.busy": "2021-04-22T04:17:22.755062Z",
     "iopub.status.idle": "2021-04-22T04:17:22.757693Z",
     "shell.execute_reply": "2021-04-22T04:17:22.757279Z"
    },
    "papermill": {
     "duration": 5.315648,
     "end_time": "2021-04-22T04:17:22.757815",
     "exception": false,
     "start_time": "2021-04-22T04:17:17.442167",
     "status": "completed"
    },
    "tags": []
   },
   "outputs": [],
   "source": [
    "df = pd.DataFrame({'precision': prec, 'recall': recall})"
   ]
  },
  {
   "cell_type": "code",
   "execution_count": 59,
   "metadata": {
    "execution": {
     "iopub.execute_input": "2021-04-22T04:17:33.755789Z",
     "iopub.status.busy": "2021-04-22T04:17:33.754979Z",
     "iopub.status.idle": "2021-04-22T04:17:34.285676Z",
     "shell.execute_reply": "2021-04-22T04:17:34.285168Z"
    },
    "papermill": {
     "duration": 5.884755,
     "end_time": "2021-04-22T04:17:34.285840",
     "exception": false,
     "start_time": "2021-04-22T04:17:28.401085",
     "status": "completed"
    },
    "tags": []
   },
   "outputs": [],
   "source": [
    "files = glob.glob('/kaggle/working/train/*/*.png')\n",
    "for f in files:\n",
    "    os.remove(f)\n",
    "files = glob.glob('/kaggle/working/test/*/*.png')\n",
    "for f in files:\n",
    "    os.remove(f)\n",
    "files = glob.glob('/kaggle/working/valid/*/*.png')\n",
    "for f in files:\n",
    "    os.remove(f)"
   ]
  },
  {
   "cell_type": "code",
   "execution_count": 60,
   "metadata": {
    "execution": {
     "iopub.execute_input": "2021-04-22T04:17:44.773470Z",
     "iopub.status.busy": "2021-04-22T04:17:44.772689Z",
     "iopub.status.idle": "2021-04-22T04:17:44.803326Z",
     "shell.execute_reply": "2021-04-22T04:17:44.802907Z"
    },
    "papermill": {
     "duration": 5.365565,
     "end_time": "2021-04-22T04:17:44.803444",
     "exception": false,
     "start_time": "2021-04-22T04:17:39.437879",
     "status": "completed"
    },
    "tags": []
   },
   "outputs": [
    {
     "data": {
      "text/plain": [
       "[tensor(0.8077, device='cuda:0', dtype=torch.float64),\n",
       " tensor(0.6117, device='cuda:0', dtype=torch.float64),\n",
       " tensor(0.8844, device='cuda:0', dtype=torch.float64),\n",
       " tensor(0.8872, device='cuda:0', dtype=torch.float64),\n",
       " tensor(0.8948, device='cuda:0', dtype=torch.float64),\n",
       " tensor(0.6854, device='cuda:0', dtype=torch.float64),\n",
       " tensor(0.9131, device='cuda:0', dtype=torch.float64),\n",
       " tensor(0.8905, device='cuda:0', dtype=torch.float64),\n",
       " tensor(0.9177, device='cuda:0', dtype=torch.float64),\n",
       " tensor(0.9236, device='cuda:0', dtype=torch.float64),\n",
       " tensor(0.9190, device='cuda:0', dtype=torch.float64),\n",
       " tensor(0.9184, device='cuda:0', dtype=torch.float64),\n",
       " tensor(0.9339, device='cuda:0', dtype=torch.float64),\n",
       " tensor(0.8925, device='cuda:0', dtype=torch.float64),\n",
       " tensor(0.9366, device='cuda:0', dtype=torch.float64),\n",
       " tensor(0.9126, device='cuda:0', dtype=torch.float64),\n",
       " tensor(0.9421, device='cuda:0', dtype=torch.float64),\n",
       " tensor(0.9069, device='cuda:0', dtype=torch.float64),\n",
       " tensor(0.9432, device='cuda:0', dtype=torch.float64),\n",
       " tensor(0.9116, device='cuda:0', dtype=torch.float64),\n",
       " tensor(0.9388, device='cuda:0', dtype=torch.float64),\n",
       " tensor(0.9380, device='cuda:0', dtype=torch.float64),\n",
       " tensor(0.9543, device='cuda:0', dtype=torch.float64),\n",
       " tensor(0.9200, device='cuda:0', dtype=torch.float64),\n",
       " tensor(0.9511, device='cuda:0', dtype=torch.float64),\n",
       " tensor(0.9304, device='cuda:0', dtype=torch.float64),\n",
       " tensor(0.9640, device='cuda:0', dtype=torch.float64),\n",
       " tensor(0.9291, device='cuda:0', dtype=torch.float64),\n",
       " tensor(0.9595, device='cuda:0', dtype=torch.float64),\n",
       " tensor(0.9317, device='cuda:0', dtype=torch.float64),\n",
       " tensor(0.9609, device='cuda:0', dtype=torch.float64),\n",
       " tensor(0.9274, device='cuda:0', dtype=torch.float64),\n",
       " tensor(0.9653, device='cuda:0', dtype=torch.float64),\n",
       " tensor(0.9439, device='cuda:0', dtype=torch.float64),\n",
       " tensor(0.9701, device='cuda:0', dtype=torch.float64),\n",
       " tensor(0.9386, device='cuda:0', dtype=torch.float64),\n",
       " tensor(0.9675, device='cuda:0', dtype=torch.float64),\n",
       " tensor(0.9488, device='cuda:0', dtype=torch.float64),\n",
       " tensor(0.9806, device='cuda:0', dtype=torch.float64),\n",
       " tensor(0.9415, device='cuda:0', dtype=torch.float64)]"
      ]
     },
     "execution_count": 60,
     "metadata": {},
     "output_type": "execute_result"
    }
   ],
   "source": [
    "acc_his"
   ]
  },
  {
   "cell_type": "code",
   "execution_count": 61,
   "metadata": {
    "execution": {
     "iopub.execute_input": "2021-04-22T04:17:55.307010Z",
     "iopub.status.busy": "2021-04-22T04:17:55.306286Z",
     "iopub.status.idle": "2021-04-22T04:17:55.309575Z",
     "shell.execute_reply": "2021-04-22T04:17:55.309989Z"
    },
    "papermill": {
     "duration": 5.343763,
     "end_time": "2021-04-22T04:17:55.310123",
     "exception": false,
     "start_time": "2021-04-22T04:17:49.966360",
     "status": "completed"
    },
    "tags": []
   },
   "outputs": [
    {
     "data": {
      "text/plain": [
       "[0.4605137956177504,\n",
       " 1.8369600154394814,\n",
       " 0.2969661183571219,\n",
       " 0.2700398897136074,\n",
       " 0.27018428867561317,\n",
       " 1.6600758498292074,\n",
       " 0.21510664283381542,\n",
       " 0.2665821806659694,\n",
       " 0.20075076560856608,\n",
       " 0.18735458365602917,\n",
       " 0.19016143727258336,\n",
       " 0.19837108628398656,\n",
       " 0.1657534571014648,\n",
       " 0.26182125929990924,\n",
       " 0.1482753192712683,\n",
       " 0.2136791170347507,\n",
       " 0.13998038639269253,\n",
       " 0.22178782980346634,\n",
       " 0.13311739820418783,\n",
       " 0.2405437425267501,\n",
       " 0.1454474032473307,\n",
       " 0.15037395571975493,\n",
       " 0.11623037066411131,\n",
       " 0.20586753719582393,\n",
       " 0.12376563030132012,\n",
       " 0.16374071255297531,\n",
       " 0.0953600906683365,\n",
       " 0.18327857142273002,\n",
       " 0.10603229490863804,\n",
       " 0.16360336955319713,\n",
       " 0.0932144686057177,\n",
       " 0.19812173696850915,\n",
       " 0.08342815539696861,\n",
       " 0.16657188623647853,\n",
       " 0.07685580085131717,\n",
       " 0.17746631536101104,\n",
       " 0.0830852271337656,\n",
       " 0.14608938277590383,\n",
       " 0.049581850408893874,\n",
       " 0.1691220884131431]"
      ]
     },
     "execution_count": 61,
     "metadata": {},
     "output_type": "execute_result"
    }
   ],
   "source": [
    "loss_his"
   ]
  },
  {
   "cell_type": "code",
   "execution_count": 62,
   "metadata": {
    "execution": {
     "iopub.execute_input": "2021-04-22T04:18:06.414863Z",
     "iopub.status.busy": "2021-04-22T04:18:06.414055Z",
     "iopub.status.idle": "2021-04-22T04:18:06.419328Z",
     "shell.execute_reply": "2021-04-22T04:18:06.419750Z"
    },
    "papermill": {
     "duration": 5.414363,
     "end_time": "2021-04-22T04:18:06.419889",
     "exception": false,
     "start_time": "2021-04-22T04:18:01.005526",
     "status": "completed"
    },
    "tags": []
   },
   "outputs": [
    {
     "data": {
      "text/plain": [
       "tensor([[5.7200e+02, 0.0000e+00, 5.0000e+00, 1.4200e+02],\n",
       "        [1.0000e+01, 1.7350e+03, 4.5000e+01, 1.8000e+01],\n",
       "        [7.0000e+00, 5.7000e+01, 5.0020e+03, 3.0000e+01],\n",
       "        [1.5800e+02, 0.0000e+00, 1.3000e+01, 5.0200e+02]])"
      ]
     },
     "execution_count": 62,
     "metadata": {},
     "output_type": "execute_result"
    }
   ],
   "source": [
    "mtrx"
   ]
  },
  {
   "cell_type": "code",
   "execution_count": 63,
   "metadata": {
    "execution": {
     "iopub.execute_input": "2021-04-22T04:18:16.951336Z",
     "iopub.status.busy": "2021-04-22T04:18:16.950471Z",
     "iopub.status.idle": "2021-04-22T04:18:16.955565Z",
     "shell.execute_reply": "2021-04-22T04:18:16.955069Z"
    },
    "papermill": {
     "duration": 5.357555,
     "end_time": "2021-04-22T04:18:16.955747",
     "exception": false,
     "start_time": "2021-04-22T04:18:11.598192",
     "status": "completed"
    },
    "tags": []
   },
   "outputs": [],
   "source": [
    "acc_hist = [i.detach().cpu().numpy() for i in acc_his]"
   ]
  },
  {
   "cell_type": "code",
   "execution_count": 64,
   "metadata": {
    "execution": {
     "iopub.execute_input": "2021-04-22T04:18:27.453604Z",
     "iopub.status.busy": "2021-04-22T04:18:27.452770Z",
     "iopub.status.idle": "2021-04-22T04:18:27.456128Z",
     "shell.execute_reply": "2021-04-22T04:18:27.456526Z"
    },
    "papermill": {
     "duration": 5.323295,
     "end_time": "2021-04-22T04:18:27.456679",
     "exception": false,
     "start_time": "2021-04-22T04:18:22.133384",
     "status": "completed"
    },
    "tags": []
   },
   "outputs": [
    {
     "data": {
      "text/plain": [
       "[array(0.8077489),\n",
       " array(0.6117406),\n",
       " array(0.8843796),\n",
       " array(0.88717454),\n",
       " array(0.89480137),\n",
       " array(0.68539055),\n",
       " array(0.91307013),\n",
       " array(0.89054966),\n",
       " array(0.91772928),\n",
       " array(0.92357763),\n",
       " array(0.91895537),\n",
       " array(0.91839441),\n",
       " array(0.93391368),\n",
       " array(0.8924783),\n",
       " array(0.93661108),\n",
       " array(0.91260849),\n",
       " array(0.94212849),\n",
       " array(0.90694311),\n",
       " array(0.94323198),\n",
       " array(0.91164417),\n",
       " array(0.93881805),\n",
       " array(0.93804243),\n",
       " array(0.9542668),\n",
       " array(0.91996143),\n",
       " array(0.95107896),\n",
       " array(0.93044841),\n",
       " array(0.96395292),\n",
       " array(0.92912247),\n",
       " array(0.95953899),\n",
       " array(0.93165381),\n",
       " array(0.96088769),\n",
       " array(0.92743491),\n",
       " array(0.96530162),\n",
       " array(0.94394889),\n",
       " array(0.97008337),\n",
       " array(0.93864513),\n",
       " array(0.96750858),\n",
       " array(0.94877049),\n",
       " array(0.98062776),\n",
       " array(0.94153809)]"
      ]
     },
     "execution_count": 64,
     "metadata": {},
     "output_type": "execute_result"
    }
   ],
   "source": [
    "acc_hist"
   ]
  },
  {
   "cell_type": "code",
   "execution_count": 65,
   "metadata": {
    "execution": {
     "iopub.execute_input": "2021-04-22T04:18:38.374036Z",
     "iopub.status.busy": "2021-04-22T04:18:38.373216Z",
     "iopub.status.idle": "2021-04-22T04:18:38.456775Z",
     "shell.execute_reply": "2021-04-22T04:18:38.456336Z"
    },
    "papermill": {
     "duration": 5.438653,
     "end_time": "2021-04-22T04:18:38.456901",
     "exception": false,
     "start_time": "2021-04-22T04:18:33.018248",
     "status": "completed"
    },
    "tags": []
   },
   "outputs": [
    {
     "ename": "NameError",
     "evalue": "name 'train_loss' is not defined",
     "output_type": "error",
     "traceback": [
      "\u001b[0;31m---------------------------------------------------------------------------\u001b[0m",
      "\u001b[0;31mNameError\u001b[0m                                 Traceback (most recent call last)",
      "\u001b[0;32m<ipython-input-65-b1960c31b73a>\u001b[0m in \u001b[0;36m<module>\u001b[0;34m\u001b[0m\n\u001b[0;32m----> 1\u001b[0;31m \u001b[0mtrain_loss\u001b[0m\u001b[0;34m\u001b[0m\u001b[0;34m\u001b[0m\u001b[0m\n\u001b[0m",
      "\u001b[0;31mNameError\u001b[0m: name 'train_loss' is not defined"
     ]
    }
   ],
   "source": [
    "train_loss"
   ]
  },
  {
   "cell_type": "code",
   "execution_count": 66,
   "metadata": {
    "execution": {
     "iopub.execute_input": "2021-04-22T04:18:48.955195Z",
     "iopub.status.busy": "2021-04-22T04:18:48.954301Z",
     "iopub.status.idle": "2021-04-22T04:18:48.957740Z",
     "shell.execute_reply": "2021-04-22T04:18:48.958185Z"
    },
    "papermill": {
     "duration": 5.388339,
     "end_time": "2021-04-22T04:18:48.958319",
     "exception": false,
     "start_time": "2021-04-22T04:18:43.569980",
     "status": "completed"
    },
    "tags": []
   },
   "outputs": [
    {
     "ename": "NameError",
     "evalue": "name 'val_loss' is not defined",
     "output_type": "error",
     "traceback": [
      "\u001b[0;31m---------------------------------------------------------------------------\u001b[0m",
      "\u001b[0;31mNameError\u001b[0m                                 Traceback (most recent call last)",
      "\u001b[0;32m<ipython-input-66-458a6a551bcd>\u001b[0m in \u001b[0;36m<module>\u001b[0;34m\u001b[0m\n\u001b[0;32m----> 1\u001b[0;31m \u001b[0mval_loss\u001b[0m\u001b[0;34m\u001b[0m\u001b[0;34m\u001b[0m\u001b[0m\n\u001b[0m",
      "\u001b[0;31mNameError\u001b[0m: name 'val_loss' is not defined"
     ]
    }
   ],
   "source": [
    "val_loss"
   ]
  },
  {
   "cell_type": "code",
   "execution_count": 67,
   "metadata": {
    "execution": {
     "iopub.execute_input": "2021-04-22T04:18:59.492105Z",
     "iopub.status.busy": "2021-04-22T04:18:59.491297Z",
     "iopub.status.idle": "2021-04-22T04:18:59.495403Z",
     "shell.execute_reply": "2021-04-22T04:18:59.494827Z"
    },
    "papermill": {
     "duration": 5.43063,
     "end_time": "2021-04-22T04:18:59.495543",
     "exception": false,
     "start_time": "2021-04-22T04:18:54.064913",
     "status": "completed"
    },
    "tags": []
   },
   "outputs": [
    {
     "ename": "NameError",
     "evalue": "name 'train_acc' is not defined",
     "output_type": "error",
     "traceback": [
      "\u001b[0;31m---------------------------------------------------------------------------\u001b[0m",
      "\u001b[0;31mNameError\u001b[0m                                 Traceback (most recent call last)",
      "\u001b[0;32m<ipython-input-67-656272a1c357>\u001b[0m in \u001b[0;36m<module>\u001b[0;34m\u001b[0m\n\u001b[0;32m----> 1\u001b[0;31m \u001b[0mtrain_acc\u001b[0m\u001b[0;34m\u001b[0m\u001b[0;34m\u001b[0m\u001b[0m\n\u001b[0m",
      "\u001b[0;31mNameError\u001b[0m: name 'train_acc' is not defined"
     ]
    }
   ],
   "source": [
    "train_acc"
   ]
  },
  {
   "cell_type": "code",
   "execution_count": 68,
   "metadata": {
    "execution": {
     "iopub.execute_input": "2021-04-22T04:19:10.651408Z",
     "iopub.status.busy": "2021-04-22T04:19:10.650615Z",
     "iopub.status.idle": "2021-04-22T04:19:10.654052Z",
     "shell.execute_reply": "2021-04-22T04:19:10.654567Z"
    },
    "papermill": {
     "duration": 5.800861,
     "end_time": "2021-04-22T04:19:10.654723",
     "exception": false,
     "start_time": "2021-04-22T04:19:04.853862",
     "status": "completed"
    },
    "tags": []
   },
   "outputs": [
    {
     "ename": "NameError",
     "evalue": "name 'val_acc' is not defined",
     "output_type": "error",
     "traceback": [
      "\u001b[0;31m---------------------------------------------------------------------------\u001b[0m",
      "\u001b[0;31mNameError\u001b[0m                                 Traceback (most recent call last)",
      "\u001b[0;32m<ipython-input-68-49879b6ea24b>\u001b[0m in \u001b[0;36m<module>\u001b[0;34m\u001b[0m\n\u001b[0;32m----> 1\u001b[0;31m \u001b[0mval_acc\u001b[0m\u001b[0;34m\u001b[0m\u001b[0;34m\u001b[0m\u001b[0m\n\u001b[0m",
      "\u001b[0;31mNameError\u001b[0m: name 'val_acc' is not defined"
     ]
    }
   ],
   "source": [
    "val_acc"
   ]
  }
 ],
 "metadata": {
  "kernelspec": {
   "display_name": "Python 3",
   "language": "python",
   "name": "python3"
  },
  "language_info": {
   "codemirror_mode": {
    "name": "ipython",
    "version": 3
   },
   "file_extension": ".py",
   "mimetype": "text/x-python",
   "name": "python",
   "nbconvert_exporter": "python",
   "pygments_lexer": "ipython3",
   "version": "3.7.9"
  },
  "papermill": {
   "default_parameters": {},
   "duration": 3537.766563,
   "end_time": "2021-04-22T04:19:17.348509",
   "environment_variables": {},
   "exception": null,
   "input_path": "__notebook__.ipynb",
   "output_path": "__notebook__.ipynb",
   "parameters": {},
   "start_time": "2021-04-22T03:20:19.581946",
   "version": "2.2.2"
  },
  "widgets": {
   "application/vnd.jupyter.widget-state+json": {
    "state": {
     "26e1d5355c5e45ae8bd95a9595de1165": {
      "model_module": "@jupyter-widgets/base",
      "model_module_version": "1.2.0",
      "model_name": "LayoutModel",
      "state": {
       "_model_module": "@jupyter-widgets/base",
       "_model_module_version": "1.2.0",
       "_model_name": "LayoutModel",
       "_view_count": null,
       "_view_module": "@jupyter-widgets/base",
       "_view_module_version": "1.2.0",
       "_view_name": "LayoutView",
       "align_content": null,
       "align_items": null,
       "align_self": null,
       "border": null,
       "bottom": null,
       "display": null,
       "flex": null,
       "flex_flow": null,
       "grid_area": null,
       "grid_auto_columns": null,
       "grid_auto_flow": null,
       "grid_auto_rows": null,
       "grid_column": null,
       "grid_gap": null,
       "grid_row": null,
       "grid_template_areas": null,
       "grid_template_columns": null,
       "grid_template_rows": null,
       "height": null,
       "justify_content": null,
       "justify_items": null,
       "left": null,
       "margin": null,
       "max_height": null,
       "max_width": null,
       "min_height": null,
       "min_width": null,
       "object_fit": null,
       "object_position": null,
       "order": null,
       "overflow": null,
       "overflow_x": null,
       "overflow_y": null,
       "padding": null,
       "right": null,
       "top": null,
       "visibility": null,
       "width": null
      }
     },
     "2be4de95022f4a49b8772ccb4463a2bf": {
      "model_module": "@jupyter-widgets/controls",
      "model_module_version": "1.5.0",
      "model_name": "HBoxModel",
      "state": {
       "_dom_classes": [],
       "_model_module": "@jupyter-widgets/controls",
       "_model_module_version": "1.5.0",
       "_model_name": "HBoxModel",
       "_view_count": null,
       "_view_module": "@jupyter-widgets/controls",
       "_view_module_version": "1.5.0",
       "_view_name": "HBoxView",
       "box_style": "",
       "children": [
        "IPY_MODEL_458f72910f294144990394d7664f542f",
        "IPY_MODEL_7ee89531b9964f2688c6972afffcff3f",
        "IPY_MODEL_f1da33e752374b2bb4204b2c5c4500f5"
       ],
       "layout": "IPY_MODEL_af398d42a5a942c9bb5453f7a739920a"
      }
     },
     "32d333c90301413997b8c19edd3103bc": {
      "model_module": "@jupyter-widgets/controls",
      "model_module_version": "1.5.0",
      "model_name": "DescriptionStyleModel",
      "state": {
       "_model_module": "@jupyter-widgets/controls",
       "_model_module_version": "1.5.0",
       "_model_name": "DescriptionStyleModel",
       "_view_count": null,
       "_view_module": "@jupyter-widgets/base",
       "_view_module_version": "1.2.0",
       "_view_name": "StyleView",
       "description_width": ""
      }
     },
     "458f72910f294144990394d7664f542f": {
      "model_module": "@jupyter-widgets/controls",
      "model_module_version": "1.5.0",
      "model_name": "HTMLModel",
      "state": {
       "_dom_classes": [],
       "_model_module": "@jupyter-widgets/controls",
       "_model_module_version": "1.5.0",
       "_model_name": "HTMLModel",
       "_view_count": null,
       "_view_module": "@jupyter-widgets/controls",
       "_view_module_version": "1.5.0",
       "_view_name": "HTMLView",
       "description": "",
       "description_tooltip": null,
       "layout": "IPY_MODEL_26e1d5355c5e45ae8bd95a9595de1165",
       "placeholder": "​",
       "style": "IPY_MODEL_32d333c90301413997b8c19edd3103bc",
       "value": "100%"
      }
     },
     "7ee89531b9964f2688c6972afffcff3f": {
      "model_module": "@jupyter-widgets/controls",
      "model_module_version": "1.5.0",
      "model_name": "FloatProgressModel",
      "state": {
       "_dom_classes": [],
       "_model_module": "@jupyter-widgets/controls",
       "_model_module_version": "1.5.0",
       "_model_name": "FloatProgressModel",
       "_view_count": null,
       "_view_module": "@jupyter-widgets/controls",
       "_view_module_version": "1.5.0",
       "_view_name": "ProgressView",
       "bar_style": "success",
       "description": "",
       "description_tooltip": null,
       "layout": "IPY_MODEL_95cfbfc5f190444285367675c1faaee9",
       "max": 32342954.0,
       "min": 0.0,
       "orientation": "horizontal",
       "style": "IPY_MODEL_a79c533501244fd1ac00eca6885f3eea",
       "value": 32342954.0
      }
     },
     "95cfbfc5f190444285367675c1faaee9": {
      "model_module": "@jupyter-widgets/base",
      "model_module_version": "1.2.0",
      "model_name": "LayoutModel",
      "state": {
       "_model_module": "@jupyter-widgets/base",
       "_model_module_version": "1.2.0",
       "_model_name": "LayoutModel",
       "_view_count": null,
       "_view_module": "@jupyter-widgets/base",
       "_view_module_version": "1.2.0",
       "_view_name": "LayoutView",
       "align_content": null,
       "align_items": null,
       "align_self": null,
       "border": null,
       "bottom": null,
       "display": null,
       "flex": null,
       "flex_flow": null,
       "grid_area": null,
       "grid_auto_columns": null,
       "grid_auto_flow": null,
       "grid_auto_rows": null,
       "grid_column": null,
       "grid_gap": null,
       "grid_row": null,
       "grid_template_areas": null,
       "grid_template_columns": null,
       "grid_template_rows": null,
       "height": null,
       "justify_content": null,
       "justify_items": null,
       "left": null,
       "margin": null,
       "max_height": null,
       "max_width": null,
       "min_height": null,
       "min_width": null,
       "object_fit": null,
       "object_position": null,
       "order": null,
       "overflow": null,
       "overflow_x": null,
       "overflow_y": null,
       "padding": null,
       "right": null,
       "top": null,
       "visibility": null,
       "width": null
      }
     },
     "a79c533501244fd1ac00eca6885f3eea": {
      "model_module": "@jupyter-widgets/controls",
      "model_module_version": "1.5.0",
      "model_name": "ProgressStyleModel",
      "state": {
       "_model_module": "@jupyter-widgets/controls",
       "_model_module_version": "1.5.0",
       "_model_name": "ProgressStyleModel",
       "_view_count": null,
       "_view_module": "@jupyter-widgets/base",
       "_view_module_version": "1.2.0",
       "_view_name": "StyleView",
       "bar_color": null,
       "description_width": ""
      }
     },
     "af398d42a5a942c9bb5453f7a739920a": {
      "model_module": "@jupyter-widgets/base",
      "model_module_version": "1.2.0",
      "model_name": "LayoutModel",
      "state": {
       "_model_module": "@jupyter-widgets/base",
       "_model_module_version": "1.2.0",
       "_model_name": "LayoutModel",
       "_view_count": null,
       "_view_module": "@jupyter-widgets/base",
       "_view_module_version": "1.2.0",
       "_view_name": "LayoutView",
       "align_content": null,
       "align_items": null,
       "align_self": null,
       "border": null,
       "bottom": null,
       "display": null,
       "flex": null,
       "flex_flow": null,
       "grid_area": null,
       "grid_auto_columns": null,
       "grid_auto_flow": null,
       "grid_auto_rows": null,
       "grid_column": null,
       "grid_gap": null,
       "grid_row": null,
       "grid_template_areas": null,
       "grid_template_columns": null,
       "grid_template_rows": null,
       "height": null,
       "justify_content": null,
       "justify_items": null,
       "left": null,
       "margin": null,
       "max_height": null,
       "max_width": null,
       "min_height": null,
       "min_width": null,
       "object_fit": null,
       "object_position": null,
       "order": null,
       "overflow": null,
       "overflow_x": null,
       "overflow_y": null,
       "padding": null,
       "right": null,
       "top": null,
       "visibility": null,
       "width": null
      }
     },
     "cf4253bd42484194a327b3979772c229": {
      "model_module": "@jupyter-widgets/controls",
      "model_module_version": "1.5.0",
      "model_name": "DescriptionStyleModel",
      "state": {
       "_model_module": "@jupyter-widgets/controls",
       "_model_module_version": "1.5.0",
       "_model_name": "DescriptionStyleModel",
       "_view_count": null,
       "_view_module": "@jupyter-widgets/base",
       "_view_module_version": "1.2.0",
       "_view_name": "StyleView",
       "description_width": ""
      }
     },
     "f1da33e752374b2bb4204b2c5c4500f5": {
      "model_module": "@jupyter-widgets/controls",
      "model_module_version": "1.5.0",
      "model_name": "HTMLModel",
      "state": {
       "_dom_classes": [],
       "_model_module": "@jupyter-widgets/controls",
       "_model_module_version": "1.5.0",
       "_model_name": "HTMLModel",
       "_view_count": null,
       "_view_module": "@jupyter-widgets/controls",
       "_view_module_version": "1.5.0",
       "_view_name": "HTMLView",
       "description": "",
       "description_tooltip": null,
       "layout": "IPY_MODEL_f7afff877aba4ca09187e9a95c76cff0",
       "placeholder": "​",
       "style": "IPY_MODEL_cf4253bd42484194a327b3979772c229",
       "value": " 30.8M/30.8M [00:02&lt;00:00, 23.0MB/s]"
      }
     },
     "f7afff877aba4ca09187e9a95c76cff0": {
      "model_module": "@jupyter-widgets/base",
      "model_module_version": "1.2.0",
      "model_name": "LayoutModel",
      "state": {
       "_model_module": "@jupyter-widgets/base",
       "_model_module_version": "1.2.0",
       "_model_name": "LayoutModel",
       "_view_count": null,
       "_view_module": "@jupyter-widgets/base",
       "_view_module_version": "1.2.0",
       "_view_name": "LayoutView",
       "align_content": null,
       "align_items": null,
       "align_self": null,
       "border": null,
       "bottom": null,
       "display": null,
       "flex": null,
       "flex_flow": null,
       "grid_area": null,
       "grid_auto_columns": null,
       "grid_auto_flow": null,
       "grid_auto_rows": null,
       "grid_column": null,
       "grid_gap": null,
       "grid_row": null,
       "grid_template_areas": null,
       "grid_template_columns": null,
       "grid_template_rows": null,
       "height": null,
       "justify_content": null,
       "justify_items": null,
       "left": null,
       "margin": null,
       "max_height": null,
       "max_width": null,
       "min_height": null,
       "min_width": null,
       "object_fit": null,
       "object_position": null,
       "order": null,
       "overflow": null,
       "overflow_x": null,
       "overflow_y": null,
       "padding": null,
       "right": null,
       "top": null,
       "visibility": null,
       "width": null
      }
     }
    },
    "version_major": 2,
    "version_minor": 0
   }
  }
 },
 "nbformat": 4,
 "nbformat_minor": 4
}
